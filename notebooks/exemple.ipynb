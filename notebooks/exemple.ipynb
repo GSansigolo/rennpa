{
 "cells": [
  {
   "cell_type": "code",
   "execution_count": 1,
   "metadata": {},
   "outputs": [],
   "source": [
    "from rennpa import *"
   ]
  },
  {
   "cell_type": "code",
   "execution_count": 2,
   "metadata": {},
   "outputs": [],
   "source": [
    "raw_csv = \"input.csv\""
   ]
  },
  {
   "cell_type": "code",
   "execution_count": 3,
   "metadata": {},
   "outputs": [],
   "source": [
    "#shuffle_data(input=raw_csv, output=\"input.csv\")"
   ]
  },
  {
   "cell_type": "code",
   "execution_count": 4,
   "metadata": {},
   "outputs": [],
   "source": [
    "cube = dict(\n",
    "    collection=\"S2-16D-2\",\n",
    "    start_date=\"2023-01-01\",\n",
    "    end_date=\"2023-12-31\",\n",
    "    freq='16D',\n",
    "    bands=[\"B02\", \"B03\", \"B04\", \"B08\", \"NDVI\", \"EVI\", \"NBR\"]\n",
    ")"
   ]
  },
  {
   "cell_type": "code",
   "execution_count": 5,
   "metadata": {},
   "outputs": [],
   "source": [
    "#ts = rennpa_get_timeseries(cube, input=\"input.csv\",output=\"timeseries.json\")"
   ]
  },
  {
   "cell_type": "code",
   "execution_count": 6,
   "metadata": {},
   "outputs": [],
   "source": [
    "ts = rennpa_open_ts_json(input=\"timeseries.json\")"
   ]
  },
  {
   "cell_type": "code",
   "execution_count": 7,
   "metadata": {},
   "outputs": [],
   "source": [
    "indicies = dict(\n",
    "    OSAVI = rennpa_create_indicies(formula=\"OSAVI\", bands=dict(NIR=\"B08\", RED=\"B04\"), timeseries=ts),\n",
    "    NDWI =  rennpa_create_indicies(formula=\"NDWI\", bands=dict(NIR=\"B08\", GREEN=\"B03\"), timeseries=ts),\n",
    "    RECI = rennpa_create_indicies(formula=\"RECI\", bands=dict(NIR=\"B08\", RED=\"B04\"), timeseries=ts)\n",
    ")"
   ]
  },
  {
   "cell_type": "code",
   "execution_count": 8,
   "metadata": {},
   "outputs": [],
   "source": [
    "df = rennpa_dataframe(timeseries=ts, input_csv=\"input.csv\", indicies=indicies)"
   ]
  },
  {
   "cell_type": "code",
   "execution_count": 9,
   "metadata": {},
   "outputs": [],
   "source": [
    "labels = {319: 0, 320: 1, 321: 2, 323: 3, 324: 4, 325: 5, 326: 6, 327: 7, 328: 8}"
   ]
  },
  {
   "cell_type": "code",
   "execution_count": 10,
   "metadata": {},
   "outputs": [],
   "source": [
    "df['label'] = [labels[x] for x in df['label'].to_numpy()]"
   ]
  },
  {
   "cell_type": "code",
   "execution_count": 11,
   "metadata": {},
   "outputs": [
    {
     "data": {
      "text/html": [
       "<div>\n",
       "<style scoped>\n",
       "    .dataframe tbody tr th:only-of-type {\n",
       "        vertical-align: middle;\n",
       "    }\n",
       "\n",
       "    .dataframe tbody tr th {\n",
       "        vertical-align: top;\n",
       "    }\n",
       "\n",
       "    .dataframe thead th {\n",
       "        text-align: right;\n",
       "    }\n",
       "</style>\n",
       "<table border=\"1\" class=\"dataframe\">\n",
       "  <thead>\n",
       "    <tr style=\"text-align: right;\">\n",
       "      <th></th>\n",
       "      <th>B02</th>\n",
       "      <th>B03</th>\n",
       "      <th>B04</th>\n",
       "      <th>B08</th>\n",
       "      <th>NDVI</th>\n",
       "      <th>OSAVI</th>\n",
       "      <th>NDWI</th>\n",
       "      <th>RECI</th>\n",
       "      <th>label</th>\n",
       "    </tr>\n",
       "  </thead>\n",
       "  <tbody>\n",
       "    <tr>\n",
       "      <th>0</th>\n",
       "      <td>[365, 5527, 808, 572, 453, 443, 1554, 360, 371...</td>\n",
       "      <td>[387, 5054, 943, 767, 652, 597, 1527, 588, 560...</td>\n",
       "      <td>[370, 4459, 855, 731, 630, 611, 1324, 531, 551...</td>\n",
       "      <td>[848, 5211, 2773, 2340, 2208, 2104, 3193, 2025...</td>\n",
       "      <td>[4762, 733, 5601, 5576, 5899, 5764, 4413, 6150...</td>\n",
       "      <td>[0.392395087673212, 0.07776500078592288, 0.528...</td>\n",
       "      <td>[-0.37327935222672065, -0.015294690696541647, ...</td>\n",
       "      <td>[2.2857142857142856, 1.1683856502242151, 3.239...</td>\n",
       "      <td>2</td>\n",
       "    </tr>\n",
       "    <tr>\n",
       "      <th>1</th>\n",
       "      <td>[558, 1763, 4753, 908, 1095, 474, 493, 507, 51...</td>\n",
       "      <td>[1002, 2080, 4385, 881, 1347, 777, 753, 734, 7...</td>\n",
       "      <td>[688, 1892, 4031, 571, 1058, 672, 679, 787, 84...</td>\n",
       "      <td>[4092, 4316, 5218, 2793, 3752, 3084, 2952, 280...</td>\n",
       "      <td>[7354, 4168, 1424, 6659, 5889, 6680, 6528, 584...</td>\n",
       "      <td>[0.71211005489356, 0.39045385428210616, 0.1283...</td>\n",
       "      <td>[-0.6065959952885748, -0.34959349593495936, -0...</td>\n",
       "      <td>[5.939042089985486, 2.2799788695192817, 1.2941...</td>\n",
       "      <td>1</td>\n",
       "    </tr>\n",
       "    <tr>\n",
       "      <th>2</th>\n",
       "      <td>[493, 486, 439, 327, 608, 422, 326, 329, 460, ...</td>\n",
       "      <td>[902, 871, 763, 663, 766, 730, 664, 721, 752, ...</td>\n",
       "      <td>[864, 937, 799, 725, 691, 983, 594, 627, 959, ...</td>\n",
       "      <td>[3040, 2821, 2721, 2498, 2022, 2215, 2930, 284...</td>\n",
       "      <td>[5914, 5421, 5871, 5938, 5263, 4369, 6793, 654...</td>\n",
       "      <td>[0.5573542067948035, 0.5013091512868, 0.545997...</td>\n",
       "      <td>[-0.5423642820903095, -0.528169014084507, -0.5...</td>\n",
       "      <td>[3.514450867052023, 3.0074626865671643, 3.4012...</td>\n",
       "      <td>1</td>\n",
       "    </tr>\n",
       "    <tr>\n",
       "      <th>3</th>\n",
       "      <td>[3618, 346, 352, 377, 478, 386, 414, 359, 392,...</td>\n",
       "      <td>[3446, 618, 655, 628, 702, 647, 638, 627, 636,...</td>\n",
       "      <td>[3185, 631, 562, 594, 650, 659, 634, 649, 709,...</td>\n",
       "      <td>[3688, 1925, 2223, 2141, 2209, 2162, 2102, 206...</td>\n",
       "      <td>[1016, 5417, 6370, 6002, 5871, 5663, 5764, 556...</td>\n",
       "      <td>[0.07318322285528055, 0.5062280921382073, 0.59...</td>\n",
       "      <td>[-0.03392206335856462, -0.5139598898938262, -0...</td>\n",
       "      <td>[1.157564344005022, 3.045886075949367, 3.94849...</td>\n",
       "      <td>2</td>\n",
       "    </tr>\n",
       "    <tr>\n",
       "      <th>4</th>\n",
       "      <td>[1147, 271, 410, 425, 292, 313, 261, 316, 321,...</td>\n",
       "      <td>[1306, 502, 632, 650, 578, 706, 662, 681, 540,...</td>\n",
       "      <td>[1101, 339, 996, 981, 429, 499, 430, 824, 1008...</td>\n",
       "      <td>[3965, 2814, 1687, 2018, 2803, 3218, 3120, 247...</td>\n",
       "      <td>[5775, 8004, 3373, 4132, 7597, 7516, 7789, 552...</td>\n",
       "      <td>[0.5653196898637233, 0.7849268670159459, 0.257...</td>\n",
       "      <td>[-0.5044583570479985, -0.6972255729794934, -0....</td>\n",
       "      <td>[3.598003629764065, 8.276470588235295, 1.69207...</td>\n",
       "      <td>5</td>\n",
       "    </tr>\n",
       "  </tbody>\n",
       "</table>\n",
       "</div>"
      ],
      "text/plain": [
       "                                                 B02  \\\n",
       "0  [365, 5527, 808, 572, 453, 443, 1554, 360, 371...   \n",
       "1  [558, 1763, 4753, 908, 1095, 474, 493, 507, 51...   \n",
       "2  [493, 486, 439, 327, 608, 422, 326, 329, 460, ...   \n",
       "3  [3618, 346, 352, 377, 478, 386, 414, 359, 392,...   \n",
       "4  [1147, 271, 410, 425, 292, 313, 261, 316, 321,...   \n",
       "\n",
       "                                                 B03  \\\n",
       "0  [387, 5054, 943, 767, 652, 597, 1527, 588, 560...   \n",
       "1  [1002, 2080, 4385, 881, 1347, 777, 753, 734, 7...   \n",
       "2  [902, 871, 763, 663, 766, 730, 664, 721, 752, ...   \n",
       "3  [3446, 618, 655, 628, 702, 647, 638, 627, 636,...   \n",
       "4  [1306, 502, 632, 650, 578, 706, 662, 681, 540,...   \n",
       "\n",
       "                                                 B04  \\\n",
       "0  [370, 4459, 855, 731, 630, 611, 1324, 531, 551...   \n",
       "1  [688, 1892, 4031, 571, 1058, 672, 679, 787, 84...   \n",
       "2  [864, 937, 799, 725, 691, 983, 594, 627, 959, ...   \n",
       "3  [3185, 631, 562, 594, 650, 659, 634, 649, 709,...   \n",
       "4  [1101, 339, 996, 981, 429, 499, 430, 824, 1008...   \n",
       "\n",
       "                                                 B08  \\\n",
       "0  [848, 5211, 2773, 2340, 2208, 2104, 3193, 2025...   \n",
       "1  [4092, 4316, 5218, 2793, 3752, 3084, 2952, 280...   \n",
       "2  [3040, 2821, 2721, 2498, 2022, 2215, 2930, 284...   \n",
       "3  [3688, 1925, 2223, 2141, 2209, 2162, 2102, 206...   \n",
       "4  [3965, 2814, 1687, 2018, 2803, 3218, 3120, 247...   \n",
       "\n",
       "                                                NDVI  \\\n",
       "0  [4762, 733, 5601, 5576, 5899, 5764, 4413, 6150...   \n",
       "1  [7354, 4168, 1424, 6659, 5889, 6680, 6528, 584...   \n",
       "2  [5914, 5421, 5871, 5938, 5263, 4369, 6793, 654...   \n",
       "3  [1016, 5417, 6370, 6002, 5871, 5663, 5764, 556...   \n",
       "4  [5775, 8004, 3373, 4132, 7597, 7516, 7789, 552...   \n",
       "\n",
       "                                               OSAVI  \\\n",
       "0  [0.392395087673212, 0.07776500078592288, 0.528...   \n",
       "1  [0.71211005489356, 0.39045385428210616, 0.1283...   \n",
       "2  [0.5573542067948035, 0.5013091512868, 0.545997...   \n",
       "3  [0.07318322285528055, 0.5062280921382073, 0.59...   \n",
       "4  [0.5653196898637233, 0.7849268670159459, 0.257...   \n",
       "\n",
       "                                                NDWI  \\\n",
       "0  [-0.37327935222672065, -0.015294690696541647, ...   \n",
       "1  [-0.6065959952885748, -0.34959349593495936, -0...   \n",
       "2  [-0.5423642820903095, -0.528169014084507, -0.5...   \n",
       "3  [-0.03392206335856462, -0.5139598898938262, -0...   \n",
       "4  [-0.5044583570479985, -0.6972255729794934, -0....   \n",
       "\n",
       "                                                RECI  label  \n",
       "0  [2.2857142857142856, 1.1683856502242151, 3.239...      2  \n",
       "1  [5.939042089985486, 2.2799788695192817, 1.2941...      1  \n",
       "2  [3.514450867052023, 3.0074626865671643, 3.4012...      1  \n",
       "3  [1.157564344005022, 3.045886075949367, 3.94849...      2  \n",
       "4  [3.598003629764065, 8.276470588235295, 1.69207...      5  "
      ]
     },
     "execution_count": 11,
     "metadata": {},
     "output_type": "execute_result"
    }
   ],
   "source": [
    "df.head()"
   ]
  },
  {
   "cell_type": "code",
   "execution_count": 12,
   "metadata": {},
   "outputs": [],
   "source": [
    "train, val = rennpa_split(df, 0.8)\n",
    "      \n",
    "train_ds = TimeseriesDataset(train)\n",
    "val_ds = TimeseriesDataset(val)"
   ]
  },
  {
   "cell_type": "code",
   "execution_count": 13,
   "metadata": {},
   "outputs": [],
   "source": [
    "input_size = 23\n",
    "hidden_size = 8\n",
    "num_layers = 3\n",
    "output_size = 9"
   ]
  },
  {
   "cell_type": "code",
   "execution_count": 14,
   "metadata": {},
   "outputs": [],
   "source": [
    "model = rennpa_lstm(input_size, hidden_size, num_layers, output_size)"
   ]
  },
  {
   "cell_type": "code",
   "execution_count": 15,
   "metadata": {},
   "outputs": [],
   "source": [
    "criterion = rennpa_crossentropyloss()\n",
    "optimizer = rennpa_adam(model.parameters(),lr=0.001)"
   ]
  },
  {
   "cell_type": "code",
   "execution_count": 16,
   "metadata": {},
   "outputs": [
    {
     "name": "stderr",
     "output_type": "stream",
     "text": [
      "100%|██████████| 153/153 [00:02<00:00, 52.44it/s]\n",
      "  1%|          | 1/100 [00:02<04:48,  2.92s/it]"
     ]
    },
    {
     "name": "stdout",
     "output_type": "stream",
     "text": [
      "Epoch 0, Loss: 1.905357232280806\n"
     ]
    },
    {
     "name": "stderr",
     "output_type": "stream",
     "text": [
      "100%|██████████| 153/153 [00:03<00:00, 48.18it/s]\n",
      "  2%|▏         | 2/100 [00:06<05:00,  3.07s/it]"
     ]
    },
    {
     "name": "stdout",
     "output_type": "stream",
     "text": [
      "Epoch 1, Loss: 1.672812167335959\n"
     ]
    },
    {
     "name": "stderr",
     "output_type": "stream",
     "text": [
      "100%|██████████| 153/153 [00:03<00:00, 48.29it/s]\n",
      "  3%|▎         | 3/100 [00:09<05:02,  3.12s/it]"
     ]
    },
    {
     "name": "stdout",
     "output_type": "stream",
     "text": [
      "Epoch 2, Loss: 1.605473577586654\n"
     ]
    },
    {
     "name": "stderr",
     "output_type": "stream",
     "text": [
      "100%|██████████| 153/153 [00:02<00:00, 52.14it/s]\n",
      "  4%|▍         | 4/100 [00:12<04:52,  3.05s/it]"
     ]
    },
    {
     "name": "stdout",
     "output_type": "stream",
     "text": [
      "Epoch 3, Loss: 1.4726237557292763\n"
     ]
    },
    {
     "name": "stderr",
     "output_type": "stream",
     "text": [
      "100%|██████████| 153/153 [00:03<00:00, 47.24it/s]\n",
      "  5%|▌         | 5/100 [00:15<04:55,  3.12s/it]"
     ]
    },
    {
     "name": "stdout",
     "output_type": "stream",
     "text": [
      "Epoch 4, Loss: 1.3797596529418348\n"
     ]
    },
    {
     "name": "stderr",
     "output_type": "stream",
     "text": [
      "100%|██████████| 153/153 [00:02<00:00, 51.85it/s]\n",
      "  6%|▌         | 6/100 [00:18<04:47,  3.06s/it]"
     ]
    },
    {
     "name": "stdout",
     "output_type": "stream",
     "text": [
      "Epoch 5, Loss: 1.3102243266074487\n"
     ]
    },
    {
     "name": "stderr",
     "output_type": "stream",
     "text": [
      "100%|██████████| 153/153 [00:03<00:00, 49.68it/s]\n",
      "  7%|▋         | 7/100 [00:21<04:45,  3.07s/it]"
     ]
    },
    {
     "name": "stdout",
     "output_type": "stream",
     "text": [
      "Epoch 6, Loss: 1.2557363291971044\n"
     ]
    },
    {
     "name": "stderr",
     "output_type": "stream",
     "text": [
      "100%|██████████| 153/153 [00:02<00:00, 52.33it/s]\n",
      "  8%|▊         | 8/100 [00:24<04:38,  3.02s/it]"
     ]
    },
    {
     "name": "stdout",
     "output_type": "stream",
     "text": [
      "Epoch 7, Loss: 1.2015160361146615\n"
     ]
    },
    {
     "name": "stderr",
     "output_type": "stream",
     "text": [
      "100%|██████████| 153/153 [00:03<00:00, 49.88it/s]\n",
      "  9%|▉         | 9/100 [00:27<04:36,  3.04s/it]"
     ]
    },
    {
     "name": "stdout",
     "output_type": "stream",
     "text": [
      "Epoch 8, Loss: 1.1588976196214265\n"
     ]
    },
    {
     "name": "stderr",
     "output_type": "stream",
     "text": [
      "100%|██████████| 153/153 [00:03<00:00, 49.18it/s]\n",
      " 10%|█         | 10/100 [00:30<04:35,  3.06s/it]"
     ]
    },
    {
     "name": "stdout",
     "output_type": "stream",
     "text": [
      "Epoch 9, Loss: 1.123321498920715\n"
     ]
    },
    {
     "name": "stderr",
     "output_type": "stream",
     "text": [
      "100%|██████████| 153/153 [00:03<00:00, 48.66it/s]\n",
      " 11%|█         | 11/100 [00:33<04:34,  3.09s/it]"
     ]
    },
    {
     "name": "stdout",
     "output_type": "stream",
     "text": [
      "Epoch 10, Loss: 1.1140294004889095\n"
     ]
    },
    {
     "name": "stderr",
     "output_type": "stream",
     "text": [
      "100%|██████████| 153/153 [00:03<00:00, 49.70it/s]\n",
      " 12%|█▏        | 12/100 [00:36<04:31,  3.08s/it]"
     ]
    },
    {
     "name": "stdout",
     "output_type": "stream",
     "text": [
      "Epoch 11, Loss: 1.0924301887649337\n"
     ]
    },
    {
     "name": "stderr",
     "output_type": "stream",
     "text": [
      "100%|██████████| 153/153 [00:02<00:00, 51.60it/s]\n",
      " 13%|█▎        | 13/100 [00:39<04:25,  3.05s/it]"
     ]
    },
    {
     "name": "stdout",
     "output_type": "stream",
     "text": [
      "Epoch 12, Loss: 1.085075293880662\n"
     ]
    },
    {
     "name": "stderr",
     "output_type": "stream",
     "text": [
      "100%|██████████| 153/153 [00:02<00:00, 51.88it/s]\n",
      " 14%|█▍        | 14/100 [00:42<04:19,  3.02s/it]"
     ]
    },
    {
     "name": "stdout",
     "output_type": "stream",
     "text": [
      "Epoch 13, Loss: 1.0759520978709451\n"
     ]
    },
    {
     "name": "stderr",
     "output_type": "stream",
     "text": [
      "100%|██████████| 153/153 [00:03<00:00, 50.33it/s]\n",
      " 15%|█▌        | 15/100 [00:45<04:17,  3.03s/it]"
     ]
    },
    {
     "name": "stdout",
     "output_type": "stream",
     "text": [
      "Epoch 14, Loss: 1.0667358177160127\n"
     ]
    },
    {
     "name": "stderr",
     "output_type": "stream",
     "text": [
      "100%|██████████| 153/153 [00:02<00:00, 52.57it/s]\n",
      " 16%|█▌        | 16/100 [00:48<04:11,  2.99s/it]"
     ]
    },
    {
     "name": "stdout",
     "output_type": "stream",
     "text": [
      "Epoch 15, Loss: 1.0515733509281882\n"
     ]
    },
    {
     "name": "stderr",
     "output_type": "stream",
     "text": [
      "100%|██████████| 153/153 [00:03<00:00, 48.82it/s]\n",
      " 17%|█▋        | 17/100 [00:51<04:11,  3.04s/it]"
     ]
    },
    {
     "name": "stdout",
     "output_type": "stream",
     "text": [
      "Epoch 16, Loss: 1.0459557444441552\n"
     ]
    },
    {
     "name": "stderr",
     "output_type": "stream",
     "text": [
      "100%|██████████| 153/153 [00:03<00:00, 47.25it/s]\n",
      " 18%|█▊        | 18/100 [00:55<04:13,  3.10s/it]"
     ]
    },
    {
     "name": "stdout",
     "output_type": "stream",
     "text": [
      "Epoch 17, Loss: 1.0369303678375443\n"
     ]
    },
    {
     "name": "stderr",
     "output_type": "stream",
     "text": [
      "100%|██████████| 153/153 [00:02<00:00, 51.95it/s]\n",
      " 19%|█▉        | 19/100 [00:58<04:07,  3.05s/it]"
     ]
    },
    {
     "name": "stdout",
     "output_type": "stream",
     "text": [
      "Epoch 18, Loss: 1.0228217018196006\n"
     ]
    },
    {
     "name": "stderr",
     "output_type": "stream",
     "text": [
      "100%|██████████| 153/153 [00:02<00:00, 51.35it/s]\n",
      " 20%|██        | 20/100 [01:00<04:02,  3.03s/it]"
     ]
    },
    {
     "name": "stdout",
     "output_type": "stream",
     "text": [
      "Epoch 19, Loss: 1.0152337052463707\n"
     ]
    },
    {
     "name": "stderr",
     "output_type": "stream",
     "text": [
      "100%|██████████| 153/153 [00:03<00:00, 50.97it/s]\n",
      " 21%|██        | 21/100 [01:03<03:58,  3.02s/it]"
     ]
    },
    {
     "name": "stdout",
     "output_type": "stream",
     "text": [
      "Epoch 20, Loss: 1.0086814441712073\n"
     ]
    },
    {
     "name": "stderr",
     "output_type": "stream",
     "text": [
      "100%|██████████| 153/153 [00:03<00:00, 48.80it/s]\n",
      " 22%|██▏       | 22/100 [01:07<03:58,  3.06s/it]"
     ]
    },
    {
     "name": "stdout",
     "output_type": "stream",
     "text": [
      "Epoch 21, Loss: 1.0115910421789083\n"
     ]
    },
    {
     "name": "stderr",
     "output_type": "stream",
     "text": [
      "100%|██████████| 153/153 [00:03<00:00, 45.06it/s]\n",
      " 23%|██▎       | 23/100 [01:10<04:03,  3.16s/it]"
     ]
    },
    {
     "name": "stdout",
     "output_type": "stream",
     "text": [
      "Epoch 22, Loss: 1.0075646557059943\n"
     ]
    },
    {
     "name": "stderr",
     "output_type": "stream",
     "text": [
      "100%|██████████| 153/153 [00:03<00:00, 47.93it/s]\n",
      " 24%|██▍       | 24/100 [01:13<04:00,  3.17s/it]"
     ]
    },
    {
     "name": "stdout",
     "output_type": "stream",
     "text": [
      "Epoch 23, Loss: 1.004903441550685\n"
     ]
    },
    {
     "name": "stderr",
     "output_type": "stream",
     "text": [
      "100%|██████████| 153/153 [00:03<00:00, 49.90it/s]\n",
      " 25%|██▌       | 25/100 [01:16<03:55,  3.14s/it]"
     ]
    },
    {
     "name": "stdout",
     "output_type": "stream",
     "text": [
      "Epoch 24, Loss: 0.9957995960135865\n"
     ]
    },
    {
     "name": "stderr",
     "output_type": "stream",
     "text": [
      "100%|██████████| 153/153 [00:03<00:00, 49.07it/s]\n",
      " 26%|██▌       | 26/100 [01:19<03:51,  3.13s/it]"
     ]
    },
    {
     "name": "stdout",
     "output_type": "stream",
     "text": [
      "Epoch 25, Loss: 0.9971948756891138\n"
     ]
    },
    {
     "name": "stderr",
     "output_type": "stream",
     "text": [
      "100%|██████████| 153/153 [00:03<00:00, 48.79it/s]\n",
      " 27%|██▋       | 27/100 [01:23<03:48,  3.14s/it]"
     ]
    },
    {
     "name": "stdout",
     "output_type": "stream",
     "text": [
      "Epoch 26, Loss: 0.9831514639012954\n"
     ]
    },
    {
     "name": "stderr",
     "output_type": "stream",
     "text": [
      "100%|██████████| 153/153 [00:03<00:00, 49.19it/s]\n",
      " 28%|██▊       | 28/100 [01:26<03:45,  3.13s/it]"
     ]
    },
    {
     "name": "stdout",
     "output_type": "stream",
     "text": [
      "Epoch 27, Loss: 0.9700682081428229\n"
     ]
    },
    {
     "name": "stderr",
     "output_type": "stream",
     "text": [
      "100%|██████████| 153/153 [00:03<00:00, 48.13it/s]\n",
      " 29%|██▉       | 29/100 [01:29<03:43,  3.14s/it]"
     ]
    },
    {
     "name": "stdout",
     "output_type": "stream",
     "text": [
      "Epoch 28, Loss: 0.9646505764107299\n"
     ]
    },
    {
     "name": "stderr",
     "output_type": "stream",
     "text": [
      "100%|██████████| 153/153 [00:03<00:00, 48.28it/s]\n",
      " 30%|███       | 30/100 [01:32<03:40,  3.15s/it]"
     ]
    },
    {
     "name": "stdout",
     "output_type": "stream",
     "text": [
      "Epoch 29, Loss: 0.959189164872263\n"
     ]
    },
    {
     "name": "stderr",
     "output_type": "stream",
     "text": [
      "100%|██████████| 153/153 [00:03<00:00, 48.76it/s]\n",
      " 31%|███       | 31/100 [01:35<03:37,  3.15s/it]"
     ]
    },
    {
     "name": "stdout",
     "output_type": "stream",
     "text": [
      "Epoch 30, Loss: 0.9620620471979279\n"
     ]
    },
    {
     "name": "stderr",
     "output_type": "stream",
     "text": [
      "100%|██████████| 153/153 [00:03<00:00, 48.19it/s]\n",
      " 32%|███▏      | 32/100 [01:38<03:34,  3.16s/it]"
     ]
    },
    {
     "name": "stdout",
     "output_type": "stream",
     "text": [
      "Epoch 31, Loss: 0.9608601674534916\n"
     ]
    },
    {
     "name": "stderr",
     "output_type": "stream",
     "text": [
      "100%|██████████| 153/153 [00:03<00:00, 46.42it/s]\n",
      " 33%|███▎      | 33/100 [01:42<03:34,  3.20s/it]"
     ]
    },
    {
     "name": "stdout",
     "output_type": "stream",
     "text": [
      "Epoch 32, Loss: 0.9518102547701668\n"
     ]
    },
    {
     "name": "stderr",
     "output_type": "stream",
     "text": [
      "100%|██████████| 153/153 [00:03<00:00, 43.24it/s]\n",
      " 34%|███▍      | 34/100 [01:45<03:37,  3.30s/it]"
     ]
    },
    {
     "name": "stdout",
     "output_type": "stream",
     "text": [
      "Epoch 33, Loss: 0.9459403539015576\n"
     ]
    },
    {
     "name": "stderr",
     "output_type": "stream",
     "text": [
      "100%|██████████| 153/153 [00:03<00:00, 46.29it/s]\n",
      " 35%|███▌      | 35/100 [01:48<03:34,  3.30s/it]"
     ]
    },
    {
     "name": "stdout",
     "output_type": "stream",
     "text": [
      "Epoch 34, Loss: 0.9389537011875826\n"
     ]
    },
    {
     "name": "stderr",
     "output_type": "stream",
     "text": [
      "100%|██████████| 153/153 [00:03<00:00, 46.44it/s]\n",
      " 36%|███▌      | 36/100 [01:52<03:31,  3.30s/it]"
     ]
    },
    {
     "name": "stdout",
     "output_type": "stream",
     "text": [
      "Epoch 35, Loss: 0.9329527156804901\n"
     ]
    },
    {
     "name": "stderr",
     "output_type": "stream",
     "text": [
      "100%|██████████| 153/153 [00:03<00:00, 46.42it/s]\n",
      " 37%|███▋      | 37/100 [01:55<03:27,  3.30s/it]"
     ]
    },
    {
     "name": "stdout",
     "output_type": "stream",
     "text": [
      "Epoch 36, Loss: 0.9265613544221017\n"
     ]
    },
    {
     "name": "stderr",
     "output_type": "stream",
     "text": [
      "100%|██████████| 153/153 [00:03<00:00, 46.35it/s]\n",
      " 38%|███▊      | 38/100 [01:58<03:24,  3.30s/it]"
     ]
    },
    {
     "name": "stdout",
     "output_type": "stream",
     "text": [
      "Epoch 37, Loss: 0.9260885205144197\n"
     ]
    },
    {
     "name": "stderr",
     "output_type": "stream",
     "text": [
      "100%|██████████| 153/153 [00:03<00:00, 44.26it/s]\n",
      " 39%|███▉      | 39/100 [02:02<03:24,  3.35s/it]"
     ]
    },
    {
     "name": "stdout",
     "output_type": "stream",
     "text": [
      "Epoch 38, Loss: 0.9193663639959946\n"
     ]
    },
    {
     "name": "stderr",
     "output_type": "stream",
     "text": [
      "100%|██████████| 153/153 [00:03<00:00, 48.09it/s]\n",
      " 40%|████      | 40/100 [02:05<03:17,  3.30s/it]"
     ]
    },
    {
     "name": "stdout",
     "output_type": "stream",
     "text": [
      "Epoch 39, Loss: 0.9148777754478206\n"
     ]
    },
    {
     "name": "stderr",
     "output_type": "stream",
     "text": [
      "100%|██████████| 153/153 [00:03<00:00, 48.29it/s]\n",
      " 41%|████      | 41/100 [02:08<03:12,  3.26s/it]"
     ]
    },
    {
     "name": "stdout",
     "output_type": "stream",
     "text": [
      "Epoch 40, Loss: 0.9094649471488654\n"
     ]
    },
    {
     "name": "stderr",
     "output_type": "stream",
     "text": [
      "100%|██████████| 153/153 [00:03<00:00, 47.91it/s]\n",
      " 42%|████▏     | 42/100 [02:11<03:07,  3.24s/it]"
     ]
    },
    {
     "name": "stdout",
     "output_type": "stream",
     "text": [
      "Epoch 41, Loss: 0.9032871933544383\n"
     ]
    },
    {
     "name": "stderr",
     "output_type": "stream",
     "text": [
      "100%|██████████| 153/153 [00:03<00:00, 47.68it/s]\n",
      " 43%|████▎     | 43/100 [02:15<03:04,  3.23s/it]"
     ]
    },
    {
     "name": "stdout",
     "output_type": "stream",
     "text": [
      "Epoch 42, Loss: 0.8992854621675279\n"
     ]
    },
    {
     "name": "stderr",
     "output_type": "stream",
     "text": [
      "100%|██████████| 153/153 [00:03<00:00, 47.83it/s]\n",
      " 44%|████▍     | 44/100 [02:18<03:00,  3.22s/it]"
     ]
    },
    {
     "name": "stdout",
     "output_type": "stream",
     "text": [
      "Epoch 43, Loss: 0.8965428662455939\n"
     ]
    },
    {
     "name": "stderr",
     "output_type": "stream",
     "text": [
      "100%|██████████| 153/153 [00:03<00:00, 48.19it/s]\n",
      " 45%|████▌     | 45/100 [02:21<02:56,  3.21s/it]"
     ]
    },
    {
     "name": "stdout",
     "output_type": "stream",
     "text": [
      "Epoch 44, Loss: 0.8960144901587292\n"
     ]
    },
    {
     "name": "stderr",
     "output_type": "stream",
     "text": [
      "100%|██████████| 153/153 [00:03<00:00, 45.51it/s]\n",
      " 46%|████▌     | 46/100 [02:24<02:55,  3.26s/it]"
     ]
    },
    {
     "name": "stdout",
     "output_type": "stream",
     "text": [
      "Epoch 45, Loss: 0.8885088481155097\n"
     ]
    },
    {
     "name": "stderr",
     "output_type": "stream",
     "text": [
      "100%|██████████| 153/153 [00:03<00:00, 46.30it/s]\n",
      " 47%|████▋     | 47/100 [02:28<02:53,  3.27s/it]"
     ]
    },
    {
     "name": "stdout",
     "output_type": "stream",
     "text": [
      "Epoch 46, Loss: 0.8850721190957462\n"
     ]
    },
    {
     "name": "stderr",
     "output_type": "stream",
     "text": [
      "100%|██████████| 153/153 [00:03<00:00, 43.35it/s]\n",
      " 48%|████▊     | 48/100 [02:31<02:54,  3.35s/it]"
     ]
    },
    {
     "name": "stdout",
     "output_type": "stream",
     "text": [
      "Epoch 47, Loss: 0.8839905055519802\n"
     ]
    },
    {
     "name": "stderr",
     "output_type": "stream",
     "text": [
      "100%|██████████| 153/153 [00:03<00:00, 47.53it/s]\n",
      " 49%|████▉     | 49/100 [02:34<02:48,  3.31s/it]"
     ]
    },
    {
     "name": "stdout",
     "output_type": "stream",
     "text": [
      "Epoch 48, Loss: 0.8882615757144354\n"
     ]
    },
    {
     "name": "stderr",
     "output_type": "stream",
     "text": [
      "100%|██████████| 153/153 [00:03<00:00, 46.31it/s]\n",
      " 50%|█████     | 50/100 [02:38<02:45,  3.31s/it]"
     ]
    },
    {
     "name": "stdout",
     "output_type": "stream",
     "text": [
      "Epoch 49, Loss: 0.8845978979191749\n"
     ]
    },
    {
     "name": "stderr",
     "output_type": "stream",
     "text": [
      "100%|██████████| 153/153 [00:03<00:00, 43.14it/s]\n",
      " 51%|█████     | 51/100 [02:41<02:45,  3.38s/it]"
     ]
    },
    {
     "name": "stdout",
     "output_type": "stream",
     "text": [
      "Epoch 50, Loss: 0.8741960155418496\n"
     ]
    },
    {
     "name": "stderr",
     "output_type": "stream",
     "text": [
      "100%|██████████| 153/153 [00:03<00:00, 42.22it/s]\n",
      " 52%|█████▏    | 52/100 [02:45<02:45,  3.45s/it]"
     ]
    },
    {
     "name": "stdout",
     "output_type": "stream",
     "text": [
      "Epoch 51, Loss: 0.8697938720385233\n"
     ]
    },
    {
     "name": "stderr",
     "output_type": "stream",
     "text": [
      "100%|██████████| 153/153 [00:03<00:00, 42.89it/s]\n",
      " 53%|█████▎    | 53/100 [02:48<02:43,  3.49s/it]"
     ]
    },
    {
     "name": "stdout",
     "output_type": "stream",
     "text": [
      "Epoch 52, Loss: 0.8651347674575507\n"
     ]
    },
    {
     "name": "stderr",
     "output_type": "stream",
     "text": [
      "100%|██████████| 153/153 [00:03<00:00, 42.40it/s]\n",
      " 54%|█████▍    | 54/100 [02:52<02:42,  3.53s/it]"
     ]
    },
    {
     "name": "stdout",
     "output_type": "stream",
     "text": [
      "Epoch 53, Loss: 0.8618316151737387\n"
     ]
    },
    {
     "name": "stderr",
     "output_type": "stream",
     "text": [
      "100%|██████████| 153/153 [00:03<00:00, 44.08it/s]\n",
      " 55%|█████▌    | 55/100 [02:56<02:37,  3.51s/it]"
     ]
    },
    {
     "name": "stdout",
     "output_type": "stream",
     "text": [
      "Epoch 54, Loss: 0.8625901754385505\n"
     ]
    },
    {
     "name": "stderr",
     "output_type": "stream",
     "text": [
      "100%|██████████| 153/153 [00:03<00:00, 43.79it/s]\n",
      " 56%|█████▌    | 56/100 [02:59<02:34,  3.51s/it]"
     ]
    },
    {
     "name": "stdout",
     "output_type": "stream",
     "text": [
      "Epoch 55, Loss: 0.8504598366668801\n"
     ]
    },
    {
     "name": "stderr",
     "output_type": "stream",
     "text": [
      "100%|██████████| 153/153 [00:03<00:00, 42.71it/s]\n",
      " 57%|█████▋    | 57/100 [03:03<02:31,  3.53s/it]"
     ]
    },
    {
     "name": "stdout",
     "output_type": "stream",
     "text": [
      "Epoch 56, Loss: 0.8490910397635566\n"
     ]
    },
    {
     "name": "stderr",
     "output_type": "stream",
     "text": [
      "100%|██████████| 153/153 [00:03<00:00, 44.96it/s]\n",
      " 58%|█████▊    | 58/100 [03:06<02:26,  3.49s/it]"
     ]
    },
    {
     "name": "stdout",
     "output_type": "stream",
     "text": [
      "Epoch 57, Loss: 0.8521203757111543\n"
     ]
    },
    {
     "name": "stderr",
     "output_type": "stream",
     "text": [
      "100%|██████████| 153/153 [00:03<00:00, 44.66it/s]\n",
      " 59%|█████▉    | 59/100 [03:09<02:22,  3.47s/it]"
     ]
    },
    {
     "name": "stdout",
     "output_type": "stream",
     "text": [
      "Epoch 58, Loss: 0.8451129525315528\n"
     ]
    },
    {
     "name": "stderr",
     "output_type": "stream",
     "text": [
      "100%|██████████| 153/153 [00:03<00:00, 42.12it/s]\n",
      " 60%|██████    | 60/100 [03:13<02:20,  3.52s/it]"
     ]
    },
    {
     "name": "stdout",
     "output_type": "stream",
     "text": [
      "Epoch 59, Loss: 0.8402444981282053\n"
     ]
    },
    {
     "name": "stderr",
     "output_type": "stream",
     "text": [
      "100%|██████████| 153/153 [00:03<00:00, 44.76it/s]\n",
      " 61%|██████    | 61/100 [03:16<02:16,  3.49s/it]"
     ]
    },
    {
     "name": "stdout",
     "output_type": "stream",
     "text": [
      "Epoch 60, Loss: 0.8373169026343651\n"
     ]
    },
    {
     "name": "stderr",
     "output_type": "stream",
     "text": [
      "100%|██████████| 153/153 [00:03<00:00, 43.99it/s]\n",
      " 62%|██████▏   | 62/100 [03:20<02:12,  3.49s/it]"
     ]
    },
    {
     "name": "stdout",
     "output_type": "stream",
     "text": [
      "Epoch 61, Loss: 0.8337488252353045\n"
     ]
    },
    {
     "name": "stderr",
     "output_type": "stream",
     "text": [
      "100%|██████████| 153/153 [00:03<00:00, 45.40it/s]\n",
      " 63%|██████▎   | 63/100 [03:23<02:07,  3.45s/it]"
     ]
    },
    {
     "name": "stdout",
     "output_type": "stream",
     "text": [
      "Epoch 62, Loss: 0.8330818889966978\n"
     ]
    },
    {
     "name": "stderr",
     "output_type": "stream",
     "text": [
      "100%|██████████| 153/153 [00:03<00:00, 44.97it/s]\n",
      " 64%|██████▍   | 64/100 [03:27<02:03,  3.44s/it]"
     ]
    },
    {
     "name": "stdout",
     "output_type": "stream",
     "text": [
      "Epoch 63, Loss: 0.8299156341677397\n"
     ]
    },
    {
     "name": "stderr",
     "output_type": "stream",
     "text": [
      "100%|██████████| 153/153 [00:03<00:00, 44.43it/s]\n",
      " 65%|██████▌   | 65/100 [03:30<02:00,  3.44s/it]"
     ]
    },
    {
     "name": "stdout",
     "output_type": "stream",
     "text": [
      "Epoch 64, Loss: 0.8270781453138862\n"
     ]
    },
    {
     "name": "stderr",
     "output_type": "stream",
     "text": [
      "100%|██████████| 153/153 [00:03<00:00, 45.03it/s]\n",
      " 66%|██████▌   | 66/100 [03:34<01:56,  3.43s/it]"
     ]
    },
    {
     "name": "stdout",
     "output_type": "stream",
     "text": [
      "Epoch 65, Loss: 0.8241735576025022\n"
     ]
    },
    {
     "name": "stderr",
     "output_type": "stream",
     "text": [
      "100%|██████████| 153/153 [00:03<00:00, 42.28it/s]\n",
      " 67%|██████▋   | 67/100 [03:37<01:55,  3.49s/it]"
     ]
    },
    {
     "name": "stdout",
     "output_type": "stream",
     "text": [
      "Epoch 66, Loss: 0.8294699893278235\n"
     ]
    },
    {
     "name": "stderr",
     "output_type": "stream",
     "text": [
      "100%|██████████| 153/153 [00:03<00:00, 41.55it/s]\n",
      " 68%|██████▊   | 68/100 [03:41<01:53,  3.55s/it]"
     ]
    },
    {
     "name": "stdout",
     "output_type": "stream",
     "text": [
      "Epoch 67, Loss: 0.8224536351908266\n"
     ]
    },
    {
     "name": "stderr",
     "output_type": "stream",
     "text": [
      "100%|██████████| 153/153 [00:03<00:00, 42.14it/s]\n",
      " 69%|██████▉   | 69/100 [03:45<01:50,  3.57s/it]"
     ]
    },
    {
     "name": "stdout",
     "output_type": "stream",
     "text": [
      "Epoch 68, Loss: 0.8231646192619224\n"
     ]
    },
    {
     "name": "stderr",
     "output_type": "stream",
     "text": [
      "100%|██████████| 153/153 [00:03<00:00, 43.24it/s]\n",
      " 70%|███████   | 70/100 [03:48<01:46,  3.56s/it]"
     ]
    },
    {
     "name": "stdout",
     "output_type": "stream",
     "text": [
      "Epoch 69, Loss: 0.8213344450090446\n"
     ]
    },
    {
     "name": "stderr",
     "output_type": "stream",
     "text": [
      "100%|██████████| 153/153 [00:03<00:00, 45.63it/s]\n",
      " 71%|███████   | 71/100 [03:51<01:41,  3.50s/it]"
     ]
    },
    {
     "name": "stdout",
     "output_type": "stream",
     "text": [
      "Epoch 70, Loss: 0.8122574285744062\n"
     ]
    },
    {
     "name": "stderr",
     "output_type": "stream",
     "text": [
      "100%|██████████| 153/153 [00:03<00:00, 44.60it/s]\n",
      " 72%|███████▏  | 72/100 [03:55<01:37,  3.48s/it]"
     ]
    },
    {
     "name": "stdout",
     "output_type": "stream",
     "text": [
      "Epoch 71, Loss: 0.80740149504219\n"
     ]
    },
    {
     "name": "stderr",
     "output_type": "stream",
     "text": [
      "100%|██████████| 153/153 [00:03<00:00, 44.77it/s]\n",
      " 73%|███████▎  | 73/100 [03:58<01:33,  3.46s/it]"
     ]
    },
    {
     "name": "stdout",
     "output_type": "stream",
     "text": [
      "Epoch 72, Loss: 0.8075449751093496\n"
     ]
    },
    {
     "name": "stderr",
     "output_type": "stream",
     "text": [
      "100%|██████████| 153/153 [00:03<00:00, 44.35it/s]\n",
      " 74%|███████▍  | 74/100 [04:02<01:29,  3.46s/it]"
     ]
    },
    {
     "name": "stdout",
     "output_type": "stream",
     "text": [
      "Epoch 73, Loss: 0.8136011186768027\n"
     ]
    },
    {
     "name": "stderr",
     "output_type": "stream",
     "text": [
      "100%|██████████| 153/153 [00:03<00:00, 43.88it/s]\n",
      " 75%|███████▌  | 75/100 [04:05<01:26,  3.47s/it]"
     ]
    },
    {
     "name": "stdout",
     "output_type": "stream",
     "text": [
      "Epoch 74, Loss: 0.8041761899306104\n"
     ]
    },
    {
     "name": "stderr",
     "output_type": "stream",
     "text": [
      "100%|██████████| 153/153 [00:03<00:00, 43.70it/s]\n",
      " 76%|███████▌  | 76/100 [04:09<01:23,  3.48s/it]"
     ]
    },
    {
     "name": "stdout",
     "output_type": "stream",
     "text": [
      "Epoch 75, Loss: 0.8005568096840304\n"
     ]
    },
    {
     "name": "stderr",
     "output_type": "stream",
     "text": [
      "100%|██████████| 153/153 [00:03<00:00, 44.61it/s]\n",
      " 77%|███████▋  | 77/100 [04:12<01:19,  3.46s/it]"
     ]
    },
    {
     "name": "stdout",
     "output_type": "stream",
     "text": [
      "Epoch 76, Loss: 0.7969739312439962\n"
     ]
    },
    {
     "name": "stderr",
     "output_type": "stream",
     "text": [
      "100%|██████████| 153/153 [00:03<00:00, 43.80it/s]\n",
      " 78%|███████▊  | 78/100 [04:16<01:16,  3.47s/it]"
     ]
    },
    {
     "name": "stdout",
     "output_type": "stream",
     "text": [
      "Epoch 77, Loss: 0.7945895736513574\n"
     ]
    },
    {
     "name": "stderr",
     "output_type": "stream",
     "text": [
      "100%|██████████| 153/153 [00:03<00:00, 45.02it/s]\n",
      " 79%|███████▉  | 79/100 [04:19<01:12,  3.45s/it]"
     ]
    },
    {
     "name": "stdout",
     "output_type": "stream",
     "text": [
      "Epoch 78, Loss: 0.7944816876860226\n"
     ]
    },
    {
     "name": "stderr",
     "output_type": "stream",
     "text": [
      "100%|██████████| 153/153 [00:03<00:00, 41.88it/s]\n",
      " 80%|████████  | 80/100 [04:23<01:10,  3.51s/it]"
     ]
    },
    {
     "name": "stdout",
     "output_type": "stream",
     "text": [
      "Epoch 79, Loss: 0.8049108588617612\n"
     ]
    },
    {
     "name": "stderr",
     "output_type": "stream",
     "text": [
      "100%|██████████| 153/153 [00:03<00:00, 44.06it/s]\n",
      " 81%|████████  | 81/100 [04:26<01:06,  3.50s/it]"
     ]
    },
    {
     "name": "stdout",
     "output_type": "stream",
     "text": [
      "Epoch 80, Loss: 0.799427377242668\n"
     ]
    },
    {
     "name": "stderr",
     "output_type": "stream",
     "text": [
      "100%|██████████| 153/153 [00:03<00:00, 42.06it/s]\n",
      " 82%|████████▏ | 82/100 [04:30<01:03,  3.54s/it]"
     ]
    },
    {
     "name": "stdout",
     "output_type": "stream",
     "text": [
      "Epoch 81, Loss: 0.7939950664059009\n"
     ]
    },
    {
     "name": "stderr",
     "output_type": "stream",
     "text": [
      "100%|██████████| 153/153 [00:03<00:00, 41.74it/s]\n",
      " 83%|████████▎ | 83/100 [04:33<01:00,  3.58s/it]"
     ]
    },
    {
     "name": "stdout",
     "output_type": "stream",
     "text": [
      "Epoch 82, Loss: 0.7888725458406934\n"
     ]
    },
    {
     "name": "stderr",
     "output_type": "stream",
     "text": [
      "100%|██████████| 153/153 [00:03<00:00, 41.34it/s]\n",
      " 84%|████████▍ | 84/100 [04:37<00:57,  3.62s/it]"
     ]
    },
    {
     "name": "stdout",
     "output_type": "stream",
     "text": [
      "Epoch 83, Loss: 0.789772698692247\n"
     ]
    },
    {
     "name": "stderr",
     "output_type": "stream",
     "text": [
      "100%|██████████| 153/153 [00:03<00:00, 42.82it/s]\n",
      " 85%|████████▌ | 85/100 [04:41<00:54,  3.60s/it]"
     ]
    },
    {
     "name": "stdout",
     "output_type": "stream",
     "text": [
      "Epoch 84, Loss: 0.7913615621772467\n"
     ]
    },
    {
     "name": "stderr",
     "output_type": "stream",
     "text": [
      "100%|██████████| 153/153 [00:03<00:00, 44.26it/s]\n",
      " 86%|████████▌ | 86/100 [04:44<00:49,  3.56s/it]"
     ]
    },
    {
     "name": "stdout",
     "output_type": "stream",
     "text": [
      "Epoch 85, Loss: 0.7877385102066339\n"
     ]
    },
    {
     "name": "stderr",
     "output_type": "stream",
     "text": [
      "100%|██████████| 153/153 [00:03<00:00, 44.59it/s]\n",
      " 87%|████████▋ | 87/100 [04:48<00:45,  3.52s/it]"
     ]
    },
    {
     "name": "stdout",
     "output_type": "stream",
     "text": [
      "Epoch 86, Loss: 0.7889049473930808\n"
     ]
    },
    {
     "name": "stderr",
     "output_type": "stream",
     "text": [
      "100%|██████████| 153/153 [00:03<00:00, 44.01it/s]\n",
      " 88%|████████▊ | 88/100 [04:51<00:42,  3.51s/it]"
     ]
    },
    {
     "name": "stdout",
     "output_type": "stream",
     "text": [
      "Epoch 87, Loss: 0.7919673047034569\n"
     ]
    },
    {
     "name": "stderr",
     "output_type": "stream",
     "text": [
      "100%|██████████| 153/153 [00:03<00:00, 43.26it/s]\n",
      " 89%|████████▉ | 89/100 [04:55<00:38,  3.52s/it]"
     ]
    },
    {
     "name": "stdout",
     "output_type": "stream",
     "text": [
      "Epoch 88, Loss: 0.7797054270513697\n"
     ]
    },
    {
     "name": "stderr",
     "output_type": "stream",
     "text": [
      "100%|██████████| 153/153 [00:03<00:00, 42.64it/s]\n",
      " 90%|█████████ | 90/100 [04:58<00:35,  3.54s/it]"
     ]
    },
    {
     "name": "stdout",
     "output_type": "stream",
     "text": [
      "Epoch 89, Loss: 0.7769035385325064\n"
     ]
    },
    {
     "name": "stderr",
     "output_type": "stream",
     "text": [
      "100%|██████████| 153/153 [00:03<00:00, 43.30it/s]\n",
      " 91%|█████████ | 91/100 [05:02<00:31,  3.54s/it]"
     ]
    },
    {
     "name": "stdout",
     "output_type": "stream",
     "text": [
      "Epoch 90, Loss: 0.7798407705001582\n"
     ]
    },
    {
     "name": "stderr",
     "output_type": "stream",
     "text": [
      "100%|██████████| 153/153 [00:03<00:00, 40.90it/s]\n",
      " 92%|█████████▏| 92/100 [05:06<00:28,  3.60s/it]"
     ]
    },
    {
     "name": "stdout",
     "output_type": "stream",
     "text": [
      "Epoch 91, Loss: 0.7818153851172503\n"
     ]
    },
    {
     "name": "stderr",
     "output_type": "stream",
     "text": [
      "100%|██████████| 153/153 [00:03<00:00, 43.04it/s]\n",
      " 93%|█████████▎| 93/100 [05:09<00:25,  3.59s/it]"
     ]
    },
    {
     "name": "stdout",
     "output_type": "stream",
     "text": [
      "Epoch 92, Loss: 0.7776247469428318\n"
     ]
    },
    {
     "name": "stderr",
     "output_type": "stream",
     "text": [
      "100%|██████████| 153/153 [00:03<00:00, 40.92it/s]\n",
      " 94%|█████████▍| 94/100 [05:13<00:21,  3.63s/it]"
     ]
    },
    {
     "name": "stdout",
     "output_type": "stream",
     "text": [
      "Epoch 93, Loss: 0.7774871856558556\n"
     ]
    },
    {
     "name": "stderr",
     "output_type": "stream",
     "text": [
      "100%|██████████| 153/153 [00:03<00:00, 43.19it/s]\n",
      " 95%|█████████▌| 95/100 [05:16<00:18,  3.61s/it]"
     ]
    },
    {
     "name": "stdout",
     "output_type": "stream",
     "text": [
      "Epoch 94, Loss: 0.7761255378037496\n"
     ]
    },
    {
     "name": "stderr",
     "output_type": "stream",
     "text": [
      "100%|██████████| 153/153 [00:03<00:00, 42.81it/s]\n",
      " 96%|█████████▌| 96/100 [05:20<00:14,  3.60s/it]"
     ]
    },
    {
     "name": "stdout",
     "output_type": "stream",
     "text": [
      "Epoch 95, Loss: 0.7772653367784288\n"
     ]
    },
    {
     "name": "stderr",
     "output_type": "stream",
     "text": [
      "100%|██████████| 153/153 [00:03<00:00, 41.41it/s]\n",
      " 97%|█████████▋| 97/100 [05:24<00:10,  3.63s/it]"
     ]
    },
    {
     "name": "stdout",
     "output_type": "stream",
     "text": [
      "Epoch 96, Loss: 0.7737584394567153\n"
     ]
    },
    {
     "name": "stderr",
     "output_type": "stream",
     "text": [
      "100%|██████████| 153/153 [00:03<00:00, 42.36it/s]\n",
      " 98%|█████████▊| 98/100 [05:27<00:07,  3.62s/it]"
     ]
    },
    {
     "name": "stdout",
     "output_type": "stream",
     "text": [
      "Epoch 97, Loss: 0.7709278230573616\n"
     ]
    },
    {
     "name": "stderr",
     "output_type": "stream",
     "text": [
      "100%|██████████| 153/153 [00:03<00:00, 43.23it/s]\n",
      " 99%|█████████▉| 99/100 [05:31<00:03,  3.60s/it]"
     ]
    },
    {
     "name": "stdout",
     "output_type": "stream",
     "text": [
      "Epoch 98, Loss: 0.7700892281688116\n"
     ]
    },
    {
     "name": "stderr",
     "output_type": "stream",
     "text": [
      "100%|██████████| 153/153 [00:03<00:00, 41.72it/s]\n",
      "100%|██████████| 100/100 [05:34<00:00,  3.35s/it]"
     ]
    },
    {
     "name": "stdout",
     "output_type": "stream",
     "text": [
      "Epoch 99, Loss: 0.7693891466832629\n"
     ]
    },
    {
     "name": "stderr",
     "output_type": "stream",
     "text": [
      "\n"
     ]
    }
   ],
   "source": [
    "model_trained = rennpa_train(train_ds, val_ds, model, 100, optimizer, criterion)"
   ]
  },
  {
   "cell_type": "code",
   "execution_count": 17,
   "metadata": {},
   "outputs": [
    {
     "name": "stdout",
     "output_type": "stream",
     "text": [
      "Predicted Label: 2\n"
     ]
    }
   ],
   "source": [
    "s = 5\n",
    "\n",
    "rennpa_validade(model_trained, val_ds[s])"
   ]
  },
  {
   "cell_type": "code",
   "execution_count": 18,
   "metadata": {},
   "outputs": [
    {
     "name": "stderr",
     "output_type": "stream",
     "text": [
      "100%|██████████| 9769/9769 [00:08<00:00, 1169.61it/s]"
     ]
    },
    {
     "name": "stdout",
     "output_type": "stream",
     "text": [
      "Accuracy is 72.70959156515508\n"
     ]
    },
    {
     "name": "stderr",
     "output_type": "stream",
     "text": [
      "\n"
     ]
    }
   ],
   "source": [
    "rennpa_accuracy(model_trained, val_ds)"
   ]
  },
  {
   "cell_type": "code",
   "execution_count": null,
   "metadata": {},
   "outputs": [
    {
     "name": "stderr",
     "output_type": "stream",
     "text": [
      "100%|██████████| 9769/9769 [00:07<00:00, 1237.04it/s]\n"
     ]
    },
    {
     "data": {
      "image/png": "[encoded data removed]",
      "text/plain": [
       "<Figure size 640x480 with 2 Axes>"
      ]
     },
     "metadata": {},
     "output_type": "display_data"
    }
   ],
   "source": [
    "rennpa_confusion_matrix(model_trained, val_ds)"
   ]
  }
 ],
 "metadata": {
  "kernelspec": {
   "display_name": "Python 3",
   "language": "python",
   "name": "python3"
  },
  "language_info": {
   "codemirror_mode": {
    "name": "ipython",
    "version": 3
   },
   "file_extension": ".py",
   "mimetype": "text/x-python",
   "name": "python",
   "nbconvert_exporter": "python",
   "pygments_lexer": "ipython3",
   "version": "3.12.3"
  }
 },
 "nbformat": 4,
 "nbformat_minor": 2
}
