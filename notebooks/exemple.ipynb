{
 "cells": [
  {
   "cell_type": "markdown",
   "metadata": {},
   "source": [
    "## **Mapeamento de Glebas Usando Séries Temporais e Long Short-Term Memory em Grandes Dados de Observação da Terra**"
   ]
  },
  {
   "cell_type": "markdown",
   "metadata": {},
   "source": [
    "## **Disciplina:** CAP-421-3 Aprendizado Profundo\n",
    "\n",
    "Gabriel Sansigolo"
   ]
  },
  {
   "cell_type": "markdown",
   "metadata": {},
   "source": [
    "### Abstract\n",
    "\n",
    "Mapas de uso e cobertura da Terra são importantes produtos para avaliação\n",
    "da intervenção humana e da dinâmica ambiental. Para o trabalho busca resolver\n",
    "o problema de automatização de mapeamento de regiões (Glebas) usando técnicas\n",
    "de aprendizado profundo supervisionado. Para isso será usado o uma Rede Neural\n",
    "Recorrente (RNNs), especificamente a rede Long Short-Term Memory (LSTM). \n",
    "\n",
    "Além disso, busca-se explorar como uso de séries temporais para mapeamento baseado \n",
    "em coleções de imagens de observação da Terra (EO) do catálogo do Brazil Data Cube \n",
    "(BDC). Embora existam muitas implementações para classificação de séries temporais \n",
    "usando rede LSTM, essas implementações exigem a instalação de diversas bibliotecas \n",
    "cada qual para uma função, como extração de séries temporais, download de imagens de \n",
    "satélite, treinamento do modelo etc. \n",
    "\n",
    "A principal contribuição deste trabalho é um biblioteca em Python para mapeamento \n",
    "de glebas usando LSTM em dados observação da Terra do BDC. Ela permitirá que os\n",
    "analistas gerem de forma simples mapas de uso e cobertura da Terra para regiões\n",
    "das glebas, facilitando acesso a grandes conjuntos de dados de EO. "
   ]
  },
  {
   "cell_type": "markdown",
   "metadata": {},
   "source": [
    "<!-- README.md is generated from README.Rmd. Please edit that file -->\n",
    "\n",
    "<img src='https://github.com/GSansigolo/rennpa/blob/main/man/figures/logo.png?raw=true' align=\"right\" height=\"160\" />\n",
    "\n",
    "# rennpa\n",
    "\n",
    "<!-- badges: start -->\n",
    "\n",
    "[![Software License](https://img.shields.io/badge/License-GPLv3-blue.svg)](https://github.com/GSansigolo/rennpa/blob/master/LICENSE) [![Documentation Status](https://readthedocs.org/projects/rennpa/badge/?version=latest)](https://rennpa.readthedocs.io/en/latest/) [![Software Life Cycle](https://img.shields.io/badge/lifecycle-stable-green.svg)](https://www.tidyverse.org/lifecycle/#stable) [![Release](https://img.shields.io/github/tag/GSansigolo/rennpa.svg)](https://github.com/GSansigolo/rennpa/releases) [![Python Package Index](https://img.shields.io/pypi/v/rennpa)](https://pypi.org/project/rennpa/) \n",
    "\n",
    "<!-- badges: end -->\n",
    "\n",
    "### Overview\n",
    "\n",
    "**rennpa**: **RE**current **N**eural **N**etwork **P**ython **A**PI, is an Python package with a RNN ready for satellite image time series classification. The package implements a number of functions to assist the proccess of production of land use and land cover maps based on time series, all based on the Brazil Data Cube image catalog.\n",
    "\n",
    "### Usage\n",
    "\n",
    "**rennpa** package process to generate a LULC map can be explained using the four functions: (1) rennpa_get_timeseries; (2) rennpa_lstm; (3) rennpa_train and (4) rennpa_classify. Although these are the four main functions of the package, there are over 27 functions for each of the stages before, during and after the process of producing LULC map. \n",
    "\n",
    "<img src='https://github.com/GSansigolo/rennpa/blob/main/man/figures/usage.png?raw=true' align=\"center\" height=\"500\" />\n"
   ]
  },
  {
   "cell_type": "markdown",
   "metadata": {},
   "source": [
    "### **Instalando o rennpa**"
   ]
  },
  {
   "cell_type": "code",
   "execution_count": 1,
   "metadata": {},
   "outputs": [],
   "source": [
    "#!pip3 install git+https://github.com/GSansigolo/rennpa"
   ]
  },
  {
   "cell_type": "markdown",
   "metadata": {},
   "source": [
    "### **Importando bibliotecas**"
   ]
  },
  {
   "cell_type": "code",
   "execution_count": 2,
   "metadata": {},
   "outputs": [],
   "source": [
    "from rennpa import *"
   ]
  },
  {
   "cell_type": "markdown",
   "metadata": {},
   "source": [
    "### **Importando amostras**"
   ]
  },
  {
   "cell_type": "code",
   "execution_count": 3,
   "metadata": {},
   "outputs": [],
   "source": [
    "raw_csv = \"input.csv\""
   ]
  },
  {
   "cell_type": "markdown",
   "metadata": {},
   "source": [
    "### **Embaralha os dados**"
   ]
  },
  {
   "cell_type": "code",
   "execution_count": 4,
   "metadata": {},
   "outputs": [],
   "source": [
    "#shuffle_data(input=raw_csv, output=\"input.csv\")"
   ]
  },
  {
   "cell_type": "markdown",
   "metadata": {},
   "source": [
    "### **Cria do objeto cubo de dados**"
   ]
  },
  {
   "cell_type": "code",
   "execution_count": 5,
   "metadata": {},
   "outputs": [],
   "source": [
    "cube = dict(\n",
    "    collection=\"S2-16D-2\",\n",
    "    start_date=\"2023-01-01\",\n",
    "    end_date=\"2023-12-31\",\n",
    "    freq='16D',\n",
    "    bands=[\"B02\", \"B03\", \"B04\", \"B08\", \"NDVI\", \"EVI\", \"NBR\"]\n",
    ")"
   ]
  },
  {
   "cell_type": "markdown",
   "metadata": {},
   "source": [
    "### **Extrai séries temporais**"
   ]
  },
  {
   "cell_type": "code",
   "execution_count": 6,
   "metadata": {},
   "outputs": [],
   "source": [
    "#ts = rennpa_get_timeseries(cube, input=\"input.csv\",output=\"timeseries.json\")"
   ]
  },
  {
   "cell_type": "code",
   "execution_count": 7,
   "metadata": {},
   "outputs": [],
   "source": [
    "ts = rennpa_open_ts_json(input=\"timeseries.json\")"
   ]
  },
  {
   "cell_type": "markdown",
   "metadata": {},
   "source": [
    "### **Cria novos indicies usando as séries temporais**"
   ]
  },
  {
   "cell_type": "code",
   "execution_count": 8,
   "metadata": {},
   "outputs": [],
   "source": [
    "indicies = dict(\n",
    "    OSAVI = rennpa_create_indicies(formula=\"OSAVI\", bands=dict(NIR=\"B08\", RED=\"B04\"), timeseries=ts),\n",
    "    NDWI =  rennpa_create_indicies(formula=\"NDWI\", bands=dict(NIR=\"B08\", GREEN=\"B03\"), timeseries=ts),\n",
    "    RECI = rennpa_create_indicies(formula=\"RECI\", bands=dict(NIR=\"B08\", RED=\"B04\"), timeseries=ts)\n",
    ")"
   ]
  },
  {
   "cell_type": "markdown",
   "metadata": {},
   "source": [
    "### **Cria dataframe unindo séries temporais, amostras e índices**"
   ]
  },
  {
   "cell_type": "code",
   "execution_count": 9,
   "metadata": {},
   "outputs": [],
   "source": [
    "df = rennpa_dataframe(timeseries=ts, input_csv=\"input.csv\", indicies=indicies)"
   ]
  },
  {
   "cell_type": "code",
   "execution_count": 10,
   "metadata": {},
   "outputs": [],
   "source": [
    "labels = {319: 0, 320: 1, 321: 2, 323: 3, 324: 4, 325: 5, 326: 6, 327: 7, 328: 8}"
   ]
  },
  {
   "cell_type": "code",
   "execution_count": 11,
   "metadata": {},
   "outputs": [],
   "source": [
    "df['label'] = [labels[x] for x in df['label'].to_numpy()]"
   ]
  },
  {
   "cell_type": "code",
   "execution_count": 12,
   "metadata": {},
   "outputs": [
    {
     "data": {
      "text/html": [
       "<div>\n",
       "<style scoped>\n",
       "    .dataframe tbody tr th:only-of-type {\n",
       "        vertical-align: middle;\n",
       "    }\n",
       "\n",
       "    .dataframe tbody tr th {\n",
       "        vertical-align: top;\n",
       "    }\n",
       "\n",
       "    .dataframe thead th {\n",
       "        text-align: right;\n",
       "    }\n",
       "</style>\n",
       "<table border=\"1\" class=\"dataframe\">\n",
       "  <thead>\n",
       "    <tr style=\"text-align: right;\">\n",
       "      <th></th>\n",
       "      <th>B02</th>\n",
       "      <th>B03</th>\n",
       "      <th>B04</th>\n",
       "      <th>B08</th>\n",
       "      <th>NDVI</th>\n",
       "      <th>EVI</th>\n",
       "      <th>NBR</th>\n",
       "      <th>OSAVI</th>\n",
       "      <th>NDWI</th>\n",
       "      <th>RECI</th>\n",
       "      <th>label</th>\n",
       "    </tr>\n",
       "  </thead>\n",
       "  <tbody>\n",
       "    <tr>\n",
       "      <th>0</th>\n",
       "      <td>[365, 5527, 808, 572, 453, 443, 1554, 360, 371...</td>\n",
       "      <td>[387, 5054, 943, 767, 652, 597, 1527, 588, 560...</td>\n",
       "      <td>[370, 4459, 855, 731, 630, 611, 1324, 531, 551...</td>\n",
       "      <td>[848, 5211, 2773, 2340, 2208, 2104, 3193, 2025...</td>\n",
       "      <td>[4762, 733, 5601, 5576, 5899, 5764, 4413, 6150...</td>\n",
       "      <td>[1598, 32767, 4498, 3636, 3533, 3295, 5388, 33...</td>\n",
       "      <td>[2634, 2048, 2671, 2562, 2674, 2308, 3330, 261...</td>\n",
       "      <td>[0.392395087673212, 0.07776500078592288, 0.528...</td>\n",
       "      <td>[-0.37327935222672065, -0.015294690696541647, ...</td>\n",
       "      <td>[2.2857142857142856, 1.1683856502242151, 3.239...</td>\n",
       "      <td>2</td>\n",
       "    </tr>\n",
       "    <tr>\n",
       "      <th>1</th>\n",
       "      <td>[558, 1763, 4753, 908, 1095, 474, 493, 507, 51...</td>\n",
       "      <td>[1002, 2080, 4385, 881, 1347, 777, 753, 734, 7...</td>\n",
       "      <td>[688, 1892, 4031, 571, 1058, 672, 679, 787, 84...</td>\n",
       "      <td>[4092, 4316, 5218, 2793, 3752, 3084, 2952, 280...</td>\n",
       "      <td>[7354, 4168, 1424, 6659, 5889, 6680, 6528, 584...</td>\n",
       "      <td>[6616, 5313, 8564, 6014, 6200, 4881, 4691, 397...</td>\n",
       "      <td>[5014, 2344, 2942, 5402, 4604, 3559, 3174, 225...</td>\n",
       "      <td>[0.71211005489356, 0.39045385428210616, 0.1283...</td>\n",
       "      <td>[-0.6065959952885748, -0.34959349593495936, -0...</td>\n",
       "      <td>[5.939042089985486, 2.2799788695192817, 1.2941...</td>\n",
       "      <td>1</td>\n",
       "    </tr>\n",
       "    <tr>\n",
       "      <th>2</th>\n",
       "      <td>[493, 486, 439, 327, 608, 422, 326, 329, 460, ...</td>\n",
       "      <td>[902, 871, 763, 663, 766, 730, 664, 721, 752, ...</td>\n",
       "      <td>[864, 937, 799, 725, 691, 983, 594, 627, 959, ...</td>\n",
       "      <td>[3040, 2821, 2721, 2498, 2022, 2215, 2930, 284...</td>\n",
       "      <td>[5914, 5421, 5871, 5938, 5263, 4369, 6793, 654...</td>\n",
       "      <td>[4211, 3665, 3899, 3595, 3250, 2502, 4421, 415...</td>\n",
       "      <td>[2859, 2581, 3047, 2990, 3521, 1495, 3600, 370...</td>\n",
       "      <td>[0.5573542067948035, 0.5013091512868, 0.545997...</td>\n",
       "      <td>[-0.5423642820903095, -0.528169014084507, -0.5...</td>\n",
       "      <td>[3.514450867052023, 3.0074626865671643, 3.4012...</td>\n",
       "      <td>1</td>\n",
       "    </tr>\n",
       "    <tr>\n",
       "      <th>3</th>\n",
       "      <td>[3618, 346, 352, 377, 478, 386, 414, 359, 392,...</td>\n",
       "      <td>[3446, 618, 655, 628, 702, 647, 638, 627, 636,...</td>\n",
       "      <td>[3185, 631, 562, 594, 650, 659, 634, 649, 709,...</td>\n",
       "      <td>[3688, 1925, 2223, 2141, 2209, 2162, 2102, 206...</td>\n",
       "      <td>[1016, 5417, 6370, 6002, 5871, 5663, 5764, 556...</td>\n",
       "      <td>[3064, 2801, 3717, 3400, 3607, 3201, 3304, 301...</td>\n",
       "      <td>[2585, 2562, 3621, 2861, 2978, 2864, 2667, 249...</td>\n",
       "      <td>[0.07318322285528055, 0.5062280921382073, 0.59...</td>\n",
       "      <td>[-0.03392206335856462, -0.5139598898938262, -0...</td>\n",
       "      <td>[1.157564344005022, 3.045886075949367, 3.94849...</td>\n",
       "      <td>2</td>\n",
       "    </tr>\n",
       "    <tr>\n",
       "      <th>4</th>\n",
       "      <td>[1147, 271, 410, 425, 292, 313, 261, 316, 321,...</td>\n",
       "      <td>[1306, 502, 632, 650, 578, 706, 662, 681, 540,...</td>\n",
       "      <td>[1101, 339, 996, 981, 429, 499, 430, 824, 1008...</td>\n",
       "      <td>[3965, 2814, 1687, 2018, 2803, 3218, 3120, 247...</td>\n",
       "      <td>[5775, 8004, 3373, 4132, 7597, 7516, 7789, 552...</td>\n",
       "      <td>[6213, 5206, 1700, 2293, 5014, 5331, 5379, 329...</td>\n",
       "      <td>[4501, 5410, 806, 1374, 4831, 5287, 5554, 2888...</td>\n",
       "      <td>[0.5653196898637233, 0.7849268670159459, 0.257...</td>\n",
       "      <td>[-0.5044583570479985, -0.6972255729794934, -0....</td>\n",
       "      <td>[3.598003629764065, 8.276470588235295, 1.69207...</td>\n",
       "      <td>5</td>\n",
       "    </tr>\n",
       "  </tbody>\n",
       "</table>\n",
       "</div>"
      ],
      "text/plain": [
       "                                                 B02  \\\n",
       "0  [365, 5527, 808, 572, 453, 443, 1554, 360, 371...   \n",
       "1  [558, 1763, 4753, 908, 1095, 474, 493, 507, 51...   \n",
       "2  [493, 486, 439, 327, 608, 422, 326, 329, 460, ...   \n",
       "3  [3618, 346, 352, 377, 478, 386, 414, 359, 392,...   \n",
       "4  [1147, 271, 410, 425, 292, 313, 261, 316, 321,...   \n",
       "\n",
       "                                                 B03  \\\n",
       "0  [387, 5054, 943, 767, 652, 597, 1527, 588, 560...   \n",
       "1  [1002, 2080, 4385, 881, 1347, 777, 753, 734, 7...   \n",
       "2  [902, 871, 763, 663, 766, 730, 664, 721, 752, ...   \n",
       "3  [3446, 618, 655, 628, 702, 647, 638, 627, 636,...   \n",
       "4  [1306, 502, 632, 650, 578, 706, 662, 681, 540,...   \n",
       "\n",
       "                                                 B04  \\\n",
       "0  [370, 4459, 855, 731, 630, 611, 1324, 531, 551...   \n",
       "1  [688, 1892, 4031, 571, 1058, 672, 679, 787, 84...   \n",
       "2  [864, 937, 799, 725, 691, 983, 594, 627, 959, ...   \n",
       "3  [3185, 631, 562, 594, 650, 659, 634, 649, 709,...   \n",
       "4  [1101, 339, 996, 981, 429, 499, 430, 824, 1008...   \n",
       "\n",
       "                                                 B08  \\\n",
       "0  [848, 5211, 2773, 2340, 2208, 2104, 3193, 2025...   \n",
       "1  [4092, 4316, 5218, 2793, 3752, 3084, 2952, 280...   \n",
       "2  [3040, 2821, 2721, 2498, 2022, 2215, 2930, 284...   \n",
       "3  [3688, 1925, 2223, 2141, 2209, 2162, 2102, 206...   \n",
       "4  [3965, 2814, 1687, 2018, 2803, 3218, 3120, 247...   \n",
       "\n",
       "                                                NDVI  \\\n",
       "0  [4762, 733, 5601, 5576, 5899, 5764, 4413, 6150...   \n",
       "1  [7354, 4168, 1424, 6659, 5889, 6680, 6528, 584...   \n",
       "2  [5914, 5421, 5871, 5938, 5263, 4369, 6793, 654...   \n",
       "3  [1016, 5417, 6370, 6002, 5871, 5663, 5764, 556...   \n",
       "4  [5775, 8004, 3373, 4132, 7597, 7516, 7789, 552...   \n",
       "\n",
       "                                                 EVI  \\\n",
       "0  [1598, 32767, 4498, 3636, 3533, 3295, 5388, 33...   \n",
       "1  [6616, 5313, 8564, 6014, 6200, 4881, 4691, 397...   \n",
       "2  [4211, 3665, 3899, 3595, 3250, 2502, 4421, 415...   \n",
       "3  [3064, 2801, 3717, 3400, 3607, 3201, 3304, 301...   \n",
       "4  [6213, 5206, 1700, 2293, 5014, 5331, 5379, 329...   \n",
       "\n",
       "                                                 NBR  \\\n",
       "0  [2634, 2048, 2671, 2562, 2674, 2308, 3330, 261...   \n",
       "1  [5014, 2344, 2942, 5402, 4604, 3559, 3174, 225...   \n",
       "2  [2859, 2581, 3047, 2990, 3521, 1495, 3600, 370...   \n",
       "3  [2585, 2562, 3621, 2861, 2978, 2864, 2667, 249...   \n",
       "4  [4501, 5410, 806, 1374, 4831, 5287, 5554, 2888...   \n",
       "\n",
       "                                               OSAVI  \\\n",
       "0  [0.392395087673212, 0.07776500078592288, 0.528...   \n",
       "1  [0.71211005489356, 0.39045385428210616, 0.1283...   \n",
       "2  [0.5573542067948035, 0.5013091512868, 0.545997...   \n",
       "3  [0.07318322285528055, 0.5062280921382073, 0.59...   \n",
       "4  [0.5653196898637233, 0.7849268670159459, 0.257...   \n",
       "\n",
       "                                                NDWI  \\\n",
       "0  [-0.37327935222672065, -0.015294690696541647, ...   \n",
       "1  [-0.6065959952885748, -0.34959349593495936, -0...   \n",
       "2  [-0.5423642820903095, -0.528169014084507, -0.5...   \n",
       "3  [-0.03392206335856462, -0.5139598898938262, -0...   \n",
       "4  [-0.5044583570479985, -0.6972255729794934, -0....   \n",
       "\n",
       "                                                RECI  label  \n",
       "0  [2.2857142857142856, 1.1683856502242151, 3.239...      2  \n",
       "1  [5.939042089985486, 2.2799788695192817, 1.2941...      1  \n",
       "2  [3.514450867052023, 3.0074626865671643, 3.4012...      1  \n",
       "3  [1.157564344005022, 3.045886075949367, 3.94849...      2  \n",
       "4  [3.598003629764065, 8.276470588235295, 1.69207...      5  "
      ]
     },
     "execution_count": 12,
     "metadata": {},
     "output_type": "execute_result"
    }
   ],
   "source": [
    "df.head()"
   ]
  },
  {
   "cell_type": "markdown",
   "metadata": {},
   "source": [
    "### **Executa split no dataframe para treinamento e validação**"
   ]
  },
  {
   "cell_type": "code",
   "execution_count": 13,
   "metadata": {},
   "outputs": [],
   "source": [
    "train, val = rennpa_split(df, 0.8)\n",
    "      \n",
    "train_ds = TimeseriesDataset(train)\n",
    "val_ds = TimeseriesDataset(val)"
   ]
  },
  {
   "cell_type": "markdown",
   "metadata": {},
   "source": [
    "### **Define configurações da rede**"
   ]
  },
  {
   "cell_type": "code",
   "execution_count": 14,
   "metadata": {},
   "outputs": [],
   "source": [
    "input_size = 23\n",
    "hidden_size = 8\n",
    "num_layers = 3\n",
    "output_size = 9"
   ]
  },
  {
   "cell_type": "markdown",
   "metadata": {},
   "source": [
    "### **Define modelo (LSTM)**"
   ]
  },
  {
   "cell_type": "code",
   "execution_count": 15,
   "metadata": {},
   "outputs": [],
   "source": [
    "model = rennpa_lstm(input_size, hidden_size, num_layers, output_size)"
   ]
  },
  {
   "cell_type": "markdown",
   "metadata": {},
   "source": [
    "### **Define gradiente e otimizador**"
   ]
  },
  {
   "cell_type": "code",
   "execution_count": 16,
   "metadata": {},
   "outputs": [],
   "source": [
    "criterion = rennpa_crossentropyloss()\n",
    "optimizer = rennpa_adam(model.parameters(),lr=0.001)"
   ]
  },
  {
   "cell_type": "markdown",
   "metadata": {},
   "source": [
    "### **Executa treinamento**"
   ]
  },
  {
   "cell_type": "code",
   "execution_count": 17,
   "metadata": {},
   "outputs": [
    {
     "name": "stderr",
     "output_type": "stream",
     "text": [
      "100%|██████████| 153/153 [00:03<00:00, 40.75it/s]\n",
      "  0%|          | 1/200 [00:03<12:27,  3.76s/it]"
     ]
    },
    {
     "name": "stdout",
     "output_type": "stream",
     "text": [
      "Epoch 0, Loss: 1.9098736748975866\n"
     ]
    },
    {
     "name": "stderr",
     "output_type": "stream",
     "text": [
      "100%|██████████| 153/153 [00:03<00:00, 45.04it/s]\n",
      "  1%|          | 2/200 [00:07<11:42,  3.55s/it]"
     ]
    },
    {
     "name": "stdout",
     "output_type": "stream",
     "text": [
      "Epoch 1, Loss: 1.579569070167791\n"
     ]
    },
    {
     "name": "stderr",
     "output_type": "stream",
     "text": [
      "100%|██████████| 153/153 [00:03<00:00, 41.48it/s]\n",
      "  2%|▏         | 3/200 [00:10<11:51,  3.61s/it]"
     ]
    },
    {
     "name": "stdout",
     "output_type": "stream",
     "text": [
      "Epoch 2, Loss: 1.4071389460096173\n"
     ]
    },
    {
     "name": "stderr",
     "output_type": "stream",
     "text": [
      "100%|██████████| 153/153 [00:03<00:00, 43.28it/s]\n",
      "  2%|▏         | 4/200 [00:14<11:42,  3.58s/it]"
     ]
    },
    {
     "name": "stdout",
     "output_type": "stream",
     "text": [
      "Epoch 3, Loss: 1.3261445152993296\n"
     ]
    },
    {
     "name": "stderr",
     "output_type": "stream",
     "text": [
      "100%|██████████| 153/153 [00:03<00:00, 42.30it/s]\n",
      "  2%|▎         | 5/200 [00:18<11:41,  3.60s/it]"
     ]
    },
    {
     "name": "stdout",
     "output_type": "stream",
     "text": [
      "Epoch 4, Loss: 1.285167730711644\n"
     ]
    },
    {
     "name": "stderr",
     "output_type": "stream",
     "text": [
      "100%|██████████| 153/153 [00:03<00:00, 40.72it/s]\n",
      "  3%|▎         | 6/200 [00:21<11:48,  3.65s/it]"
     ]
    },
    {
     "name": "stdout",
     "output_type": "stream",
     "text": [
      "Epoch 5, Loss: 1.2521430565640816\n"
     ]
    },
    {
     "name": "stderr",
     "output_type": "stream",
     "text": [
      "100%|██████████| 153/153 [00:04<00:00, 36.83it/s]\n",
      "  4%|▎         | 7/200 [00:25<12:16,  3.82s/it]"
     ]
    },
    {
     "name": "stdout",
     "output_type": "stream",
     "text": [
      "Epoch 6, Loss: 1.2538988862941467\n"
     ]
    },
    {
     "name": "stderr",
     "output_type": "stream",
     "text": [
      "100%|██████████| 153/153 [00:04<00:00, 34.83it/s]\n",
      "  4%|▍         | 8/200 [00:30<12:48,  4.00s/it]"
     ]
    },
    {
     "name": "stdout",
     "output_type": "stream",
     "text": [
      "Epoch 7, Loss: 1.2265382225996528\n"
     ]
    },
    {
     "name": "stderr",
     "output_type": "stream",
     "text": [
      "100%|██████████| 153/153 [00:04<00:00, 35.79it/s]\n",
      "  4%|▍         | 9/200 [00:34<13:00,  4.09s/it]"
     ]
    },
    {
     "name": "stdout",
     "output_type": "stream",
     "text": [
      "Epoch 8, Loss: 1.1945876802494324\n"
     ]
    },
    {
     "name": "stderr",
     "output_type": "stream",
     "text": [
      "100%|██████████| 153/153 [00:04<00:00, 37.09it/s]\n",
      "  5%|▌         | 10/200 [00:38<12:58,  4.10s/it]"
     ]
    },
    {
     "name": "stdout",
     "output_type": "stream",
     "text": [
      "Epoch 9, Loss: 1.168278881147796\n"
     ]
    },
    {
     "name": "stderr",
     "output_type": "stream",
     "text": [
      "100%|██████████| 153/153 [00:04<00:00, 37.26it/s]\n",
      "  6%|▌         | 11/200 [00:42<12:55,  4.10s/it]"
     ]
    },
    {
     "name": "stdout",
     "output_type": "stream",
     "text": [
      "Epoch 10, Loss: 1.1496313179240507\n"
     ]
    },
    {
     "name": "stderr",
     "output_type": "stream",
     "text": [
      "100%|██████████| 153/153 [00:04<00:00, 35.94it/s]\n",
      "  6%|▌         | 12/200 [00:47<13:00,  4.15s/it]"
     ]
    },
    {
     "name": "stdout",
     "output_type": "stream",
     "text": [
      "Epoch 11, Loss: 1.1351351473066542\n"
     ]
    },
    {
     "name": "stderr",
     "output_type": "stream",
     "text": [
      "100%|██████████| 153/153 [00:04<00:00, 34.79it/s]\n",
      "  6%|▋         | 13/200 [00:51<13:10,  4.23s/it]"
     ]
    },
    {
     "name": "stdout",
     "output_type": "stream",
     "text": [
      "Epoch 12, Loss: 1.1171003089231604\n"
     ]
    },
    {
     "name": "stderr",
     "output_type": "stream",
     "text": [
      "100%|██████████| 153/153 [00:04<00:00, 37.11it/s]\n",
      "  7%|▋         | 14/200 [00:55<13:00,  4.20s/it]"
     ]
    },
    {
     "name": "stdout",
     "output_type": "stream",
     "text": [
      "Epoch 13, Loss: 1.1154292837467068\n"
     ]
    },
    {
     "name": "stderr",
     "output_type": "stream",
     "text": [
      "100%|██████████| 153/153 [00:04<00:00, 36.05it/s]\n",
      "  8%|▊         | 15/200 [00:59<12:58,  4.21s/it]"
     ]
    },
    {
     "name": "stdout",
     "output_type": "stream",
     "text": [
      "Epoch 14, Loss: 1.0990722128768373\n"
     ]
    },
    {
     "name": "stderr",
     "output_type": "stream",
     "text": [
      "100%|██████████| 153/153 [00:04<00:00, 33.92it/s]\n",
      "  8%|▊         | 16/200 [01:04<13:11,  4.30s/it]"
     ]
    },
    {
     "name": "stdout",
     "output_type": "stream",
     "text": [
      "Epoch 15, Loss: 1.0903719722055922\n"
     ]
    },
    {
     "name": "stderr",
     "output_type": "stream",
     "text": [
      "100%|██████████| 153/153 [00:04<00:00, 35.01it/s]\n",
      "  8%|▊         | 17/200 [01:08<13:11,  4.32s/it]"
     ]
    },
    {
     "name": "stdout",
     "output_type": "stream",
     "text": [
      "Epoch 16, Loss: 1.110019250243318\n"
     ]
    },
    {
     "name": "stderr",
     "output_type": "stream",
     "text": [
      "100%|██████████| 153/153 [00:04<00:00, 34.96it/s]\n",
      "  9%|▉         | 18/200 [01:13<13:09,  4.34s/it]"
     ]
    },
    {
     "name": "stdout",
     "output_type": "stream",
     "text": [
      "Epoch 17, Loss: 1.0746809314278996\n"
     ]
    },
    {
     "name": "stderr",
     "output_type": "stream",
     "text": [
      "100%|██████████| 153/153 [00:04<00:00, 35.63it/s]\n",
      " 10%|▉         | 19/200 [01:17<13:03,  4.33s/it]"
     ]
    },
    {
     "name": "stdout",
     "output_type": "stream",
     "text": [
      "Epoch 18, Loss: 1.0626559880823871\n"
     ]
    },
    {
     "name": "stderr",
     "output_type": "stream",
     "text": [
      "100%|██████████| 153/153 [00:04<00:00, 35.46it/s]\n",
      " 10%|█         | 20/200 [01:21<12:58,  4.32s/it]"
     ]
    },
    {
     "name": "stdout",
     "output_type": "stream",
     "text": [
      "Epoch 19, Loss: 1.0467275536917393\n"
     ]
    },
    {
     "name": "stderr",
     "output_type": "stream",
     "text": [
      "100%|██████████| 153/153 [00:04<00:00, 35.67it/s]\n",
      " 10%|█         | 21/200 [01:26<12:52,  4.31s/it]"
     ]
    },
    {
     "name": "stdout",
     "output_type": "stream",
     "text": [
      "Epoch 20, Loss: 1.0365781698351593\n"
     ]
    },
    {
     "name": "stderr",
     "output_type": "stream",
     "text": [
      "100%|██████████| 153/153 [00:04<00:00, 35.53it/s]\n",
      " 11%|█         | 22/200 [01:30<12:47,  4.31s/it]"
     ]
    },
    {
     "name": "stdout",
     "output_type": "stream",
     "text": [
      "Epoch 21, Loss: 1.0334538170714784\n"
     ]
    },
    {
     "name": "stderr",
     "output_type": "stream",
     "text": [
      "100%|██████████| 153/153 [00:04<00:00, 35.89it/s]\n",
      " 12%|█▏        | 23/200 [01:34<12:40,  4.30s/it]"
     ]
    },
    {
     "name": "stdout",
     "output_type": "stream",
     "text": [
      "Epoch 22, Loss: 1.0220690872154983\n"
     ]
    },
    {
     "name": "stderr",
     "output_type": "stream",
     "text": [
      "100%|██████████| 153/153 [00:04<00:00, 36.03it/s]\n",
      " 12%|█▏        | 24/200 [01:38<12:33,  4.28s/it]"
     ]
    },
    {
     "name": "stdout",
     "output_type": "stream",
     "text": [
      "Epoch 23, Loss: 1.0242256155980178\n"
     ]
    },
    {
     "name": "stderr",
     "output_type": "stream",
     "text": [
      "100%|██████████| 153/153 [00:04<00:00, 35.90it/s]\n",
      " 12%|█▎        | 25/200 [01:43<12:28,  4.28s/it]"
     ]
    },
    {
     "name": "stdout",
     "output_type": "stream",
     "text": [
      "Epoch 24, Loss: 1.0025609194063674\n"
     ]
    },
    {
     "name": "stderr",
     "output_type": "stream",
     "text": [
      "100%|██████████| 153/153 [00:04<00:00, 35.04it/s]\n",
      " 13%|█▎        | 26/200 [01:47<12:28,  4.30s/it]"
     ]
    },
    {
     "name": "stdout",
     "output_type": "stream",
     "text": [
      "Epoch 25, Loss: 0.9882907061015859\n"
     ]
    },
    {
     "name": "stderr",
     "output_type": "stream",
     "text": [
      "100%|██████████| 153/153 [00:04<00:00, 35.44it/s]\n",
      " 14%|█▎        | 27/200 [01:51<12:25,  4.31s/it]"
     ]
    },
    {
     "name": "stdout",
     "output_type": "stream",
     "text": [
      "Epoch 26, Loss: 0.9819061397727019\n"
     ]
    },
    {
     "name": "stderr",
     "output_type": "stream",
     "text": [
      "100%|██████████| 153/153 [00:04<00:00, 36.15it/s]\n",
      " 14%|█▍        | 28/200 [01:56<12:17,  4.29s/it]"
     ]
    },
    {
     "name": "stdout",
     "output_type": "stream",
     "text": [
      "Epoch 27, Loss: 0.9730370488821292\n"
     ]
    },
    {
     "name": "stderr",
     "output_type": "stream",
     "text": [
      "100%|██████████| 153/153 [00:04<00:00, 35.78it/s]\n",
      " 14%|█▍        | 29/200 [02:00<12:12,  4.28s/it]"
     ]
    },
    {
     "name": "stdout",
     "output_type": "stream",
     "text": [
      "Epoch 28, Loss: 0.9755877735568028\n"
     ]
    },
    {
     "name": "stderr",
     "output_type": "stream",
     "text": [
      "100%|██████████| 153/153 [00:04<00:00, 35.25it/s]\n",
      " 15%|█▌        | 30/200 [02:04<12:11,  4.30s/it]"
     ]
    },
    {
     "name": "stdout",
     "output_type": "stream",
     "text": [
      "Epoch 29, Loss: 0.9600835017908632\n"
     ]
    },
    {
     "name": "stderr",
     "output_type": "stream",
     "text": [
      "100%|██████████| 153/153 [00:04<00:00, 33.04it/s]\n",
      " 16%|█▌        | 31/200 [02:09<12:23,  4.40s/it]"
     ]
    },
    {
     "name": "stdout",
     "output_type": "stream",
     "text": [
      "Epoch 30, Loss: 0.957792184321709\n"
     ]
    },
    {
     "name": "stderr",
     "output_type": "stream",
     "text": [
      "100%|██████████| 153/153 [00:04<00:00, 33.46it/s]\n",
      " 16%|█▌        | 32/200 [02:13<12:28,  4.45s/it]"
     ]
    },
    {
     "name": "stdout",
     "output_type": "stream",
     "text": [
      "Epoch 31, Loss: 0.9575018664590673\n"
     ]
    },
    {
     "name": "stderr",
     "output_type": "stream",
     "text": [
      "100%|██████████| 153/153 [00:04<00:00, 33.57it/s]\n",
      " 16%|█▋        | 33/200 [02:18<12:29,  4.49s/it]"
     ]
    },
    {
     "name": "stdout",
     "output_type": "stream",
     "text": [
      "Epoch 32, Loss: 0.9503980127035403\n"
     ]
    },
    {
     "name": "stderr",
     "output_type": "stream",
     "text": [
      "100%|██████████| 153/153 [00:04<00:00, 35.20it/s]\n",
      " 17%|█▋        | 34/200 [02:22<12:17,  4.44s/it]"
     ]
    },
    {
     "name": "stdout",
     "output_type": "stream",
     "text": [
      "Epoch 33, Loss: 0.947513138936236\n"
     ]
    },
    {
     "name": "stderr",
     "output_type": "stream",
     "text": [
      "100%|██████████| 153/153 [00:04<00:00, 35.15it/s]\n",
      " 18%|█▊        | 35/200 [02:27<12:08,  4.42s/it]"
     ]
    },
    {
     "name": "stdout",
     "output_type": "stream",
     "text": [
      "Epoch 34, Loss: 0.9322215306992624\n"
     ]
    },
    {
     "name": "stderr",
     "output_type": "stream",
     "text": [
      "100%|██████████| 153/153 [00:04<00:00, 35.11it/s]\n",
      " 18%|█▊        | 36/200 [02:31<12:01,  4.40s/it]"
     ]
    },
    {
     "name": "stdout",
     "output_type": "stream",
     "text": [
      "Epoch 35, Loss: 0.9322423876500597\n"
     ]
    },
    {
     "name": "stderr",
     "output_type": "stream",
     "text": [
      "100%|██████████| 153/153 [00:04<00:00, 33.79it/s]\n",
      " 18%|█▊        | 37/200 [02:36<12:03,  4.44s/it]"
     ]
    },
    {
     "name": "stdout",
     "output_type": "stream",
     "text": [
      "Epoch 36, Loss: 0.9245583956537683\n"
     ]
    },
    {
     "name": "stderr",
     "output_type": "stream",
     "text": [
      "100%|██████████| 153/153 [00:04<00:00, 35.47it/s]\n",
      " 19%|█▉        | 38/200 [02:40<11:53,  4.40s/it]"
     ]
    },
    {
     "name": "stdout",
     "output_type": "stream",
     "text": [
      "Epoch 37, Loss: 0.9319570941083571\n"
     ]
    },
    {
     "name": "stderr",
     "output_type": "stream",
     "text": [
      "100%|██████████| 153/153 [00:04<00:00, 35.10it/s]\n",
      " 20%|█▉        | 39/200 [02:44<11:46,  4.39s/it]"
     ]
    },
    {
     "name": "stdout",
     "output_type": "stream",
     "text": [
      "Epoch 38, Loss: 0.9369507985177383\n"
     ]
    },
    {
     "name": "stderr",
     "output_type": "stream",
     "text": [
      "100%|██████████| 153/153 [00:04<00:00, 35.36it/s]\n",
      " 20%|██        | 40/200 [02:49<11:39,  4.37s/it]"
     ]
    },
    {
     "name": "stdout",
     "output_type": "stream",
     "text": [
      "Epoch 39, Loss: 0.9119452051087922\n"
     ]
    },
    {
     "name": "stderr",
     "output_type": "stream",
     "text": [
      "100%|██████████| 153/153 [00:04<00:00, 35.23it/s]\n",
      " 20%|██        | 41/200 [02:53<11:33,  4.36s/it]"
     ]
    },
    {
     "name": "stdout",
     "output_type": "stream",
     "text": [
      "Epoch 40, Loss: 0.9223444991641574\n"
     ]
    },
    {
     "name": "stderr",
     "output_type": "stream",
     "text": [
      "100%|██████████| 153/153 [00:04<00:00, 35.36it/s]\n",
      " 21%|██        | 42/200 [02:57<11:27,  4.35s/it]"
     ]
    },
    {
     "name": "stdout",
     "output_type": "stream",
     "text": [
      "Epoch 41, Loss: 0.8985657189406601\n"
     ]
    },
    {
     "name": "stderr",
     "output_type": "stream",
     "text": [
      "100%|██████████| 153/153 [00:04<00:00, 35.27it/s]\n",
      " 22%|██▏       | 43/200 [03:02<11:22,  4.35s/it]"
     ]
    },
    {
     "name": "stdout",
     "output_type": "stream",
     "text": [
      "Epoch 42, Loss: 0.8986348494205599\n"
     ]
    },
    {
     "name": "stderr",
     "output_type": "stream",
     "text": [
      "100%|██████████| 153/153 [00:04<00:00, 35.00it/s]\n",
      " 22%|██▏       | 44/200 [03:06<11:19,  4.36s/it]"
     ]
    },
    {
     "name": "stdout",
     "output_type": "stream",
     "text": [
      "Epoch 43, Loss: 0.9007695948376375\n"
     ]
    },
    {
     "name": "stderr",
     "output_type": "stream",
     "text": [
      "100%|██████████| 153/153 [00:04<00:00, 35.16it/s]\n",
      " 22%|██▎       | 45/200 [03:10<11:15,  4.36s/it]"
     ]
    },
    {
     "name": "stdout",
     "output_type": "stream",
     "text": [
      "Epoch 44, Loss: 0.8841297517414966\n"
     ]
    },
    {
     "name": "stderr",
     "output_type": "stream",
     "text": [
      "100%|██████████| 153/153 [00:04<00:00, 35.18it/s]\n",
      " 23%|██▎       | 46/200 [03:15<11:10,  4.35s/it]"
     ]
    },
    {
     "name": "stdout",
     "output_type": "stream",
     "text": [
      "Epoch 45, Loss: 0.8815581101218081\n"
     ]
    },
    {
     "name": "stderr",
     "output_type": "stream",
     "text": [
      "100%|██████████| 153/153 [00:04<00:00, 35.48it/s]\n",
      " 24%|██▎       | 47/200 [03:19<11:04,  4.34s/it]"
     ]
    },
    {
     "name": "stdout",
     "output_type": "stream",
     "text": [
      "Epoch 46, Loss: 0.8842593018525566\n"
     ]
    },
    {
     "name": "stderr",
     "output_type": "stream",
     "text": [
      "100%|██████████| 153/153 [00:04<00:00, 34.75it/s]\n",
      " 24%|██▍       | 48/200 [03:23<11:02,  4.36s/it]"
     ]
    },
    {
     "name": "stdout",
     "output_type": "stream",
     "text": [
      "Epoch 47, Loss: 0.8790705001432132\n"
     ]
    },
    {
     "name": "stderr",
     "output_type": "stream",
     "text": [
      "100%|██████████| 153/153 [00:04<00:00, 35.73it/s]\n",
      " 24%|██▍       | 49/200 [03:28<10:55,  4.34s/it]"
     ]
    },
    {
     "name": "stdout",
     "output_type": "stream",
     "text": [
      "Epoch 48, Loss: 0.8762852008046668\n"
     ]
    },
    {
     "name": "stderr",
     "output_type": "stream",
     "text": [
      "100%|██████████| 153/153 [00:04<00:00, 35.58it/s]\n",
      " 25%|██▌       | 50/200 [03:32<10:49,  4.33s/it]"
     ]
    },
    {
     "name": "stdout",
     "output_type": "stream",
     "text": [
      "Epoch 49, Loss: 0.8794695236324485\n"
     ]
    },
    {
     "name": "stderr",
     "output_type": "stream",
     "text": [
      "100%|██████████| 153/153 [00:04<00:00, 35.66it/s]\n",
      " 26%|██▌       | 51/200 [03:36<10:43,  4.32s/it]"
     ]
    },
    {
     "name": "stdout",
     "output_type": "stream",
     "text": [
      "Epoch 50, Loss: 0.8752526224049089\n"
     ]
    },
    {
     "name": "stderr",
     "output_type": "stream",
     "text": [
      "100%|██████████| 153/153 [00:04<00:00, 35.97it/s]\n",
      " 26%|██▌       | 52/200 [03:40<10:36,  4.30s/it]"
     ]
    },
    {
     "name": "stdout",
     "output_type": "stream",
     "text": [
      "Epoch 51, Loss: 0.8753150966432359\n"
     ]
    },
    {
     "name": "stderr",
     "output_type": "stream",
     "text": [
      "100%|██████████| 153/153 [00:04<00:00, 35.75it/s]\n",
      " 26%|██▋       | 53/200 [03:45<10:31,  4.29s/it]"
     ]
    },
    {
     "name": "stdout",
     "output_type": "stream",
     "text": [
      "Epoch 52, Loss: 0.874831140820497\n"
     ]
    },
    {
     "name": "stderr",
     "output_type": "stream",
     "text": [
      "100%|██████████| 153/153 [00:04<00:00, 35.38it/s]\n",
      " 27%|██▋       | 54/200 [03:49<10:28,  4.30s/it]"
     ]
    },
    {
     "name": "stdout",
     "output_type": "stream",
     "text": [
      "Epoch 53, Loss: 0.8710592926717272\n"
     ]
    },
    {
     "name": "stderr",
     "output_type": "stream",
     "text": [
      "100%|██████████| 153/153 [00:04<00:00, 35.72it/s]\n",
      " 28%|██▊       | 55/200 [03:53<10:23,  4.30s/it]"
     ]
    },
    {
     "name": "stdout",
     "output_type": "stream",
     "text": [
      "Epoch 54, Loss: 0.8620031312400219\n"
     ]
    },
    {
     "name": "stderr",
     "output_type": "stream",
     "text": [
      "100%|██████████| 153/153 [00:04<00:00, 35.58it/s]\n",
      " 28%|██▊       | 56/200 [03:58<10:19,  4.30s/it]"
     ]
    },
    {
     "name": "stdout",
     "output_type": "stream",
     "text": [
      "Epoch 55, Loss: 0.8596843897906783\n"
     ]
    },
    {
     "name": "stderr",
     "output_type": "stream",
     "text": [
      "100%|██████████| 153/153 [00:04<00:00, 35.85it/s]\n",
      " 28%|██▊       | 57/200 [04:02<10:13,  4.29s/it]"
     ]
    },
    {
     "name": "stdout",
     "output_type": "stream",
     "text": [
      "Epoch 56, Loss: 0.8637388971895953\n"
     ]
    },
    {
     "name": "stderr",
     "output_type": "stream",
     "text": [
      "100%|██████████| 153/153 [00:04<00:00, 35.71it/s]\n",
      " 29%|██▉       | 58/200 [04:06<10:09,  4.29s/it]"
     ]
    },
    {
     "name": "stdout",
     "output_type": "stream",
     "text": [
      "Epoch 57, Loss: 0.8598579842280718\n"
     ]
    },
    {
     "name": "stderr",
     "output_type": "stream",
     "text": [
      "100%|██████████| 153/153 [00:04<00:00, 35.62it/s]\n",
      " 30%|██▉       | 59/200 [04:11<10:05,  4.29s/it]"
     ]
    },
    {
     "name": "stdout",
     "output_type": "stream",
     "text": [
      "Epoch 58, Loss: 0.8650611004019095\n"
     ]
    },
    {
     "name": "stderr",
     "output_type": "stream",
     "text": [
      "100%|██████████| 153/153 [00:04<00:00, 35.69it/s]\n",
      " 30%|███       | 60/200 [04:15<10:00,  4.29s/it]"
     ]
    },
    {
     "name": "stdout",
     "output_type": "stream",
     "text": [
      "Epoch 59, Loss: 0.8716116500835792\n"
     ]
    },
    {
     "name": "stderr",
     "output_type": "stream",
     "text": [
      "100%|██████████| 153/153 [00:04<00:00, 35.54it/s]\n",
      " 30%|███       | 61/200 [04:19<09:57,  4.30s/it]"
     ]
    },
    {
     "name": "stdout",
     "output_type": "stream",
     "text": [
      "Epoch 60, Loss: 0.8475820196220298\n"
     ]
    },
    {
     "name": "stderr",
     "output_type": "stream",
     "text": [
      "100%|██████████| 153/153 [00:04<00:00, 33.93it/s]\n",
      " 31%|███       | 62/200 [04:24<10:01,  4.36s/it]"
     ]
    },
    {
     "name": "stdout",
     "output_type": "stream",
     "text": [
      "Epoch 61, Loss: 0.8457207835577671\n"
     ]
    },
    {
     "name": "stderr",
     "output_type": "stream",
     "text": [
      "100%|██████████| 153/153 [00:04<00:00, 35.52it/s]\n",
      " 32%|███▏      | 63/200 [04:28<09:55,  4.34s/it]"
     ]
    },
    {
     "name": "stdout",
     "output_type": "stream",
     "text": [
      "Epoch 62, Loss: 0.8395611032161837\n"
     ]
    },
    {
     "name": "stderr",
     "output_type": "stream",
     "text": [
      "100%|██████████| 153/153 [00:04<00:00, 35.10it/s]\n",
      " 32%|███▏      | 64/200 [04:32<09:51,  4.35s/it]"
     ]
    },
    {
     "name": "stdout",
     "output_type": "stream",
     "text": [
      "Epoch 63, Loss: 0.8344034755152036\n"
     ]
    },
    {
     "name": "stderr",
     "output_type": "stream",
     "text": [
      "100%|██████████| 153/153 [00:04<00:00, 35.41it/s]\n",
      " 32%|███▎      | 65/200 [04:37<09:46,  4.34s/it]"
     ]
    },
    {
     "name": "stdout",
     "output_type": "stream",
     "text": [
      "Epoch 64, Loss: 0.828544067401512\n"
     ]
    },
    {
     "name": "stderr",
     "output_type": "stream",
     "text": [
      "100%|██████████| 153/153 [00:04<00:00, 35.21it/s]\n",
      " 33%|███▎      | 66/200 [04:41<09:41,  4.34s/it]"
     ]
    },
    {
     "name": "stdout",
     "output_type": "stream",
     "text": [
      "Epoch 65, Loss: 0.8281298073288662\n"
     ]
    },
    {
     "name": "stderr",
     "output_type": "stream",
     "text": [
      "100%|██████████| 153/153 [00:04<00:00, 35.35it/s]\n",
      " 34%|███▎      | 67/200 [04:45<09:37,  4.34s/it]"
     ]
    },
    {
     "name": "stdout",
     "output_type": "stream",
     "text": [
      "Epoch 66, Loss: 0.8261890851594265\n"
     ]
    },
    {
     "name": "stderr",
     "output_type": "stream",
     "text": [
      "100%|██████████| 153/153 [00:04<00:00, 35.28it/s]\n",
      " 34%|███▍      | 68/200 [04:50<09:32,  4.34s/it]"
     ]
    },
    {
     "name": "stdout",
     "output_type": "stream",
     "text": [
      "Epoch 67, Loss: 0.8312983201220144\n"
     ]
    },
    {
     "name": "stderr",
     "output_type": "stream",
     "text": [
      "100%|██████████| 153/153 [00:04<00:00, 35.17it/s]\n",
      " 34%|███▍      | 69/200 [04:54<09:28,  4.34s/it]"
     ]
    },
    {
     "name": "stdout",
     "output_type": "stream",
     "text": [
      "Epoch 68, Loss: 0.81741072188795\n"
     ]
    },
    {
     "name": "stderr",
     "output_type": "stream",
     "text": [
      "100%|██████████| 153/153 [00:04<00:00, 35.55it/s]\n",
      " 35%|███▌      | 70/200 [04:58<09:23,  4.33s/it]"
     ]
    },
    {
     "name": "stdout",
     "output_type": "stream",
     "text": [
      "Epoch 69, Loss: 0.8163094103725907\n"
     ]
    },
    {
     "name": "stderr",
     "output_type": "stream",
     "text": [
      "100%|██████████| 153/153 [00:04<00:00, 34.86it/s]\n",
      " 36%|███▌      | 71/200 [05:03<09:21,  4.35s/it]"
     ]
    },
    {
     "name": "stdout",
     "output_type": "stream",
     "text": [
      "Epoch 70, Loss: 0.8156617392901502\n"
     ]
    },
    {
     "name": "stderr",
     "output_type": "stream",
     "text": [
      "100%|██████████| 153/153 [00:04<00:00, 35.16it/s]\n",
      " 36%|███▌      | 72/200 [05:07<09:16,  4.35s/it]"
     ]
    },
    {
     "name": "stdout",
     "output_type": "stream",
     "text": [
      "Epoch 71, Loss: 0.8137244862668654\n"
     ]
    },
    {
     "name": "stderr",
     "output_type": "stream",
     "text": [
      "100%|██████████| 153/153 [00:04<00:00, 34.85it/s]\n",
      " 36%|███▋      | 73/200 [05:11<09:14,  4.36s/it]"
     ]
    },
    {
     "name": "stdout",
     "output_type": "stream",
     "text": [
      "Epoch 72, Loss: 0.8082762247596691\n"
     ]
    },
    {
     "name": "stderr",
     "output_type": "stream",
     "text": [
      "100%|██████████| 153/153 [00:04<00:00, 35.41it/s]\n",
      " 37%|███▋      | 74/200 [05:16<09:08,  4.35s/it]"
     ]
    },
    {
     "name": "stdout",
     "output_type": "stream",
     "text": [
      "Epoch 73, Loss: 0.8070602900062511\n"
     ]
    },
    {
     "name": "stderr",
     "output_type": "stream",
     "text": [
      "100%|██████████| 153/153 [00:04<00:00, 35.07it/s]\n",
      " 38%|███▊      | 75/200 [05:20<09:04,  4.35s/it]"
     ]
    },
    {
     "name": "stdout",
     "output_type": "stream",
     "text": [
      "Epoch 74, Loss: 0.8056037994771222\n"
     ]
    },
    {
     "name": "stderr",
     "output_type": "stream",
     "text": [
      "100%|██████████| 153/153 [00:04<00:00, 35.19it/s]\n",
      " 38%|███▊      | 76/200 [05:24<08:59,  4.35s/it]"
     ]
    },
    {
     "name": "stdout",
     "output_type": "stream",
     "text": [
      "Epoch 75, Loss: 0.8037998002339033\n"
     ]
    },
    {
     "name": "stderr",
     "output_type": "stream",
     "text": [
      "100%|██████████| 153/153 [00:04<00:00, 34.94it/s]\n",
      " 38%|███▊      | 77/200 [05:29<08:56,  4.36s/it]"
     ]
    },
    {
     "name": "stdout",
     "output_type": "stream",
     "text": [
      "Epoch 76, Loss: 0.8093302916078007\n"
     ]
    },
    {
     "name": "stderr",
     "output_type": "stream",
     "text": [
      "100%|██████████| 153/153 [00:04<00:00, 35.05it/s]\n",
      " 39%|███▉      | 78/200 [05:33<08:52,  4.36s/it]"
     ]
    },
    {
     "name": "stdout",
     "output_type": "stream",
     "text": [
      "Epoch 77, Loss: 0.8162126774881401\n"
     ]
    },
    {
     "name": "stderr",
     "output_type": "stream",
     "text": [
      "100%|██████████| 153/153 [00:04<00:00, 35.25it/s]\n",
      " 40%|███▉      | 79/200 [05:38<08:47,  4.36s/it]"
     ]
    },
    {
     "name": "stdout",
     "output_type": "stream",
     "text": [
      "Epoch 78, Loss: 0.7990315868184458\n"
     ]
    },
    {
     "name": "stderr",
     "output_type": "stream",
     "text": [
      "100%|██████████| 153/153 [00:04<00:00, 35.35it/s]\n",
      " 40%|████      | 80/200 [05:42<08:41,  4.35s/it]"
     ]
    },
    {
     "name": "stdout",
     "output_type": "stream",
     "text": [
      "Epoch 79, Loss: 0.8033237613104527\n"
     ]
    },
    {
     "name": "stderr",
     "output_type": "stream",
     "text": [
      "100%|██████████| 153/153 [00:04<00:00, 35.14it/s]\n",
      " 40%|████      | 81/200 [05:46<08:37,  4.35s/it]"
     ]
    },
    {
     "name": "stdout",
     "output_type": "stream",
     "text": [
      "Epoch 80, Loss: 0.7973923024788402\n"
     ]
    },
    {
     "name": "stderr",
     "output_type": "stream",
     "text": [
      "100%|██████████| 153/153 [00:04<00:00, 34.96it/s]\n",
      " 41%|████      | 82/200 [05:51<08:34,  4.36s/it]"
     ]
    },
    {
     "name": "stdout",
     "output_type": "stream",
     "text": [
      "Epoch 81, Loss: 0.7970782884585312\n"
     ]
    },
    {
     "name": "stderr",
     "output_type": "stream",
     "text": [
      "100%|██████████| 153/153 [00:04<00:00, 35.25it/s]\n",
      " 42%|████▏     | 83/200 [05:55<08:29,  4.35s/it]"
     ]
    },
    {
     "name": "stdout",
     "output_type": "stream",
     "text": [
      "Epoch 82, Loss: 0.7970152427168453\n"
     ]
    },
    {
     "name": "stderr",
     "output_type": "stream",
     "text": [
      "100%|██████████| 153/153 [00:04<00:00, 34.99it/s]\n",
      " 42%|████▏     | 84/200 [05:59<08:25,  4.36s/it]"
     ]
    },
    {
     "name": "stdout",
     "output_type": "stream",
     "text": [
      "Epoch 83, Loss: 0.7943179735950395\n"
     ]
    },
    {
     "name": "stderr",
     "output_type": "stream",
     "text": [
      "100%|██████████| 153/153 [00:04<00:00, 35.22it/s]\n",
      " 42%|████▎     | 85/200 [06:04<08:20,  4.36s/it]"
     ]
    },
    {
     "name": "stdout",
     "output_type": "stream",
     "text": [
      "Epoch 84, Loss: 0.7899158016528959\n"
     ]
    },
    {
     "name": "stderr",
     "output_type": "stream",
     "text": [
      "100%|██████████| 153/153 [00:04<00:00, 33.62it/s]\n",
      " 43%|████▎     | 86/200 [06:08<08:23,  4.42s/it]"
     ]
    },
    {
     "name": "stdout",
     "output_type": "stream",
     "text": [
      "Epoch 85, Loss: 0.8095539734254475\n"
     ]
    },
    {
     "name": "stderr",
     "output_type": "stream",
     "text": [
      "100%|██████████| 153/153 [00:04<00:00, 35.25it/s]\n",
      " 44%|████▎     | 87/200 [06:13<08:16,  4.39s/it]"
     ]
    },
    {
     "name": "stdout",
     "output_type": "stream",
     "text": [
      "Epoch 86, Loss: 0.7999964473294277\n"
     ]
    },
    {
     "name": "stderr",
     "output_type": "stream",
     "text": [
      "100%|██████████| 153/153 [00:04<00:00, 34.93it/s]\n",
      " 44%|████▍     | 88/200 [06:17<08:11,  4.39s/it]"
     ]
    },
    {
     "name": "stdout",
     "output_type": "stream",
     "text": [
      "Epoch 87, Loss: 0.7940254203634325\n"
     ]
    },
    {
     "name": "stderr",
     "output_type": "stream",
     "text": [
      "100%|██████████| 153/153 [00:04<00:00, 34.87it/s]\n",
      " 44%|████▍     | 89/200 [06:21<08:07,  4.39s/it]"
     ]
    },
    {
     "name": "stdout",
     "output_type": "stream",
     "text": [
      "Epoch 88, Loss: 0.7970594728694242\n"
     ]
    },
    {
     "name": "stderr",
     "output_type": "stream",
     "text": [
      "100%|██████████| 153/153 [00:04<00:00, 35.11it/s]\n",
      " 45%|████▌     | 90/200 [06:26<08:01,  4.38s/it]"
     ]
    },
    {
     "name": "stdout",
     "output_type": "stream",
     "text": [
      "Epoch 89, Loss: 0.8074092046887267\n"
     ]
    },
    {
     "name": "stderr",
     "output_type": "stream",
     "text": [
      "100%|██████████| 153/153 [00:04<00:00, 35.08it/s]\n",
      " 46%|████▌     | 91/200 [06:30<07:56,  4.38s/it]"
     ]
    },
    {
     "name": "stdout",
     "output_type": "stream",
     "text": [
      "Epoch 90, Loss: 0.7958614802828022\n"
     ]
    },
    {
     "name": "stderr",
     "output_type": "stream",
     "text": [
      "100%|██████████| 153/153 [00:04<00:00, 34.58it/s]\n",
      " 46%|████▌     | 92/200 [06:34<07:54,  4.39s/it]"
     ]
    },
    {
     "name": "stdout",
     "output_type": "stream",
     "text": [
      "Epoch 91, Loss: 0.7902036924767338\n"
     ]
    },
    {
     "name": "stderr",
     "output_type": "stream",
     "text": [
      "100%|██████████| 153/153 [00:04<00:00, 34.96it/s]\n",
      " 46%|████▋     | 93/200 [06:39<07:49,  4.39s/it]"
     ]
    },
    {
     "name": "stdout",
     "output_type": "stream",
     "text": [
      "Epoch 92, Loss: 0.7848207658412409\n"
     ]
    },
    {
     "name": "stderr",
     "output_type": "stream",
     "text": [
      "100%|██████████| 153/153 [00:04<00:00, 35.07it/s]\n",
      " 47%|████▋     | 94/200 [06:43<07:44,  4.38s/it]"
     ]
    },
    {
     "name": "stdout",
     "output_type": "stream",
     "text": [
      "Epoch 93, Loss: 0.7804183075630587\n"
     ]
    },
    {
     "name": "stderr",
     "output_type": "stream",
     "text": [
      "100%|██████████| 153/153 [00:04<00:00, 35.24it/s]\n",
      " 48%|████▊     | 95/200 [06:48<07:38,  4.37s/it]"
     ]
    },
    {
     "name": "stdout",
     "output_type": "stream",
     "text": [
      "Epoch 94, Loss: 0.7850772270969316\n"
     ]
    },
    {
     "name": "stderr",
     "output_type": "stream",
     "text": [
      "100%|██████████| 153/153 [00:04<00:00, 34.92it/s]\n",
      " 48%|████▊     | 96/200 [06:52<07:34,  4.37s/it]"
     ]
    },
    {
     "name": "stdout",
     "output_type": "stream",
     "text": [
      "Epoch 95, Loss: 0.7790110621576994\n"
     ]
    },
    {
     "name": "stderr",
     "output_type": "stream",
     "text": [
      "100%|██████████| 153/153 [00:04<00:00, 35.15it/s]\n",
      " 48%|████▊     | 97/200 [06:56<07:29,  4.37s/it]"
     ]
    },
    {
     "name": "stdout",
     "output_type": "stream",
     "text": [
      "Epoch 96, Loss: 0.7806203388700298\n"
     ]
    },
    {
     "name": "stderr",
     "output_type": "stream",
     "text": [
      "100%|██████████| 153/153 [00:04<00:00, 34.64it/s]\n",
      " 49%|████▉     | 98/200 [07:01<07:27,  4.38s/it]"
     ]
    },
    {
     "name": "stdout",
     "output_type": "stream",
     "text": [
      "Epoch 97, Loss: 0.7832802362691343\n"
     ]
    },
    {
     "name": "stderr",
     "output_type": "stream",
     "text": [
      "100%|██████████| 153/153 [00:04<00:00, 34.48it/s]\n",
      " 50%|████▉     | 99/200 [07:05<07:24,  4.40s/it]"
     ]
    },
    {
     "name": "stdout",
     "output_type": "stream",
     "text": [
      "Epoch 98, Loss: 0.7773670094465118\n"
     ]
    },
    {
     "name": "stderr",
     "output_type": "stream",
     "text": [
      "100%|██████████| 153/153 [00:04<00:00, 34.59it/s]\n",
      " 50%|█████     | 100/200 [07:10<07:20,  4.41s/it]"
     ]
    },
    {
     "name": "stdout",
     "output_type": "stream",
     "text": [
      "Epoch 99, Loss: 0.7756396571016\n"
     ]
    },
    {
     "name": "stderr",
     "output_type": "stream",
     "text": [
      "100%|██████████| 153/153 [00:04<00:00, 34.88it/s]\n",
      " 50%|█████     | 101/200 [07:14<07:15,  4.40s/it]"
     ]
    },
    {
     "name": "stdout",
     "output_type": "stream",
     "text": [
      "Epoch 100, Loss: 0.7745248102674297\n"
     ]
    },
    {
     "name": "stderr",
     "output_type": "stream",
     "text": [
      "100%|██████████| 153/153 [00:04<00:00, 34.39it/s]\n",
      " 51%|█████     | 102/200 [07:18<07:12,  4.42s/it]"
     ]
    },
    {
     "name": "stdout",
     "output_type": "stream",
     "text": [
      "Epoch 101, Loss: 0.7828085975709305\n"
     ]
    },
    {
     "name": "stderr",
     "output_type": "stream",
     "text": [
      "100%|██████████| 153/153 [00:04<00:00, 34.87it/s]\n",
      " 52%|█████▏    | 103/200 [07:23<07:07,  4.41s/it]"
     ]
    },
    {
     "name": "stdout",
     "output_type": "stream",
     "text": [
      "Epoch 102, Loss: 0.7745513573191525\n"
     ]
    },
    {
     "name": "stderr",
     "output_type": "stream",
     "text": [
      "100%|██████████| 153/153 [00:04<00:00, 35.06it/s]\n",
      " 52%|█████▏    | 104/200 [07:27<07:01,  4.40s/it]"
     ]
    },
    {
     "name": "stdout",
     "output_type": "stream",
     "text": [
      "Epoch 103, Loss: 0.7678626943257899\n"
     ]
    },
    {
     "name": "stderr",
     "output_type": "stream",
     "text": [
      "100%|██████████| 153/153 [00:04<00:00, 34.84it/s]\n",
      " 52%|█████▎    | 105/200 [07:32<06:57,  4.40s/it]"
     ]
    },
    {
     "name": "stdout",
     "output_type": "stream",
     "text": [
      "Epoch 104, Loss: 0.7669413903959437\n"
     ]
    },
    {
     "name": "stderr",
     "output_type": "stream",
     "text": [
      "100%|██████████| 153/153 [00:04<00:00, 34.75it/s]\n",
      " 53%|█████▎    | 106/200 [07:36<06:53,  4.40s/it]"
     ]
    },
    {
     "name": "stdout",
     "output_type": "stream",
     "text": [
      "Epoch 105, Loss: 0.7698948862505894\n"
     ]
    },
    {
     "name": "stderr",
     "output_type": "stream",
     "text": [
      "100%|██████████| 153/153 [00:04<00:00, 35.11it/s]\n",
      " 54%|█████▎    | 107/200 [07:40<06:47,  4.39s/it]"
     ]
    },
    {
     "name": "stdout",
     "output_type": "stream",
     "text": [
      "Epoch 106, Loss: 0.7738189377815895\n"
     ]
    },
    {
     "name": "stderr",
     "output_type": "stream",
     "text": [
      "100%|██████████| 153/153 [00:04<00:00, 34.48it/s]\n",
      " 54%|█████▍    | 108/200 [07:45<06:45,  4.40s/it]"
     ]
    },
    {
     "name": "stdout",
     "output_type": "stream",
     "text": [
      "Epoch 107, Loss: 0.7716770176014869\n"
     ]
    },
    {
     "name": "stderr",
     "output_type": "stream",
     "text": [
      "100%|██████████| 153/153 [00:04<00:00, 34.73it/s]\n",
      " 55%|█████▍    | 109/200 [07:49<06:40,  4.40s/it]"
     ]
    },
    {
     "name": "stdout",
     "output_type": "stream",
     "text": [
      "Epoch 108, Loss: 0.7724650708678501\n"
     ]
    },
    {
     "name": "stderr",
     "output_type": "stream",
     "text": [
      "100%|██████████| 153/153 [00:04<00:00, 34.62it/s]\n",
      " 55%|█████▌    | 110/200 [07:54<06:36,  4.41s/it]"
     ]
    },
    {
     "name": "stdout",
     "output_type": "stream",
     "text": [
      "Epoch 109, Loss: 0.7678581141178904\n"
     ]
    },
    {
     "name": "stderr",
     "output_type": "stream",
     "text": [
      "100%|██████████| 153/153 [00:04<00:00, 33.10it/s]\n",
      " 56%|█████▌    | 111/200 [07:58<06:38,  4.47s/it]"
     ]
    },
    {
     "name": "stdout",
     "output_type": "stream",
     "text": [
      "Epoch 110, Loss: 0.7733346445887697\n"
     ]
    },
    {
     "name": "stderr",
     "output_type": "stream",
     "text": [
      "100%|██████████| 153/153 [00:04<00:00, 34.61it/s]\n",
      " 56%|█████▌    | 112/200 [08:03<06:32,  4.46s/it]"
     ]
    },
    {
     "name": "stdout",
     "output_type": "stream",
     "text": [
      "Epoch 111, Loss: 0.7792918861301896\n"
     ]
    },
    {
     "name": "stderr",
     "output_type": "stream",
     "text": [
      "100%|██████████| 153/153 [00:04<00:00, 34.76it/s]\n",
      " 56%|█████▋    | 113/200 [08:07<06:26,  4.44s/it]"
     ]
    },
    {
     "name": "stdout",
     "output_type": "stream",
     "text": [
      "Epoch 112, Loss: 0.7632724845331479\n"
     ]
    },
    {
     "name": "stderr",
     "output_type": "stream",
     "text": [
      "100%|██████████| 153/153 [00:04<00:00, 34.69it/s]\n",
      " 57%|█████▋    | 114/200 [08:11<06:21,  4.43s/it]"
     ]
    },
    {
     "name": "stdout",
     "output_type": "stream",
     "text": [
      "Epoch 113, Loss: 0.7546438181322385\n"
     ]
    },
    {
     "name": "stderr",
     "output_type": "stream",
     "text": [
      "100%|██████████| 153/153 [00:04<00:00, 34.99it/s]\n",
      " 57%|█████▊    | 115/200 [08:16<06:15,  4.42s/it]"
     ]
    },
    {
     "name": "stdout",
     "output_type": "stream",
     "text": [
      "Epoch 114, Loss: 0.7594446952826057\n"
     ]
    },
    {
     "name": "stderr",
     "output_type": "stream",
     "text": [
      "100%|██████████| 153/153 [00:04<00:00, 34.47it/s]\n",
      " 58%|█████▊    | 116/200 [08:20<06:11,  4.42s/it]"
     ]
    },
    {
     "name": "stdout",
     "output_type": "stream",
     "text": [
      "Epoch 115, Loss: 0.7624598051987442\n"
     ]
    },
    {
     "name": "stderr",
     "output_type": "stream",
     "text": [
      "100%|██████████| 153/153 [00:04<00:00, 34.99it/s]\n",
      " 58%|█████▊    | 117/200 [08:25<06:05,  4.41s/it]"
     ]
    },
    {
     "name": "stdout",
     "output_type": "stream",
     "text": [
      "Epoch 116, Loss: 0.7666323523895413\n"
     ]
    },
    {
     "name": "stderr",
     "output_type": "stream",
     "text": [
      "100%|██████████| 153/153 [00:04<00:00, 34.76it/s]\n",
      " 59%|█████▉    | 118/200 [08:29<06:01,  4.41s/it]"
     ]
    },
    {
     "name": "stdout",
     "output_type": "stream",
     "text": [
      "Epoch 117, Loss: 0.7626300271040474\n"
     ]
    },
    {
     "name": "stderr",
     "output_type": "stream",
     "text": [
      "100%|██████████| 153/153 [00:04<00:00, 34.66it/s]\n",
      " 60%|█████▉    | 119/200 [08:33<05:57,  4.41s/it]"
     ]
    },
    {
     "name": "stdout",
     "output_type": "stream",
     "text": [
      "Epoch 118, Loss: 0.7560859361505197\n"
     ]
    },
    {
     "name": "stderr",
     "output_type": "stream",
     "text": [
      "100%|██████████| 153/153 [00:04<00:00, 35.11it/s]\n",
      " 60%|██████    | 120/200 [08:38<05:51,  4.39s/it]"
     ]
    },
    {
     "name": "stdout",
     "output_type": "stream",
     "text": [
      "Epoch 119, Loss: 0.7553898555780548\n"
     ]
    },
    {
     "name": "stderr",
     "output_type": "stream",
     "text": [
      "100%|██████████| 153/153 [00:04<00:00, 34.38it/s]\n",
      " 60%|██████    | 121/200 [08:42<05:48,  4.41s/it]"
     ]
    },
    {
     "name": "stdout",
     "output_type": "stream",
     "text": [
      "Epoch 120, Loss: 0.7547763971721425\n"
     ]
    },
    {
     "name": "stderr",
     "output_type": "stream",
     "text": [
      "100%|██████████| 153/153 [00:04<00:00, 34.62it/s]\n",
      " 61%|██████    | 122/200 [08:47<05:44,  4.41s/it]"
     ]
    },
    {
     "name": "stdout",
     "output_type": "stream",
     "text": [
      "Epoch 121, Loss: 0.7604470190659068\n"
     ]
    },
    {
     "name": "stderr",
     "output_type": "stream",
     "text": [
      "100%|██████████| 153/153 [00:04<00:00, 34.63it/s]\n",
      " 62%|██████▏   | 123/200 [08:51<05:40,  4.42s/it]"
     ]
    },
    {
     "name": "stdout",
     "output_type": "stream",
     "text": [
      "Epoch 122, Loss: 0.748962458831812\n"
     ]
    },
    {
     "name": "stderr",
     "output_type": "stream",
     "text": [
      "100%|██████████| 153/153 [00:04<00:00, 34.80it/s]\n",
      " 62%|██████▏   | 124/200 [08:56<05:35,  4.41s/it]"
     ]
    },
    {
     "name": "stdout",
     "output_type": "stream",
     "text": [
      "Epoch 123, Loss: 0.7450881970474144\n"
     ]
    },
    {
     "name": "stderr",
     "output_type": "stream",
     "text": [
      "100%|██████████| 153/153 [00:04<00:00, 32.93it/s]\n",
      " 62%|██████▎   | 125/200 [09:00<05:36,  4.48s/it]"
     ]
    },
    {
     "name": "stdout",
     "output_type": "stream",
     "text": [
      "Epoch 124, Loss: 0.7463609716471504\n"
     ]
    },
    {
     "name": "stderr",
     "output_type": "stream",
     "text": [
      "100%|██████████| 153/153 [00:04<00:00, 33.94it/s]\n",
      " 63%|██████▎   | 126/200 [09:05<05:32,  4.49s/it]"
     ]
    },
    {
     "name": "stdout",
     "output_type": "stream",
     "text": [
      "Epoch 125, Loss: 0.7471073655521169\n"
     ]
    },
    {
     "name": "stderr",
     "output_type": "stream",
     "text": [
      "100%|██████████| 153/153 [00:04<00:00, 34.79it/s]\n",
      " 64%|██████▎   | 127/200 [09:09<05:25,  4.46s/it]"
     ]
    },
    {
     "name": "stdout",
     "output_type": "stream",
     "text": [
      "Epoch 126, Loss: 0.7498674065459008\n"
     ]
    },
    {
     "name": "stderr",
     "output_type": "stream",
     "text": [
      "100%|██████████| 153/153 [00:04<00:00, 34.21it/s]\n",
      " 64%|██████▍   | 128/200 [09:14<05:21,  4.47s/it]"
     ]
    },
    {
     "name": "stdout",
     "output_type": "stream",
     "text": [
      "Epoch 127, Loss: 0.7481258363505594\n"
     ]
    },
    {
     "name": "stderr",
     "output_type": "stream",
     "text": [
      "100%|██████████| 153/153 [00:04<00:00, 34.46it/s]\n",
      " 64%|██████▍   | 129/200 [09:18<05:16,  4.46s/it]"
     ]
    },
    {
     "name": "stdout",
     "output_type": "stream",
     "text": [
      "Epoch 128, Loss: 0.7500811160779467\n"
     ]
    },
    {
     "name": "stderr",
     "output_type": "stream",
     "text": [
      "100%|██████████| 153/153 [00:04<00:00, 34.65it/s]\n",
      " 65%|██████▌   | 130/200 [09:22<05:11,  4.45s/it]"
     ]
    },
    {
     "name": "stdout",
     "output_type": "stream",
     "text": [
      "Epoch 129, Loss: 0.7480726900443532\n"
     ]
    },
    {
     "name": "stderr",
     "output_type": "stream",
     "text": [
      "100%|██████████| 153/153 [00:04<00:00, 34.55it/s]\n",
      " 66%|██████▌   | 131/200 [09:27<05:06,  4.44s/it]"
     ]
    },
    {
     "name": "stdout",
     "output_type": "stream",
     "text": [
      "Epoch 130, Loss: 0.7526613769967572\n"
     ]
    },
    {
     "name": "stderr",
     "output_type": "stream",
     "text": [
      "100%|██████████| 153/153 [00:04<00:00, 34.86it/s]\n",
      " 66%|██████▌   | 132/200 [09:31<05:00,  4.43s/it]"
     ]
    },
    {
     "name": "stdout",
     "output_type": "stream",
     "text": [
      "Epoch 131, Loss: 0.7473943895763822\n"
     ]
    },
    {
     "name": "stderr",
     "output_type": "stream",
     "text": [
      "100%|██████████| 153/153 [00:04<00:00, 34.89it/s]\n",
      " 66%|██████▋   | 133/200 [09:36<04:55,  4.41s/it]"
     ]
    },
    {
     "name": "stdout",
     "output_type": "stream",
     "text": [
      "Epoch 132, Loss: 0.7425964762961942\n"
     ]
    },
    {
     "name": "stderr",
     "output_type": "stream",
     "text": [
      "100%|██████████| 153/153 [00:04<00:00, 34.53it/s]\n",
      " 67%|██████▋   | 134/200 [09:40<04:51,  4.42s/it]"
     ]
    },
    {
     "name": "stdout",
     "output_type": "stream",
     "text": [
      "Epoch 133, Loss: 0.7440452638015248\n"
     ]
    },
    {
     "name": "stderr",
     "output_type": "stream",
     "text": [
      "100%|██████████| 153/153 [00:04<00:00, 32.73it/s]\n",
      " 68%|██████▊   | 135/200 [09:45<04:52,  4.50s/it]"
     ]
    },
    {
     "name": "stdout",
     "output_type": "stream",
     "text": [
      "Epoch 134, Loss: 0.7372686905798569\n"
     ]
    },
    {
     "name": "stderr",
     "output_type": "stream",
     "text": [
      "100%|██████████| 153/153 [00:04<00:00, 34.96it/s]\n",
      " 68%|██████▊   | 136/200 [09:49<04:45,  4.46s/it]"
     ]
    },
    {
     "name": "stdout",
     "output_type": "stream",
     "text": [
      "Epoch 135, Loss: 0.7384166296790627\n"
     ]
    },
    {
     "name": "stderr",
     "output_type": "stream",
     "text": [
      "100%|██████████| 153/153 [00:04<00:00, 34.94it/s]\n",
      " 68%|██████▊   | 137/200 [09:54<04:39,  4.44s/it]"
     ]
    },
    {
     "name": "stdout",
     "output_type": "stream",
     "text": [
      "Epoch 136, Loss: 0.7430982426101086\n"
     ]
    },
    {
     "name": "stderr",
     "output_type": "stream",
     "text": [
      "100%|██████████| 153/153 [00:04<00:00, 33.93it/s]\n",
      " 69%|██████▉   | 138/200 [09:58<04:36,  4.46s/it]"
     ]
    },
    {
     "name": "stdout",
     "output_type": "stream",
     "text": [
      "Epoch 137, Loss: 0.7457734194456362\n"
     ]
    },
    {
     "name": "stderr",
     "output_type": "stream",
     "text": [
      "100%|██████████| 153/153 [00:04<00:00, 34.38it/s]\n",
      " 70%|██████▉   | 139/200 [10:02<04:31,  4.46s/it]"
     ]
    },
    {
     "name": "stdout",
     "output_type": "stream",
     "text": [
      "Epoch 138, Loss: 0.742966334414638\n"
     ]
    },
    {
     "name": "stderr",
     "output_type": "stream",
     "text": [
      "100%|██████████| 153/153 [00:04<00:00, 34.75it/s]\n",
      " 70%|███████   | 140/200 [10:07<04:26,  4.44s/it]"
     ]
    },
    {
     "name": "stdout",
     "output_type": "stream",
     "text": [
      "Epoch 139, Loss: 0.7400222167470096\n"
     ]
    },
    {
     "name": "stderr",
     "output_type": "stream",
     "text": [
      "100%|██████████| 153/153 [00:04<00:00, 34.31it/s]\n",
      " 70%|███████   | 141/200 [10:11<04:22,  4.45s/it]"
     ]
    },
    {
     "name": "stdout",
     "output_type": "stream",
     "text": [
      "Epoch 140, Loss: 0.7366955615336599\n"
     ]
    },
    {
     "name": "stderr",
     "output_type": "stream",
     "text": [
      "100%|██████████| 153/153 [00:04<00:00, 34.23it/s]\n",
      " 71%|███████   | 142/200 [10:16<04:18,  4.45s/it]"
     ]
    },
    {
     "name": "stdout",
     "output_type": "stream",
     "text": [
      "Epoch 141, Loss: 0.7345362025148728\n"
     ]
    },
    {
     "name": "stderr",
     "output_type": "stream",
     "text": [
      "100%|██████████| 153/153 [00:04<00:00, 34.64it/s]\n",
      " 72%|███████▏  | 143/200 [10:20<04:13,  4.44s/it]"
     ]
    },
    {
     "name": "stdout",
     "output_type": "stream",
     "text": [
      "Epoch 142, Loss: 0.7270031318165897\n"
     ]
    },
    {
     "name": "stderr",
     "output_type": "stream",
     "text": [
      "100%|██████████| 153/153 [00:04<00:00, 34.15it/s]\n",
      " 72%|███████▏  | 144/200 [10:25<04:09,  4.46s/it]"
     ]
    },
    {
     "name": "stdout",
     "output_type": "stream",
     "text": [
      "Epoch 143, Loss: 0.7272109806148055\n"
     ]
    },
    {
     "name": "stderr",
     "output_type": "stream",
     "text": [
      "100%|██████████| 153/153 [00:04<00:00, 34.44it/s]\n",
      " 72%|███████▎  | 145/200 [10:29<04:04,  4.45s/it]"
     ]
    },
    {
     "name": "stdout",
     "output_type": "stream",
     "text": [
      "Epoch 144, Loss: 0.7302161544756173\n"
     ]
    },
    {
     "name": "stderr",
     "output_type": "stream",
     "text": [
      "100%|██████████| 153/153 [00:04<00:00, 34.22it/s]\n",
      " 73%|███████▎  | 146/200 [10:34<04:00,  4.46s/it]"
     ]
    },
    {
     "name": "stdout",
     "output_type": "stream",
     "text": [
      "Epoch 145, Loss: 0.7273732384825065\n"
     ]
    },
    {
     "name": "stderr",
     "output_type": "stream",
     "text": [
      "100%|██████████| 153/153 [00:04<00:00, 34.33it/s]\n",
      " 74%|███████▎  | 147/200 [10:38<03:56,  4.46s/it]"
     ]
    },
    {
     "name": "stdout",
     "output_type": "stream",
     "text": [
      "Epoch 146, Loss: 0.7320928448945089\n"
     ]
    },
    {
     "name": "stderr",
     "output_type": "stream",
     "text": [
      "100%|██████████| 153/153 [00:04<00:00, 34.44it/s]\n",
      " 74%|███████▍  | 148/200 [10:43<03:51,  4.45s/it]"
     ]
    },
    {
     "name": "stdout",
     "output_type": "stream",
     "text": [
      "Epoch 147, Loss: 0.7418773411925322\n"
     ]
    },
    {
     "name": "stderr",
     "output_type": "stream",
     "text": [
      "100%|██████████| 153/153 [00:04<00:00, 34.57it/s]\n",
      " 74%|███████▍  | 149/200 [10:47<03:46,  4.45s/it]"
     ]
    },
    {
     "name": "stdout",
     "output_type": "stream",
     "text": [
      "Epoch 148, Loss: 0.741727942734762\n"
     ]
    },
    {
     "name": "stderr",
     "output_type": "stream",
     "text": [
      "100%|██████████| 153/153 [00:04<00:00, 34.68it/s]\n",
      " 75%|███████▌  | 150/200 [10:51<03:41,  4.44s/it]"
     ]
    },
    {
     "name": "stdout",
     "output_type": "stream",
     "text": [
      "Epoch 149, Loss: 0.7293766526614919\n"
     ]
    },
    {
     "name": "stderr",
     "output_type": "stream",
     "text": [
      "100%|██████████| 153/153 [00:04<00:00, 33.74it/s]\n",
      " 76%|███████▌  | 151/200 [10:56<03:38,  4.47s/it]"
     ]
    },
    {
     "name": "stdout",
     "output_type": "stream",
     "text": [
      "Epoch 150, Loss: 0.7404494733592264\n"
     ]
    },
    {
     "name": "stderr",
     "output_type": "stream",
     "text": [
      "100%|██████████| 153/153 [00:04<00:00, 34.39it/s]\n",
      " 76%|███████▌  | 152/200 [11:00<03:34,  4.46s/it]"
     ]
    },
    {
     "name": "stdout",
     "output_type": "stream",
     "text": [
      "Epoch 151, Loss: 0.740816657449685\n"
     ]
    },
    {
     "name": "stderr",
     "output_type": "stream",
     "text": [
      "100%|██████████| 153/153 [00:04<00:00, 34.62it/s]\n",
      " 76%|███████▋  | 153/200 [11:05<03:29,  4.45s/it]"
     ]
    },
    {
     "name": "stdout",
     "output_type": "stream",
     "text": [
      "Epoch 152, Loss: 0.731700941238528\n"
     ]
    },
    {
     "name": "stderr",
     "output_type": "stream",
     "text": [
      "100%|██████████| 153/153 [00:04<00:00, 34.49it/s]\n",
      " 77%|███████▋  | 154/200 [11:09<03:24,  4.45s/it]"
     ]
    },
    {
     "name": "stdout",
     "output_type": "stream",
     "text": [
      "Epoch 153, Loss: 0.7233913564214519\n"
     ]
    },
    {
     "name": "stderr",
     "output_type": "stream",
     "text": [
      "100%|██████████| 153/153 [00:04<00:00, 34.47it/s]\n",
      " 78%|███████▊  | 155/200 [11:14<03:20,  4.44s/it]"
     ]
    },
    {
     "name": "stdout",
     "output_type": "stream",
     "text": [
      "Epoch 154, Loss: 0.725542996833527\n"
     ]
    },
    {
     "name": "stderr",
     "output_type": "stream",
     "text": [
      "100%|██████████| 153/153 [00:04<00:00, 34.25it/s]\n",
      " 78%|███████▊  | 156/200 [11:18<03:15,  4.45s/it]"
     ]
    },
    {
     "name": "stdout",
     "output_type": "stream",
     "text": [
      "Epoch 155, Loss: 0.722072629367604\n"
     ]
    },
    {
     "name": "stderr",
     "output_type": "stream",
     "text": [
      "100%|██████████| 153/153 [00:04<00:00, 34.88it/s]\n",
      " 78%|███████▊  | 157/200 [11:23<03:10,  4.43s/it]"
     ]
    },
    {
     "name": "stdout",
     "output_type": "stream",
     "text": [
      "Epoch 156, Loss: 0.723513483222014\n"
     ]
    },
    {
     "name": "stderr",
     "output_type": "stream",
     "text": [
      "100%|██████████| 153/153 [00:04<00:00, 34.20it/s]\n",
      " 79%|███████▉  | 158/200 [11:27<03:06,  4.45s/it]"
     ]
    },
    {
     "name": "stdout",
     "output_type": "stream",
     "text": [
      "Epoch 157, Loss: 0.7224289494402268\n"
     ]
    },
    {
     "name": "stderr",
     "output_type": "stream",
     "text": [
      "100%|██████████| 153/153 [00:04<00:00, 32.40it/s]\n",
      " 80%|███████▉  | 159/200 [11:32<03:05,  4.53s/it]"
     ]
    },
    {
     "name": "stdout",
     "output_type": "stream",
     "text": [
      "Epoch 158, Loss: 0.723497103631886\n"
     ]
    },
    {
     "name": "stderr",
     "output_type": "stream",
     "text": [
      "100%|██████████| 153/153 [00:04<00:00, 34.61it/s]\n",
      " 80%|████████  | 160/200 [11:36<02:59,  4.50s/it]"
     ]
    },
    {
     "name": "stdout",
     "output_type": "stream",
     "text": [
      "Epoch 159, Loss: 0.7245363706077625\n"
     ]
    },
    {
     "name": "stderr",
     "output_type": "stream",
     "text": [
      "100%|██████████| 153/153 [00:04<00:00, 34.55it/s]\n",
      " 80%|████████  | 161/200 [11:41<02:54,  4.48s/it]"
     ]
    },
    {
     "name": "stdout",
     "output_type": "stream",
     "text": [
      "Epoch 160, Loss: 0.7296772104462766\n"
     ]
    },
    {
     "name": "stderr",
     "output_type": "stream",
     "text": [
      "100%|██████████| 153/153 [00:04<00:00, 34.38it/s]\n",
      " 81%|████████  | 162/200 [11:45<02:49,  4.47s/it]"
     ]
    },
    {
     "name": "stdout",
     "output_type": "stream",
     "text": [
      "Epoch 161, Loss: 0.726576387103087\n"
     ]
    },
    {
     "name": "stderr",
     "output_type": "stream",
     "text": [
      "100%|██████████| 153/153 [00:04<00:00, 34.64it/s]\n",
      " 82%|████████▏ | 163/200 [11:49<02:44,  4.45s/it]"
     ]
    },
    {
     "name": "stdout",
     "output_type": "stream",
     "text": [
      "Epoch 162, Loss: 0.7209068587402893\n"
     ]
    },
    {
     "name": "stderr",
     "output_type": "stream",
     "text": [
      "100%|██████████| 153/153 [00:04<00:00, 34.62it/s]\n",
      " 82%|████████▏ | 164/200 [11:54<02:40,  4.44s/it]"
     ]
    },
    {
     "name": "stdout",
     "output_type": "stream",
     "text": [
      "Epoch 163, Loss: 0.7172447926078747\n"
     ]
    },
    {
     "name": "stderr",
     "output_type": "stream",
     "text": [
      "100%|██████████| 153/153 [00:04<00:00, 34.19it/s]\n",
      " 82%|████████▎ | 165/200 [11:58<02:35,  4.45s/it]"
     ]
    },
    {
     "name": "stdout",
     "output_type": "stream",
     "text": [
      "Epoch 164, Loss: 0.7171405760291355\n"
     ]
    },
    {
     "name": "stderr",
     "output_type": "stream",
     "text": [
      "100%|██████████| 153/153 [00:04<00:00, 33.27it/s]\n",
      " 83%|████████▎ | 166/200 [12:03<02:32,  4.50s/it]"
     ]
    },
    {
     "name": "stdout",
     "output_type": "stream",
     "text": [
      "Epoch 165, Loss: 0.7180309790411806\n"
     ]
    },
    {
     "name": "stderr",
     "output_type": "stream",
     "text": [
      "100%|██████████| 153/153 [00:04<00:00, 34.45it/s]\n",
      " 84%|████████▎ | 167/200 [12:07<02:27,  4.48s/it]"
     ]
    },
    {
     "name": "stdout",
     "output_type": "stream",
     "text": [
      "Epoch 166, Loss: 0.7150648150568694\n"
     ]
    },
    {
     "name": "stderr",
     "output_type": "stream",
     "text": [
      "100%|██████████| 153/153 [00:04<00:00, 34.34it/s]\n",
      " 84%|████████▍ | 168/200 [12:12<02:23,  4.47s/it]"
     ]
    },
    {
     "name": "stdout",
     "output_type": "stream",
     "text": [
      "Epoch 167, Loss: 0.7171282659169116\n"
     ]
    },
    {
     "name": "stderr",
     "output_type": "stream",
     "text": [
      "100%|██████████| 153/153 [00:04<00:00, 33.98it/s]\n",
      " 84%|████████▍ | 169/200 [12:16<02:18,  4.48s/it]"
     ]
    },
    {
     "name": "stdout",
     "output_type": "stream",
     "text": [
      "Epoch 168, Loss: 0.7115007089633568\n"
     ]
    },
    {
     "name": "stderr",
     "output_type": "stream",
     "text": [
      "100%|██████████| 153/153 [00:04<00:00, 34.24it/s]\n",
      " 85%|████████▌ | 170/200 [12:21<02:14,  4.48s/it]"
     ]
    },
    {
     "name": "stdout",
     "output_type": "stream",
     "text": [
      "Epoch 169, Loss: 0.7102995378519196\n"
     ]
    },
    {
     "name": "stderr",
     "output_type": "stream",
     "text": [
      "100%|██████████| 153/153 [00:04<00:00, 34.73it/s]\n",
      " 86%|████████▌ | 171/200 [12:25<02:09,  4.46s/it]"
     ]
    },
    {
     "name": "stdout",
     "output_type": "stream",
     "text": [
      "Epoch 170, Loss: 0.7142724827224133\n"
     ]
    },
    {
     "name": "stderr",
     "output_type": "stream",
     "text": [
      "100%|██████████| 153/153 [00:04<00:00, 34.04it/s]\n",
      " 86%|████████▌ | 172/200 [12:30<02:05,  4.47s/it]"
     ]
    },
    {
     "name": "stdout",
     "output_type": "stream",
     "text": [
      "Epoch 171, Loss: 0.7154533411163131\n"
     ]
    },
    {
     "name": "stderr",
     "output_type": "stream",
     "text": [
      "100%|██████████| 153/153 [00:04<00:00, 33.47it/s]\n",
      " 86%|████████▋ | 173/200 [12:34<02:01,  4.50s/it]"
     ]
    },
    {
     "name": "stdout",
     "output_type": "stream",
     "text": [
      "Epoch 172, Loss: 0.7209617534494088\n"
     ]
    },
    {
     "name": "stderr",
     "output_type": "stream",
     "text": [
      "100%|██████████| 153/153 [00:04<00:00, 34.27it/s]\n",
      " 87%|████████▋ | 174/200 [12:39<01:56,  4.49s/it]"
     ]
    },
    {
     "name": "stdout",
     "output_type": "stream",
     "text": [
      "Epoch 173, Loss: 0.7145092428899279\n"
     ]
    },
    {
     "name": "stderr",
     "output_type": "stream",
     "text": [
      "100%|██████████| 153/153 [00:04<00:00, 33.38it/s]\n",
      " 88%|████████▊ | 175/200 [12:43<01:52,  4.52s/it]"
     ]
    },
    {
     "name": "stdout",
     "output_type": "stream",
     "text": [
      "Epoch 174, Loss: 0.7210926748568716\n"
     ]
    },
    {
     "name": "stderr",
     "output_type": "stream",
     "text": [
      "100%|██████████| 153/153 [00:04<00:00, 33.92it/s]\n",
      " 88%|████████▊ | 176/200 [12:48<01:48,  4.52s/it]"
     ]
    },
    {
     "name": "stdout",
     "output_type": "stream",
     "text": [
      "Epoch 175, Loss: 0.7252595163638296\n"
     ]
    },
    {
     "name": "stderr",
     "output_type": "stream",
     "text": [
      "100%|██████████| 153/153 [00:04<00:00, 33.67it/s]\n",
      " 88%|████████▊ | 177/200 [12:52<01:44,  4.53s/it]"
     ]
    },
    {
     "name": "stdout",
     "output_type": "stream",
     "text": [
      "Epoch 176, Loss: 0.7225337636237051\n"
     ]
    },
    {
     "name": "stderr",
     "output_type": "stream",
     "text": [
      "100%|██████████| 153/153 [00:04<00:00, 33.56it/s]\n",
      " 89%|████████▉ | 178/200 [12:57<01:39,  4.54s/it]"
     ]
    },
    {
     "name": "stdout",
     "output_type": "stream",
     "text": [
      "Epoch 177, Loss: 0.7183362931207894\n"
     ]
    },
    {
     "name": "stderr",
     "output_type": "stream",
     "text": [
      "100%|██████████| 153/153 [00:04<00:00, 34.28it/s]\n",
      " 90%|████████▉ | 179/200 [13:01<01:34,  4.52s/it]"
     ]
    },
    {
     "name": "stdout",
     "output_type": "stream",
     "text": [
      "Epoch 178, Loss: 0.7250094409861596\n"
     ]
    },
    {
     "name": "stderr",
     "output_type": "stream",
     "text": [
      "100%|██████████| 153/153 [00:04<00:00, 34.03it/s]\n",
      " 90%|█████████ | 180/200 [13:06<01:30,  4.51s/it]"
     ]
    },
    {
     "name": "stdout",
     "output_type": "stream",
     "text": [
      "Epoch 179, Loss: 0.7167200192906498\n"
     ]
    },
    {
     "name": "stderr",
     "output_type": "stream",
     "text": [
      "100%|██████████| 153/153 [00:04<00:00, 31.13it/s]\n",
      " 90%|█████████ | 181/200 [13:11<01:28,  4.63s/it]"
     ]
    },
    {
     "name": "stdout",
     "output_type": "stream",
     "text": [
      "Epoch 180, Loss: 0.7207885470265657\n"
     ]
    },
    {
     "name": "stderr",
     "output_type": "stream",
     "text": [
      "100%|██████████| 153/153 [00:05<00:00, 28.11it/s]\n",
      " 91%|█████████ | 182/200 [13:16<01:27,  4.88s/it]"
     ]
    },
    {
     "name": "stdout",
     "output_type": "stream",
     "text": [
      "Epoch 181, Loss: 0.7163997113315108\n"
     ]
    },
    {
     "name": "stderr",
     "output_type": "stream",
     "text": [
      "100%|██████████| 153/153 [00:05<00:00, 29.14it/s]\n",
      " 92%|█████████▏| 183/200 [13:22<01:24,  4.99s/it]"
     ]
    },
    {
     "name": "stdout",
     "output_type": "stream",
     "text": [
      "Epoch 182, Loss: 0.7166382237976673\n"
     ]
    },
    {
     "name": "stderr",
     "output_type": "stream",
     "text": [
      "100%|██████████| 153/153 [00:05<00:00, 28.52it/s]\n",
      " 92%|█████████▏| 184/200 [13:27<01:21,  5.10s/it]"
     ]
    },
    {
     "name": "stdout",
     "output_type": "stream",
     "text": [
      "Epoch 183, Loss: 0.7112050816124561\n"
     ]
    },
    {
     "name": "stderr",
     "output_type": "stream",
     "text": [
      "100%|██████████| 153/153 [00:04<00:00, 30.77it/s]\n",
      " 92%|█████████▎| 185/200 [13:32<01:15,  5.07s/it]"
     ]
    },
    {
     "name": "stdout",
     "output_type": "stream",
     "text": [
      "Epoch 184, Loss: 0.7070992546143875\n"
     ]
    },
    {
     "name": "stderr",
     "output_type": "stream",
     "text": [
      "100%|██████████| 153/153 [00:04<00:00, 31.02it/s]\n",
      " 93%|█████████▎| 186/200 [13:37<01:10,  5.03s/it]"
     ]
    },
    {
     "name": "stdout",
     "output_type": "stream",
     "text": [
      "Epoch 185, Loss: 0.708463767774744\n"
     ]
    },
    {
     "name": "stderr",
     "output_type": "stream",
     "text": [
      "100%|██████████| 153/153 [00:05<00:00, 27.87it/s]\n",
      " 94%|█████████▎| 187/200 [13:42<01:07,  5.17s/it]"
     ]
    },
    {
     "name": "stdout",
     "output_type": "stream",
     "text": [
      "Epoch 186, Loss: 0.7053605937490276\n"
     ]
    },
    {
     "name": "stderr",
     "output_type": "stream",
     "text": [
      "100%|██████████| 153/153 [00:05<00:00, 29.37it/s]\n",
      " 94%|█████████▍| 188/200 [13:48<01:02,  5.18s/it]"
     ]
    },
    {
     "name": "stdout",
     "output_type": "stream",
     "text": [
      "Epoch 187, Loss: 0.7061948071118274\n"
     ]
    },
    {
     "name": "stderr",
     "output_type": "stream",
     "text": [
      "100%|██████████| 153/153 [00:04<00:00, 32.72it/s]\n",
      " 94%|█████████▍| 189/200 [13:52<00:55,  5.03s/it]"
     ]
    },
    {
     "name": "stdout",
     "output_type": "stream",
     "text": [
      "Epoch 188, Loss: 0.7094839191904255\n"
     ]
    },
    {
     "name": "stderr",
     "output_type": "stream",
     "text": [
      "100%|██████████| 153/153 [00:05<00:00, 28.47it/s]\n",
      " 95%|█████████▌| 190/200 [13:58<00:51,  5.13s/it]"
     ]
    },
    {
     "name": "stdout",
     "output_type": "stream",
     "text": [
      "Epoch 189, Loss: 0.7112366023406483\n"
     ]
    },
    {
     "name": "stderr",
     "output_type": "stream",
     "text": [
      "100%|██████████| 153/153 [00:06<00:00, 25.00it/s]\n",
      " 96%|█████████▌| 191/200 [14:04<00:48,  5.43s/it]"
     ]
    },
    {
     "name": "stdout",
     "output_type": "stream",
     "text": [
      "Epoch 190, Loss: 0.7104612869374892\n"
     ]
    },
    {
     "name": "stderr",
     "output_type": "stream",
     "text": [
      "100%|██████████| 153/153 [00:05<00:00, 30.06it/s]\n",
      " 96%|█████████▌| 192/200 [14:09<00:42,  5.33s/it]"
     ]
    },
    {
     "name": "stdout",
     "output_type": "stream",
     "text": [
      "Epoch 191, Loss: 0.7053742015283871\n"
     ]
    },
    {
     "name": "stderr",
     "output_type": "stream",
     "text": [
      "100%|██████████| 153/153 [00:04<00:00, 33.32it/s]\n",
      " 96%|█████████▋| 193/200 [14:13<00:35,  5.11s/it]"
     ]
    },
    {
     "name": "stdout",
     "output_type": "stream",
     "text": [
      "Epoch 192, Loss: 0.714460942869872\n"
     ]
    },
    {
     "name": "stderr",
     "output_type": "stream",
     "text": [
      "100%|██████████| 153/153 [00:05<00:00, 30.07it/s]\n",
      " 97%|█████████▋| 194/200 [14:18<00:30,  5.10s/it]"
     ]
    },
    {
     "name": "stdout",
     "output_type": "stream",
     "text": [
      "Epoch 193, Loss: 0.7182038808180615\n"
     ]
    },
    {
     "name": "stderr",
     "output_type": "stream",
     "text": [
      "100%|██████████| 153/153 [00:05<00:00, 30.01it/s]\n",
      " 98%|█████████▊| 195/200 [14:24<00:25,  5.10s/it]"
     ]
    },
    {
     "name": "stdout",
     "output_type": "stream",
     "text": [
      "Epoch 194, Loss: 0.7121611872529672\n"
     ]
    },
    {
     "name": "stderr",
     "output_type": "stream",
     "text": [
      "100%|██████████| 153/153 [00:04<00:00, 31.61it/s]\n",
      " 98%|█████████▊| 196/200 [14:28<00:20,  5.02s/it]"
     ]
    },
    {
     "name": "stdout",
     "output_type": "stream",
     "text": [
      "Epoch 195, Loss: 0.7102976406321806\n"
     ]
    },
    {
     "name": "stderr",
     "output_type": "stream",
     "text": [
      "100%|██████████| 153/153 [00:04<00:00, 30.99it/s]\n",
      " 98%|█████████▊| 197/200 [14:33<00:14,  5.00s/it]"
     ]
    },
    {
     "name": "stdout",
     "output_type": "stream",
     "text": [
      "Epoch 196, Loss: 0.7157076484237621\n"
     ]
    },
    {
     "name": "stderr",
     "output_type": "stream",
     "text": [
      "100%|██████████| 153/153 [00:04<00:00, 31.09it/s]\n",
      " 99%|█████████▉| 198/200 [14:38<00:09,  4.98s/it]"
     ]
    },
    {
     "name": "stdout",
     "output_type": "stream",
     "text": [
      "Epoch 197, Loss: 0.7176855323361415\n"
     ]
    },
    {
     "name": "stderr",
     "output_type": "stream",
     "text": [
      "100%|██████████| 153/153 [00:04<00:00, 32.13it/s]\n",
      "100%|█████████▉| 199/200 [14:43<00:04,  4.91s/it]"
     ]
    },
    {
     "name": "stdout",
     "output_type": "stream",
     "text": [
      "Epoch 198, Loss: 0.7166270048789729\n"
     ]
    },
    {
     "name": "stderr",
     "output_type": "stream",
     "text": [
      "100%|██████████| 153/153 [00:04<00:00, 31.11it/s]\n",
      "100%|██████████| 200/200 [14:48<00:00,  4.44s/it]"
     ]
    },
    {
     "name": "stdout",
     "output_type": "stream",
     "text": [
      "Epoch 199, Loss: 0.716358091706544\n"
     ]
    },
    {
     "name": "stderr",
     "output_type": "stream",
     "text": [
      "\n"
     ]
    }
   ],
   "source": [
    "model_trained = rennpa_train(train_ds, val_ds, model, 200, optimizer, criterion)"
   ]
  },
  {
   "cell_type": "markdown",
   "metadata": {},
   "source": [
    "### **Salva modelo treinado**"
   ]
  },
  {
   "cell_type": "code",
   "execution_count": 18,
   "metadata": {},
   "outputs": [],
   "source": [
    "rennpa_save(model,'model.pth')"
   ]
  },
  {
   "cell_type": "markdown",
   "metadata": {},
   "source": [
    "### **Roda modelo de forma pontual**"
   ]
  },
  {
   "cell_type": "code",
   "execution_count": 19,
   "metadata": {},
   "outputs": [
    {
     "name": "stdout",
     "output_type": "stream",
     "text": [
      "Predicted Label: 6\n"
     ]
    }
   ],
   "source": [
    "s = 140\n",
    "\n",
    "rennpa_validade(model_trained, val_ds[s])"
   ]
  },
  {
   "cell_type": "markdown",
   "metadata": {},
   "source": [
    "### **Calcula acuracia do modelo (F1 Score)**"
   ]
  },
  {
   "cell_type": "code",
   "execution_count": 20,
   "metadata": {},
   "outputs": [
    {
     "name": "stderr",
     "output_type": "stream",
     "text": [
      "100%|██████████| 9769/9769 [00:10<00:00, 966.79it/s]\n"
     ]
    },
    {
     "name": "stdout",
     "output_type": "stream",
     "text": [
      "F1 Score is tensor(0.7408)\n"
     ]
    }
   ],
   "source": [
    "rennpa_accuracy(model_trained, val_ds, 9)"
   ]
  },
  {
   "cell_type": "markdown",
   "metadata": {},
   "source": [
    "### **Plota matrix de confusão**"
   ]
  },
  {
   "cell_type": "code",
   "execution_count": 21,
   "metadata": {},
   "outputs": [
    {
     "name": "stderr",
     "output_type": "stream",
     "text": [
      "100%|██████████| 9769/9769 [00:09<00:00, 989.43it/s] \n"
     ]
    },
    {
     "data": {
      "image/png": "[encoded data removed]",
      "text/plain": [
       "<Figure size 640x480 with 2 Axes>"
      ]
     },
     "metadata": {},
     "output_type": "display_data"
    }
   ],
   "source": [
    "rennpa_confusion_matrix(model_trained, val_ds)"
   ]
  },
  {
   "cell_type": "markdown",
   "metadata": {},
   "source": [
    "### **Abre uma gleba**"
   ]
  },
  {
   "cell_type": "code",
   "execution_count": 22,
   "metadata": {},
   "outputs": [],
   "source": [
    "import shapely.wkt\n",
    "\n",
    "gleba_polygon = shapely.wkt.loads(\"POLYGON ((-46.27456209961272 -12.652430633938323, -46.273968427698804 -12.652692678012613, -46.272936569372064 -12.651037658288033, -46.271749225544966 -12.648955076555083, -46.27059015180788 -12.646900062031833, -46.27027918080549 -12.646320793205092, -46.27104247326605 -12.645686354411424, -46.27480239538724 -12.65236167492651, -46.27456209961272 -12.652430633938323))\")"
   ]
  },
  {
   "cell_type": "code",
   "execution_count": 23,
   "metadata": {},
   "outputs": [
    {
     "data": {
      "image/png": "[encoded data removed]",
      "text/plain": [
       "<Figure size 640x480 with 1 Axes>"
      ]
     },
     "metadata": {},
     "output_type": "display_data"
    }
   ],
   "source": [
    "rennpa_plot_pts_region(gleba_polygon,[])"
   ]
  },
  {
   "cell_type": "markdown",
   "metadata": {},
   "source": [
    "### **Aplica função para extração dos centroids de cada um dos pixels da gleba**"
   ]
  },
  {
   "cell_type": "code",
   "execution_count": 24,
   "metadata": {},
   "outputs": [
    {
     "name": "stderr",
     "output_type": "stream",
     "text": [
      "/Library/Frameworks/Python.framework/Versions/3.12/lib/python3.12/site-packages/rennpa/rennpa.py:375: FutureWarning: This function is deprecated. See: https://pyproj4.github.io/pyproj/stable/gotchas.html#upgrading-to-pyproj-2-from-pyproj-1\n",
      "  x1, y1 = pyproj.transform(pyproj.CRS.from_epsg(4326), pyproj.CRS.from_wkt(BDC_PROJ), minx, miny, always_xy=True)\n",
      "/Library/Frameworks/Python.framework/Versions/3.12/lib/python3.12/site-packages/rennpa/rennpa.py:376: FutureWarning: This function is deprecated. See: https://pyproj4.github.io/pyproj/stable/gotchas.html#upgrading-to-pyproj-2-from-pyproj-1\n",
      "  x2, y2 = pyproj.transform(pyproj.CRS.from_epsg(4326), pyproj.CRS.from_wkt(BDC_PROJ), maxx, maxy, always_xy=True)\n"
     ]
    }
   ],
   "source": [
    "points = rennpa_get_pixels_from_polygon(gleba_polygon)"
   ]
  },
  {
   "cell_type": "code",
   "execution_count": 25,
   "metadata": {},
   "outputs": [
    {
     "data": {
      "image/png": "[encoded data removed]",
      "text/plain": [
       "<Figure size 640x480 with 1 Axes>"
      ]
     },
     "metadata": {},
     "output_type": "display_data"
    }
   ],
   "source": [
    "rennpa_plot_pts_region(gleba_polygon,points)"
   ]
  },
  {
   "cell_type": "code",
   "execution_count": 26,
   "metadata": {},
   "outputs": [
    {
     "name": "stderr",
     "output_type": "stream",
     "text": [
      "/Library/Frameworks/Python.framework/Versions/3.12/lib/python3.12/site-packages/rennpa/rennpa.py:397: FutureWarning: This function is deprecated. See: https://pyproj4.github.io/pyproj/stable/gotchas.html#upgrading-to-pyproj-2-from-pyproj-1\n",
      "  x1, y1 = pyproj.transform(pyproj.CRS.from_epsg(4326), pyproj.CRS.from_wkt(BDC_PROJ), minx, miny, always_xy=True)\n",
      "/Library/Frameworks/Python.framework/Versions/3.12/lib/python3.12/site-packages/rennpa/rennpa.py:398: FutureWarning: This function is deprecated. See: https://pyproj4.github.io/pyproj/stable/gotchas.html#upgrading-to-pyproj-2-from-pyproj-1\n",
      "  x2, y2 = pyproj.transform(pyproj.CRS.from_epsg(4326), pyproj.CRS.from_wkt(BDC_PROJ), maxx, maxy, always_xy=True)\n"
     ]
    }
   ],
   "source": [
    "region = rennpa_get_pixels_from_bounds(gleba_polygon)"
   ]
  },
  {
   "cell_type": "markdown",
   "metadata": {},
   "source": [
    "### **Executa classificação da gleba usando modelo**"
   ]
  },
  {
   "cell_type": "code",
   "execution_count": 27,
   "metadata": {},
   "outputs": [
    {
     "name": "stderr",
     "output_type": "stream",
     "text": [
      "100%|██████████| 854/854 [47:53<00:00,  3.37s/it]\n",
      "100%|██████████| 854/854 [00:00<00:00, 1055.98it/s]\n",
      "100%|██████████| 3850/3850 [00:00<00:00, 62808.76it/s]\n",
      "/Library/Frameworks/Python.framework/Versions/3.12/lib/python3.12/site-packages/pyproj/crs/crs.py:141: FutureWarning: '+init=<authority>:<code>' syntax is deprecated. '<authority>:<code>' is the preferred initialization method. When making the change, be mindful of axis order changes: https://pyproj4.github.io/pyproj/stable/gotchas.html#axis-order-changes-in-proj-6\n",
      "  in_crs_string = _prepare_from_proj_string(in_crs_string)\n"
     ]
    }
   ],
   "source": [
    "xr_classification = rennpa_classify(cube, points, region, model)"
   ]
  },
  {
   "cell_type": "code",
   "execution_count": 28,
   "metadata": {},
   "outputs": [
    {
     "data": {
      "text/html": [
       "<div><svg style=\"position: absolute; width: 0; height: 0; overflow: hidden\">\n",
       "<defs>\n",
       "<symbol id=\"icon-database\" viewBox=\"0 0 32 32\">\n",
       "<path d=\"M16 0c-8.837 0-16 2.239-16 5v4c0 2.761 7.163 5 16 5s16-2.239 16-5v-4c0-2.761-7.163-5-16-5z\"></path>\n",
       "<path d=\"M16 17c-8.837 0-16-2.239-16-5v6c0 2.761 7.163 5 16 5s16-2.239 16-5v-6c0 2.761-7.163 5-16 5z\"></path>\n",
       "<path d=\"M16 26c-8.837 0-16-2.239-16-5v6c0 2.761 7.163 5 16 5s16-2.239 16-5v-6c0 2.761-7.163 5-16 5z\"></path>\n",
       "</symbol>\n",
       "<symbol id=\"icon-file-text2\" viewBox=\"0 0 32 32\">\n",
       "<path d=\"M28.681 7.159c-0.694-0.947-1.662-2.053-2.724-3.116s-2.169-2.030-3.116-2.724c-1.612-1.182-2.393-1.319-2.841-1.319h-15.5c-1.378 0-2.5 1.121-2.5 2.5v27c0 1.378 1.122 2.5 2.5 2.5h23c1.378 0 2.5-1.122 2.5-2.5v-19.5c0-0.448-0.137-1.23-1.319-2.841zM24.543 5.457c0.959 0.959 1.712 1.825 2.268 2.543h-4.811v-4.811c0.718 0.556 1.584 1.309 2.543 2.268zM28 29.5c0 0.271-0.229 0.5-0.5 0.5h-23c-0.271 0-0.5-0.229-0.5-0.5v-27c0-0.271 0.229-0.5 0.5-0.5 0 0 15.499-0 15.5 0v7c0 0.552 0.448 1 1 1h7v19.5z\"></path>\n",
       "<path d=\"M23 26h-14c-0.552 0-1-0.448-1-1s0.448-1 1-1h14c0.552 0 1 0.448 1 1s-0.448 1-1 1z\"></path>\n",
       "<path d=\"M23 22h-14c-0.552 0-1-0.448-1-1s0.448-1 1-1h14c0.552 0 1 0.448 1 1s-0.448 1-1 1z\"></path>\n",
       "<path d=\"M23 18h-14c-0.552 0-1-0.448-1-1s0.448-1 1-1h14c0.552 0 1 0.448 1 1s-0.448 1-1 1z\"></path>\n",
       "</symbol>\n",
       "</defs>\n",
       "</svg>\n",
       "<style>/* CSS stylesheet for displaying xarray objects in jupyterlab.\n",
       " *\n",
       " */\n",
       "\n",
       ":root {\n",
       "  --xr-font-color0: var(--jp-content-font-color0, rgba(0, 0, 0, 1));\n",
       "  --xr-font-color2: var(--jp-content-font-color2, rgba(0, 0, 0, 0.54));\n",
       "  --xr-font-color3: var(--jp-content-font-color3, rgba(0, 0, 0, 0.38));\n",
       "  --xr-border-color: var(--jp-border-color2, #e0e0e0);\n",
       "  --xr-disabled-color: var(--jp-layout-color3, #bdbdbd);\n",
       "  --xr-background-color: var(--jp-layout-color0, white);\n",
       "  --xr-background-color-row-even: var(--jp-layout-color1, white);\n",
       "  --xr-background-color-row-odd: var(--jp-layout-color2, #eeeeee);\n",
       "}\n",
       "\n",
       "html[theme=dark],\n",
       "body[data-theme=dark],\n",
       "body.vscode-dark {\n",
       "  --xr-font-color0: rgba(255, 255, 255, 1);\n",
       "  --xr-font-color2: rgba(255, 255, 255, 0.54);\n",
       "  --xr-font-color3: rgba(255, 255, 255, 0.38);\n",
       "  --xr-border-color: #1F1F1F;\n",
       "  --xr-disabled-color: #515151;\n",
       "  --xr-background-color: #111111;\n",
       "  --xr-background-color-row-even: #111111;\n",
       "  --xr-background-color-row-odd: #313131;\n",
       "}\n",
       "\n",
       ".xr-wrap {\n",
       "  display: block !important;\n",
       "  min-width: 300px;\n",
       "  max-width: 700px;\n",
       "}\n",
       "\n",
       ".xr-text-repr-fallback {\n",
       "  /* fallback to plain text repr when CSS is not injected (untrusted notebook) */\n",
       "  display: none;\n",
       "}\n",
       "\n",
       ".xr-header {\n",
       "  padding-top: 6px;\n",
       "  padding-bottom: 6px;\n",
       "  margin-bottom: 4px;\n",
       "  border-bottom: solid 1px var(--xr-border-color);\n",
       "}\n",
       "\n",
       ".xr-header > div,\n",
       ".xr-header > ul {\n",
       "  display: inline;\n",
       "  margin-top: 0;\n",
       "  margin-bottom: 0;\n",
       "}\n",
       "\n",
       ".xr-obj-type,\n",
       ".xr-array-name {\n",
       "  margin-left: 2px;\n",
       "  margin-right: 10px;\n",
       "}\n",
       "\n",
       ".xr-obj-type {\n",
       "  color: var(--xr-font-color2);\n",
       "}\n",
       "\n",
       ".xr-sections {\n",
       "  padding-left: 0 !important;\n",
       "  display: grid;\n",
       "  grid-template-columns: 150px auto auto 1fr 20px 20px;\n",
       "}\n",
       "\n",
       ".xr-section-item {\n",
       "  display: contents;\n",
       "}\n",
       "\n",
       ".xr-section-item input {\n",
       "  display: none;\n",
       "}\n",
       "\n",
       ".xr-section-item input + label {\n",
       "  color: var(--xr-disabled-color);\n",
       "}\n",
       "\n",
       ".xr-section-item input:enabled + label {\n",
       "  cursor: pointer;\n",
       "  color: var(--xr-font-color2);\n",
       "}\n",
       "\n",
       ".xr-section-item input:enabled + label:hover {\n",
       "  color: var(--xr-font-color0);\n",
       "}\n",
       "\n",
       ".xr-section-summary {\n",
       "  grid-column: 1;\n",
       "  color: var(--xr-font-color2);\n",
       "  font-weight: 500;\n",
       "}\n",
       "\n",
       ".xr-section-summary > span {\n",
       "  display: inline-block;\n",
       "  padding-left: 0.5em;\n",
       "}\n",
       "\n",
       ".xr-section-summary-in:disabled + label {\n",
       "  color: var(--xr-font-color2);\n",
       "}\n",
       "\n",
       ".xr-section-summary-in + label:before {\n",
       "  display: inline-block;\n",
       "  content: '►';\n",
       "  font-size: 11px;\n",
       "  width: 15px;\n",
       "  text-align: center;\n",
       "}\n",
       "\n",
       ".xr-section-summary-in:disabled + label:before {\n",
       "  color: var(--xr-disabled-color);\n",
       "}\n",
       "\n",
       ".xr-section-summary-in:checked + label:before {\n",
       "  content: '▼';\n",
       "}\n",
       "\n",
       ".xr-section-summary-in:checked + label > span {\n",
       "  display: none;\n",
       "}\n",
       "\n",
       ".xr-section-summary,\n",
       ".xr-section-inline-details {\n",
       "  padding-top: 4px;\n",
       "  padding-bottom: 4px;\n",
       "}\n",
       "\n",
       ".xr-section-inline-details {\n",
       "  grid-column: 2 / -1;\n",
       "}\n",
       "\n",
       ".xr-section-details {\n",
       "  display: none;\n",
       "  grid-column: 1 / -1;\n",
       "  margin-bottom: 5px;\n",
       "}\n",
       "\n",
       ".xr-section-summary-in:checked ~ .xr-section-details {\n",
       "  display: contents;\n",
       "}\n",
       "\n",
       ".xr-array-wrap {\n",
       "  grid-column: 1 / -1;\n",
       "  display: grid;\n",
       "  grid-template-columns: 20px auto;\n",
       "}\n",
       "\n",
       ".xr-array-wrap > label {\n",
       "  grid-column: 1;\n",
       "  vertical-align: top;\n",
       "}\n",
       "\n",
       ".xr-preview {\n",
       "  color: var(--xr-font-color3);\n",
       "}\n",
       "\n",
       ".xr-array-preview,\n",
       ".xr-array-data {\n",
       "  padding: 0 5px !important;\n",
       "  grid-column: 2;\n",
       "}\n",
       "\n",
       ".xr-array-data,\n",
       ".xr-array-in:checked ~ .xr-array-preview {\n",
       "  display: none;\n",
       "}\n",
       "\n",
       ".xr-array-in:checked ~ .xr-array-data,\n",
       ".xr-array-preview {\n",
       "  display: inline-block;\n",
       "}\n",
       "\n",
       ".xr-dim-list {\n",
       "  display: inline-block !important;\n",
       "  list-style: none;\n",
       "  padding: 0 !important;\n",
       "  margin: 0;\n",
       "}\n",
       "\n",
       ".xr-dim-list li {\n",
       "  display: inline-block;\n",
       "  padding: 0;\n",
       "  margin: 0;\n",
       "}\n",
       "\n",
       ".xr-dim-list:before {\n",
       "  content: '(';\n",
       "}\n",
       "\n",
       ".xr-dim-list:after {\n",
       "  content: ')';\n",
       "}\n",
       "\n",
       ".xr-dim-list li:not(:last-child):after {\n",
       "  content: ',';\n",
       "  padding-right: 5px;\n",
       "}\n",
       "\n",
       ".xr-has-index {\n",
       "  font-weight: bold;\n",
       "}\n",
       "\n",
       ".xr-var-list,\n",
       ".xr-var-item {\n",
       "  display: contents;\n",
       "}\n",
       "\n",
       ".xr-var-item > div,\n",
       ".xr-var-item label,\n",
       ".xr-var-item > .xr-var-name span {\n",
       "  background-color: var(--xr-background-color-row-even);\n",
       "  margin-bottom: 0;\n",
       "}\n",
       "\n",
       ".xr-var-item > .xr-var-name:hover span {\n",
       "  padding-right: 5px;\n",
       "}\n",
       "\n",
       ".xr-var-list > li:nth-child(odd) > div,\n",
       ".xr-var-list > li:nth-child(odd) > label,\n",
       ".xr-var-list > li:nth-child(odd) > .xr-var-name span {\n",
       "  background-color: var(--xr-background-color-row-odd);\n",
       "}\n",
       "\n",
       ".xr-var-name {\n",
       "  grid-column: 1;\n",
       "}\n",
       "\n",
       ".xr-var-dims {\n",
       "  grid-column: 2;\n",
       "}\n",
       "\n",
       ".xr-var-dtype {\n",
       "  grid-column: 3;\n",
       "  text-align: right;\n",
       "  color: var(--xr-font-color2);\n",
       "}\n",
       "\n",
       ".xr-var-preview {\n",
       "  grid-column: 4;\n",
       "}\n",
       "\n",
       ".xr-index-preview {\n",
       "  grid-column: 2 / 5;\n",
       "  color: var(--xr-font-color2);\n",
       "}\n",
       "\n",
       ".xr-var-name,\n",
       ".xr-var-dims,\n",
       ".xr-var-dtype,\n",
       ".xr-preview,\n",
       ".xr-attrs dt {\n",
       "  white-space: nowrap;\n",
       "  overflow: hidden;\n",
       "  text-overflow: ellipsis;\n",
       "  padding-right: 10px;\n",
       "}\n",
       "\n",
       ".xr-var-name:hover,\n",
       ".xr-var-dims:hover,\n",
       ".xr-var-dtype:hover,\n",
       ".xr-attrs dt:hover {\n",
       "  overflow: visible;\n",
       "  width: auto;\n",
       "  z-index: 1;\n",
       "}\n",
       "\n",
       ".xr-var-attrs,\n",
       ".xr-var-data,\n",
       ".xr-index-data {\n",
       "  display: none;\n",
       "  background-color: var(--xr-background-color) !important;\n",
       "  padding-bottom: 5px !important;\n",
       "}\n",
       "\n",
       ".xr-var-attrs-in:checked ~ .xr-var-attrs,\n",
       ".xr-var-data-in:checked ~ .xr-var-data,\n",
       ".xr-index-data-in:checked ~ .xr-index-data {\n",
       "  display: block;\n",
       "}\n",
       "\n",
       ".xr-var-data > table {\n",
       "  float: right;\n",
       "}\n",
       "\n",
       ".xr-var-name span,\n",
       ".xr-var-data,\n",
       ".xr-index-name div,\n",
       ".xr-index-data,\n",
       ".xr-attrs {\n",
       "  padding-left: 25px !important;\n",
       "}\n",
       "\n",
       ".xr-attrs,\n",
       ".xr-var-attrs,\n",
       ".xr-var-data,\n",
       ".xr-index-data {\n",
       "  grid-column: 1 / -1;\n",
       "}\n",
       "\n",
       "dl.xr-attrs {\n",
       "  padding: 0;\n",
       "  margin: 0;\n",
       "  display: grid;\n",
       "  grid-template-columns: 125px auto;\n",
       "}\n",
       "\n",
       ".xr-attrs dt,\n",
       ".xr-attrs dd {\n",
       "  padding: 0;\n",
       "  margin: 0;\n",
       "  float: left;\n",
       "  padding-right: 10px;\n",
       "  width: auto;\n",
       "}\n",
       "\n",
       ".xr-attrs dt {\n",
       "  font-weight: normal;\n",
       "  grid-column: 1;\n",
       "}\n",
       "\n",
       ".xr-attrs dt:hover span {\n",
       "  display: inline-block;\n",
       "  background: var(--xr-background-color);\n",
       "  padding-right: 10px;\n",
       "}\n",
       "\n",
       ".xr-attrs dd {\n",
       "  grid-column: 2;\n",
       "  white-space: pre-wrap;\n",
       "  word-break: break-all;\n",
       "}\n",
       "\n",
       ".xr-icon-database,\n",
       ".xr-icon-file-text2,\n",
       ".xr-no-icon {\n",
       "  display: inline-block;\n",
       "  vertical-align: middle;\n",
       "  width: 1em;\n",
       "  height: 1.5em !important;\n",
       "  stroke-width: 0;\n",
       "  stroke: currentColor;\n",
       "  fill: currentColor;\n",
       "}\n",
       "</style><pre class='xr-text-repr-fallback'>&lt;xarray.Dataset&gt; Size: 32kB\n",
       "Dimensions:    (x: 50, y: 77, band: 1, time: 1)\n",
       "Coordinates:\n",
       "  * x          (x) float64 400B -46.27 -46.27 -46.27 ... -46.27 -46.27 -46.27\n",
       "  * y          (y) float64 616B -12.65 -12.65 -12.65 ... -12.65 -12.65 -12.65\n",
       "  * time       (time) &lt;U4 16B &#x27;2023&#x27;\n",
       "  * band       (band) int64 8B 1\n",
       "Data variables:\n",
       "    band_data  (band, time, x, y) int64 31kB 9 9 9 9 9 9 9 9 ... 9 9 9 9 9 9 9 9</pre><div class='xr-wrap' style='display:none'><div class='xr-header'><div class='xr-obj-type'>xarray.Dataset</div></div><ul class='xr-sections'><li class='xr-section-item'><input id='section-51db4ec6-a787-4866-a2df-2bfba58b34a1' class='xr-section-summary-in' type='checkbox' disabled ><label for='section-51db4ec6-a787-4866-a2df-2bfba58b34a1' class='xr-section-summary'  title='Expand/collapse section'>Dimensions:</label><div class='xr-section-inline-details'><ul class='xr-dim-list'><li><span class='xr-has-index'>x</span>: 50</li><li><span class='xr-has-index'>y</span>: 77</li><li><span class='xr-has-index'>band</span>: 1</li><li><span class='xr-has-index'>time</span>: 1</li></ul></div><div class='xr-section-details'></div></li><li class='xr-section-item'><input id='section-68ab6b23-6dc6-4a16-ae99-7efbf5f9fb89' class='xr-section-summary-in' type='checkbox'  checked><label for='section-68ab6b23-6dc6-4a16-ae99-7efbf5f9fb89' class='xr-section-summary' >Coordinates: <span>(4)</span></label><div class='xr-section-inline-details'></div><div class='xr-section-details'><ul class='xr-var-list'><li class='xr-var-item'><div class='xr-var-name'><span class='xr-has-index'>x</span></div><div class='xr-var-dims'>(x)</div><div class='xr-var-dtype'>float64</div><div class='xr-var-preview xr-preview'>-46.27 -46.27 ... -46.27 -46.27</div><input id='attrs-4e6f7c1b-06c3-4271-a284-0f9c1a1056e8' class='xr-var-attrs-in' type='checkbox' disabled><label for='attrs-4e6f7c1b-06c3-4271-a284-0f9c1a1056e8' title='Show/Hide attributes'><svg class='icon xr-icon-file-text2'><use xlink:href='#icon-file-text2'></use></svg></label><input id='data-6bd42b93-f96e-4c5d-9393-60c29910af96' class='xr-var-data-in' type='checkbox'><label for='data-6bd42b93-f96e-4c5d-9393-60c29910af96' title='Show/Hide data repr'><svg class='icon xr-icon-database'><use xlink:href='#icon-database'></use></svg></label><div class='xr-var-attrs'><dl class='xr-attrs'></dl></div><div class='xr-var-data'><pre>array([-46.274802, -46.27471 , -46.274618, -46.274525, -46.274433, -46.274341,\n",
       "       -46.274249, -46.274156, -46.274064, -46.273972, -46.273879, -46.273787,\n",
       "       -46.273695, -46.273602, -46.27351 , -46.273418, -46.273325, -46.273233,\n",
       "       -46.273141, -46.273048, -46.272956, -46.272864, -46.272772, -46.272679,\n",
       "       -46.272587, -46.272495, -46.272402, -46.27231 , -46.272218, -46.272125,\n",
       "       -46.272033, -46.271941, -46.271848, -46.271756, -46.271664, -46.271572,\n",
       "       -46.271479, -46.271387, -46.271295, -46.271202, -46.27111 , -46.271018,\n",
       "       -46.270925, -46.270833, -46.270741, -46.270648, -46.270556, -46.270464,\n",
       "       -46.270371, -46.270279])</pre></div></li><li class='xr-var-item'><div class='xr-var-name'><span class='xr-has-index'>y</span></div><div class='xr-var-dims'>(y)</div><div class='xr-var-dtype'>float64</div><div class='xr-var-preview xr-preview'>-12.65 -12.65 ... -12.65 -12.65</div><input id='attrs-99bd03cc-62b2-41aa-af72-476d5ed51fa5' class='xr-var-attrs-in' type='checkbox' disabled><label for='attrs-99bd03cc-62b2-41aa-af72-476d5ed51fa5' title='Show/Hide attributes'><svg class='icon xr-icon-file-text2'><use xlink:href='#icon-file-text2'></use></svg></label><input id='data-ea32b4ff-49dd-4d97-b73b-096840b1ec19' class='xr-var-data-in' type='checkbox'><label for='data-ea32b4ff-49dd-4d97-b73b-096840b1ec19' title='Show/Hide data repr'><svg class='icon xr-icon-database'><use xlink:href='#icon-database'></use></svg></label><div class='xr-var-attrs'><dl class='xr-attrs'></dl></div><div class='xr-var-data'><pre>array([-12.652693, -12.6526  , -12.652508, -12.652416, -12.652324, -12.652232,\n",
       "       -12.65214 , -12.652047, -12.651955, -12.651863, -12.651771, -12.651679,\n",
       "       -12.651586, -12.651494, -12.651402, -12.65131 , -12.651218, -12.651125,\n",
       "       -12.651033, -12.650941, -12.650849, -12.650757, -12.650665, -12.650572,\n",
       "       -12.65048 , -12.650388, -12.650296, -12.650204, -12.650111, -12.650019,\n",
       "       -12.649927, -12.649835, -12.649743, -12.64965 , -12.649558, -12.649466,\n",
       "       -12.649374, -12.649282, -12.64919 , -12.649097, -12.649005, -12.648913,\n",
       "       -12.648821, -12.648729, -12.648636, -12.648544, -12.648452, -12.64836 ,\n",
       "       -12.648268, -12.648175, -12.648083, -12.647991, -12.647899, -12.647807,\n",
       "       -12.647715, -12.647622, -12.64753 , -12.647438, -12.647346, -12.647254,\n",
       "       -12.647161, -12.647069, -12.646977, -12.646885, -12.646793, -12.6467  ,\n",
       "       -12.646608, -12.646516, -12.646424, -12.646332, -12.646239, -12.646147,\n",
       "       -12.646055, -12.645963, -12.645871, -12.645779, -12.645686])</pre></div></li><li class='xr-var-item'><div class='xr-var-name'><span class='xr-has-index'>time</span></div><div class='xr-var-dims'>(time)</div><div class='xr-var-dtype'>&lt;U4</div><div class='xr-var-preview xr-preview'>&#x27;2023&#x27;</div><input id='attrs-aa247558-cf1b-4ebb-b66e-4f4a41532439' class='xr-var-attrs-in' type='checkbox' disabled><label for='attrs-aa247558-cf1b-4ebb-b66e-4f4a41532439' title='Show/Hide attributes'><svg class='icon xr-icon-file-text2'><use xlink:href='#icon-file-text2'></use></svg></label><input id='data-28af59e3-3424-40d6-9d1d-daaea2a5bcae' class='xr-var-data-in' type='checkbox'><label for='data-28af59e3-3424-40d6-9d1d-daaea2a5bcae' title='Show/Hide data repr'><svg class='icon xr-icon-database'><use xlink:href='#icon-database'></use></svg></label><div class='xr-var-attrs'><dl class='xr-attrs'></dl></div><div class='xr-var-data'><pre>array([&#x27;2023&#x27;], dtype=&#x27;&lt;U4&#x27;)</pre></div></li><li class='xr-var-item'><div class='xr-var-name'><span class='xr-has-index'>band</span></div><div class='xr-var-dims'>(band)</div><div class='xr-var-dtype'>int64</div><div class='xr-var-preview xr-preview'>1</div><input id='attrs-517e38c7-0a67-42c5-9381-d1b47b86e939' class='xr-var-attrs-in' type='checkbox' disabled><label for='attrs-517e38c7-0a67-42c5-9381-d1b47b86e939' title='Show/Hide attributes'><svg class='icon xr-icon-file-text2'><use xlink:href='#icon-file-text2'></use></svg></label><input id='data-e5229095-2383-4534-b601-87a485e87934' class='xr-var-data-in' type='checkbox'><label for='data-e5229095-2383-4534-b601-87a485e87934' title='Show/Hide data repr'><svg class='icon xr-icon-database'><use xlink:href='#icon-database'></use></svg></label><div class='xr-var-attrs'><dl class='xr-attrs'></dl></div><div class='xr-var-data'><pre>array([1])</pre></div></li></ul></div></li><li class='xr-section-item'><input id='section-7c8e3399-6bc1-456b-ad42-88024beae705' class='xr-section-summary-in' type='checkbox'  checked><label for='section-7c8e3399-6bc1-456b-ad42-88024beae705' class='xr-section-summary' >Data variables: <span>(1)</span></label><div class='xr-section-inline-details'></div><div class='xr-section-details'><ul class='xr-var-list'><li class='xr-var-item'><div class='xr-var-name'><span>band_data</span></div><div class='xr-var-dims'>(band, time, x, y)</div><div class='xr-var-dtype'>int64</div><div class='xr-var-preview xr-preview'>9 9 9 9 9 9 9 9 ... 9 9 9 9 9 9 9 9</div><input id='attrs-d764a714-ca70-4c0b-b8c9-50d9e5d9884f' class='xr-var-attrs-in' type='checkbox' disabled><label for='attrs-d764a714-ca70-4c0b-b8c9-50d9e5d9884f' title='Show/Hide attributes'><svg class='icon xr-icon-file-text2'><use xlink:href='#icon-file-text2'></use></svg></label><input id='data-619b14bb-282f-42b2-9d27-f1ca83354167' class='xr-var-data-in' type='checkbox'><label for='data-619b14bb-282f-42b2-9d27-f1ca83354167' title='Show/Hide data repr'><svg class='icon xr-icon-database'><use xlink:href='#icon-database'></use></svg></label><div class='xr-var-attrs'><dl class='xr-attrs'></dl></div><div class='xr-var-data'><pre>array([[[[9, 9, 9, ..., 9, 9, 9],\n",
       "         [9, 9, 9, ..., 9, 9, 9],\n",
       "         [9, 9, 9, ..., 9, 9, 9],\n",
       "         ...,\n",
       "         [9, 9, 9, ..., 9, 9, 9],\n",
       "         [9, 9, 9, ..., 9, 9, 9],\n",
       "         [9, 9, 9, ..., 9, 9, 9]]]])</pre></div></li></ul></div></li><li class='xr-section-item'><input id='section-2486c869-aefb-40e3-9ef2-ac71f245b22d' class='xr-section-summary-in' type='checkbox'  ><label for='section-2486c869-aefb-40e3-9ef2-ac71f245b22d' class='xr-section-summary' >Indexes: <span>(4)</span></label><div class='xr-section-inline-details'></div><div class='xr-section-details'><ul class='xr-var-list'><li class='xr-var-item'><div class='xr-index-name'><div>x</div></div><div class='xr-index-preview'>PandasIndex</div><div></div><input id='index-0cf902dd-ab71-4d76-9663-ba7695f7e175' class='xr-index-data-in' type='checkbox'/><label for='index-0cf902dd-ab71-4d76-9663-ba7695f7e175' title='Show/Hide index repr'><svg class='icon xr-icon-database'><use xlink:href='#icon-database'></use></svg></label><div class='xr-index-data'><pre>PandasIndex(Index([ -46.27480239538724,  -46.27471008488557, -46.274617774383906,\n",
       "       -46.274525463882235,  -46.27443315338056,   -46.2743408428789,\n",
       "        -46.27424853237723, -46.274156221875565, -46.274063911373894,\n",
       "        -46.27397160087222,  -46.27387929037056,  -46.27378697986889,\n",
       "        -46.27369466936722,  -46.27360235886555,  -46.27351004836388,\n",
       "        -46.27341773786222,  -46.27332542736055, -46.273233116858876,\n",
       "        -46.27314080635721,  -46.27304849585554,  -46.27295618535387,\n",
       "       -46.272863874852206, -46.272771564350535, -46.272679253848864,\n",
       "         -46.2725869433472,  -46.27249463284553, -46.272402322343865,\n",
       "       -46.272310011842194,  -46.27221770134052,  -46.27212539083886,\n",
       "        -46.27203308033719,  -46.27194076983552,  -46.27184845933385,\n",
       "        -46.27175614883218,  -46.27166383833051,  -46.27157152782885,\n",
       "       -46.271479217327176,  -46.27138690682551,  -46.27129459632384,\n",
       "        -46.27120228582217, -46.271109975320506, -46.271017664818835,\n",
       "       -46.270925354317164,   -46.2708330438155,  -46.27074073331383,\n",
       "       -46.270648422812165, -46.270556112310494,  -46.27046380180882,\n",
       "        -46.27037149130716,  -46.27027918080549],\n",
       "      dtype=&#x27;float64&#x27;, name=&#x27;x&#x27;))</pre></div></li><li class='xr-var-item'><div class='xr-index-name'><div>y</div></div><div class='xr-index-preview'>PandasIndex</div><div></div><input id='index-1893f31f-4029-4f0c-a1b5-11f51b1f1ff8' class='xr-index-data-in' type='checkbox'/><label for='index-1893f31f-4029-4f0c-a1b5-11f51b1f1ff8' title='Show/Hide index repr'><svg class='icon xr-icon-database'><use xlink:href='#icon-database'></use></svg></label><div class='xr-index-data'><pre>PandasIndex(Index([-12.652692678012613, -12.652600489544177,  -12.65250830107574,\n",
       "       -12.652416112607304, -12.652323924138866,  -12.65223173567043,\n",
       "       -12.652139547201992, -12.652047358733556,  -12.65195517026512,\n",
       "       -12.651862981796683, -12.651770793328247, -12.651678604859809,\n",
       "       -12.651586416391373, -12.651494227922937,   -12.6514020394545,\n",
       "       -12.651309850986063, -12.651217662517626,  -12.65112547404919,\n",
       "       -12.651033285580752, -12.650941097112316,  -12.65084890864388,\n",
       "       -12.650756720175442, -12.650664531707006, -12.650572343238569,\n",
       "       -12.650480154770133, -12.650387966301695, -12.650295777833259,\n",
       "       -12.650203589364823, -12.650111400896385,  -12.65001921242795,\n",
       "       -12.649927023959512, -12.649834835491076,  -12.64974264702264,\n",
       "       -12.649650458554202, -12.649558270085766, -12.649466081617328,\n",
       "       -12.649373893148892, -12.649281704680455, -12.649189516212019,\n",
       "       -12.649097327743583, -12.649005139275145, -12.648912950806709,\n",
       "       -12.648820762338271, -12.648728573869835, -12.648636385401398,\n",
       "       -12.648544196932962, -12.648452008464526, -12.648359819996088,\n",
       "       -12.648267631527652, -12.648175443059214, -12.648083254590778,\n",
       "       -12.647991066122342, -12.647898877653905, -12.647806689185469,\n",
       "       -12.647714500717031, -12.647622312248595, -12.647530123780157,\n",
       "       -12.647437935311721, -12.647345746843285, -12.647253558374848,\n",
       "       -12.647161369906412, -12.647069181437974, -12.646976992969538,\n",
       "         -12.6468848045011, -12.646792616032664, -12.646700427564229,\n",
       "        -12.64660823909579, -12.646516050627355, -12.646423862158917,\n",
       "       -12.646331673690481, -12.646239485222045, -12.646147296753607,\n",
       "       -12.646055108285172, -12.645962919816734, -12.645870731348298,\n",
       "        -12.64577854287986, -12.645686354411424],\n",
       "      dtype=&#x27;float64&#x27;, name=&#x27;y&#x27;))</pre></div></li><li class='xr-var-item'><div class='xr-index-name'><div>time</div></div><div class='xr-index-preview'>PandasIndex</div><div></div><input id='index-3af90314-7007-4e15-90ae-6de0d90a3c21' class='xr-index-data-in' type='checkbox'/><label for='index-3af90314-7007-4e15-90ae-6de0d90a3c21' title='Show/Hide index repr'><svg class='icon xr-icon-database'><use xlink:href='#icon-database'></use></svg></label><div class='xr-index-data'><pre>PandasIndex(Index([&#x27;2023&#x27;], dtype=&#x27;object&#x27;, name=&#x27;time&#x27;))</pre></div></li><li class='xr-var-item'><div class='xr-index-name'><div>band</div></div><div class='xr-index-preview'>PandasIndex</div><div></div><input id='index-be702d1d-a28c-4347-83e8-a58f9e8f82ee' class='xr-index-data-in' type='checkbox'/><label for='index-be702d1d-a28c-4347-83e8-a58f9e8f82ee' title='Show/Hide index repr'><svg class='icon xr-icon-database'><use xlink:href='#icon-database'></use></svg></label><div class='xr-index-data'><pre>PandasIndex(Index([1], dtype=&#x27;int64&#x27;, name=&#x27;band&#x27;))</pre></div></li></ul></div></li><li class='xr-section-item'><input id='section-6057580c-88d6-4d64-a665-bd987bf21ec9' class='xr-section-summary-in' type='checkbox' disabled ><label for='section-6057580c-88d6-4d64-a665-bd987bf21ec9' class='xr-section-summary'  title='Expand/collapse section'>Attributes: <span>(0)</span></label><div class='xr-section-inline-details'></div><div class='xr-section-details'><dl class='xr-attrs'></dl></div></li></ul></div></div>"
      ],
      "text/plain": [
       "<xarray.Dataset> Size: 32kB\n",
       "Dimensions:    (x: 50, y: 77, band: 1, time: 1)\n",
       "Coordinates:\n",
       "  * x          (x) float64 400B -46.27 -46.27 -46.27 ... -46.27 -46.27 -46.27\n",
       "  * y          (y) float64 616B -12.65 -12.65 -12.65 ... -12.65 -12.65 -12.65\n",
       "  * time       (time) <U4 16B '2023'\n",
       "  * band       (band) int64 8B 1\n",
       "Data variables:\n",
       "    band_data  (band, time, x, y) int64 31kB 9 9 9 9 9 9 9 9 ... 9 9 9 9 9 9 9 9"
      ]
     },
     "execution_count": 28,
     "metadata": {},
     "output_type": "execute_result"
    }
   ],
   "source": [
    "xr_classification"
   ]
  },
  {
   "cell_type": "code",
   "execution_count": 29,
   "metadata": {},
   "outputs": [
    {
     "data": {
      "image/png": "[encoded data removed]",
      "text/plain": [
       "<Figure size 640x480 with 2 Axes>"
      ]
     },
     "metadata": {},
     "output_type": "display_data"
    }
   ],
   "source": [
    "rennpa_plot_classification(xr_classification)"
   ]
  }
 ],
 "metadata": {
  "kernelspec": {
   "display_name": "Python 3",
   "language": "python",
   "name": "python3"
  },
  "language_info": {
   "codemirror_mode": {
    "name": "ipython",
    "version": 3
   },
   "file_extension": ".py",
   "mimetype": "text/x-python",
   "name": "python",
   "nbconvert_exporter": "python",
   "pygments_lexer": "ipython3",
   "version": "3.12.3"
  }
 },
 "nbformat": 4,
 "nbformat_minor": 2
}
