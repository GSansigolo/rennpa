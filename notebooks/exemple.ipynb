{
 "cells": [
  {
   "cell_type": "markdown",
   "metadata": {},
   "source": [
    "## **Mapeamento de Glebas Usando Séries Temporais e Long Short-Term Memory em Grandes Dados de Observação da Terras**"
   ]
  },
  {
   "cell_type": "markdown",
   "metadata": {},
   "source": [
    "## **Disciplina:** CAP-421-3 Aprendizado Profundo\n",
    "\n",
    "Gabriel Sansigolo"
   ]
  },
  {
   "cell_type": "markdown",
   "metadata": {},
   "source": [
    "### Abstract\n",
    "\n",
    "Mapas de uso e cobertura da Terra são importantes produtos para avaliação\n",
    "da intervenção humana e da dinâmica ambiental. Para o trabalho busca resolver\n",
    "o problema de automatização de mapeamento de regiões (Glebas) usando técnicas\n",
    "de aprendizado profundo supervisionado. Para isso será usado o uma Rede Neural\n",
    "Recorrente (RNNs), especificamente a rede Long Short-Term Memory (LSTM). \n",
    "\n",
    "Além disso, busca-se explorar como uso de séries temporais para mapeamento baseado \n",
    "em coleções de imagens de observação da Terra (EO) do catálogo do Brazil Data Cube \n",
    "(BDC). Embora existam muitas implementações para classificação de séries temporais \n",
    "usando rede LSTM, essas implementações exigem a instalação de diversas bibliotecas \n",
    "cada qual para uma função, como extração de séries temporais, download de imagens de \n",
    "satélite, treinamento do modelo etc. \n",
    "\n",
    "A principal contribuição deste trabalho é um biblioteca em Python para mapeamento \n",
    "de glebas usando LSTM em dados observação da Terra do BDC. Ela permitirá que os\n",
    "analistas gerem de forma simples mapas de uso e cobertura da Terra para regiões\n",
    "das glebas, facilitando acesso a grandes conjuntos de dados de EO. "
   ]
  },
  {
   "cell_type": "markdown",
   "metadata": {},
   "source": [
    "<!-- README.md is generated from README.Rmd. Please edit that file -->\n",
    "\n",
    "<img src='https://github.com/GSansigolo/rennpa/blob/main/man/figures/logo.png?raw=true' align=\"right\" height=\"160\" />\n",
    "\n",
    "# rennpa\n",
    "\n",
    "<!-- badges: start -->\n",
    "\n",
    "[![Software License](https://img.shields.io/badge/License-GPLv3-blue.svg)](https://github.com/brazil-data-cube/rennpa/blob/master/LICENSE) [![Documentation Status](https://readthedocs.org/projects/rennpa/badge/?version=latest)](https://rennpa.readthedocs.io/en/latest/) [![Software Life Cycle](https://img.shields.io/badge/lifecycle-stable-green.svg)](https://www.tidyverse.org/lifecycle/#stable) [![Release](https://img.shields.io/github/tag/brazil-data-cube/rennpa.svg)](https://github.com/brazil-data-cube/rennpa/releases) [![Python Package Index](https://img.shields.io/pypi/v/rennpa)](https://pypi.org/project/rennpa/) [![Join us at Discord](https://img.shields.io/discord/689541907621085198?logo=discord&logoColor=ffffff&color=7389D8)](https://discord.com/channels/689541907621085198#)\n",
    "\n",
    "<!-- badges: end -->\n",
    "\n",
    "### Overview\n",
    "\n",
    "**rennpa**: **RE**current **N**eural **N**etwork **P**ython **A**PI, is an Python package with a RNN ready for satellite image time series classification. The package implements a number of functions to assist the proccess of production of land use and land cover maps based on time series, all based on the Brazil Data Cube image catalog.\n",
    "\n",
    "### Usage\n",
    "\n",
    "**rennpa** package process to generate a LULC map can be explained using the four functions: (1) rennpa_get_timeseries; (2) rennpa_lstm; (3) rennpa_train and (4) rennpa_classify. Although these are the four main functions of the package, there are over 27 functions for each of the stages before, during and after the process of producing LULC map. \n",
    "\n",
    "<img src='https://github.com/GSansigolo/rennpa/blob/main/man/figures/usage.png?raw=true' align=\"center\" height=\"500\" />\n"
   ]
  },
  {
   "cell_type": "markdown",
   "metadata": {},
   "source": [
    "### **Instalando o rennpa**"
   ]
  },
  {
   "cell_type": "code",
   "execution_count": 1,
   "metadata": {},
   "outputs": [
    {
     "name": "stdout",
     "output_type": "stream",
     "text": [
      "Collecting git+https://github.com/GSansigolo/rennpa\n",
      "  Cloning https://github.com/GSansigolo/rennpa to /private/var/folders/2b/3r28ml1d7yj3ltn73r94__hr0000gn/T/pip-req-build-m3zz7wa3\n",
      "  Running command git clone --filter=blob:none --quiet https://github.com/GSansigolo/rennpa /private/var/folders/2b/3r28ml1d7yj3ltn73r94__hr0000gn/T/pip-req-build-m3zz7wa3\n",
      "  Resolved https://github.com/GSansigolo/rennpa to commit d358e12cf1345b23dca6b93975e21e6abd5e286f\n",
      "  Installing build dependencies ... \u001b[?25ldone\n",
      "\u001b[?25h  Getting requirements to build wheel ... \u001b[?25ldone\n",
      "\u001b[?25h  Installing backend dependencies ... \u001b[?25ldone\n",
      "\u001b[?25h  Preparing metadata (pyproject.toml) ... \u001b[?25ldone\n",
      "\u001b[?25h\n",
      "\u001b[1m[\u001b[0m\u001b[34;49mnotice\u001b[0m\u001b[1;39;49m]\u001b[0m\u001b[39;49m A new release of pip is available: \u001b[0m\u001b[31;49m24.0\u001b[0m\u001b[39;49m -> \u001b[0m\u001b[32;49m24.3.1\u001b[0m\n",
      "\u001b[1m[\u001b[0m\u001b[34;49mnotice\u001b[0m\u001b[1;39;49m]\u001b[0m\u001b[39;49m To update, run: \u001b[0m\u001b[32;49mpip install --upgrade pip\u001b[0m\n"
     ]
    }
   ],
   "source": [
    "!pip install git+https://github.com/GSansigolo/rennpa"
   ]
  },
  {
   "cell_type": "markdown",
   "metadata": {},
   "source": [
    "### **Importando bibliotecas**"
   ]
  },
  {
   "cell_type": "code",
   "execution_count": 2,
   "metadata": {},
   "outputs": [],
   "source": [
    "from rennpa import *"
   ]
  },
  {
   "cell_type": "markdown",
   "metadata": {},
   "source": [
    "### **Importando amostras**"
   ]
  },
  {
   "cell_type": "code",
   "execution_count": 3,
   "metadata": {},
   "outputs": [],
   "source": [
    "raw_csv = \"input.csv\""
   ]
  },
  {
   "cell_type": "markdown",
   "metadata": {},
   "source": [
    "### **Embaralha os dados**"
   ]
  },
  {
   "cell_type": "code",
   "execution_count": 4,
   "metadata": {},
   "outputs": [],
   "source": [
    "#shuffle_data(input=raw_csv, output=\"input.csv\")"
   ]
  },
  {
   "cell_type": "markdown",
   "metadata": {},
   "source": [
    "### **Cria do objeto cubo de dados**"
   ]
  },
  {
   "cell_type": "code",
   "execution_count": 5,
   "metadata": {},
   "outputs": [],
   "source": [
    "cube = dict(\n",
    "    collection=\"S2-16D-2\",\n",
    "    start_date=\"2023-01-01\",\n",
    "    end_date=\"2023-12-31\",\n",
    "    freq='16D',\n",
    "    bands=[\"B02\", \"B03\", \"B04\", \"B08\", \"NDVI\", \"EVI\", \"NBR\"]\n",
    ")"
   ]
  },
  {
   "cell_type": "markdown",
   "metadata": {},
   "source": [
    "### **Extrai séries temporais**"
   ]
  },
  {
   "cell_type": "code",
   "execution_count": 6,
   "metadata": {},
   "outputs": [],
   "source": [
    "#ts = rennpa_get_timeseries(cube, input=\"input.csv\",output=\"timeseries.json\")"
   ]
  },
  {
   "cell_type": "code",
   "execution_count": 7,
   "metadata": {},
   "outputs": [],
   "source": [
    "ts = rennpa_open_ts_json(input=\"timeseries.json\")"
   ]
  },
  {
   "cell_type": "markdown",
   "metadata": {},
   "source": [
    "### **Cria novos indicies usando as séries temporais**"
   ]
  },
  {
   "cell_type": "code",
   "execution_count": 8,
   "metadata": {},
   "outputs": [],
   "source": [
    "indicies = dict(\n",
    "    OSAVI = rennpa_create_indicies(formula=\"OSAVI\", bands=dict(NIR=\"B08\", RED=\"B04\"), timeseries=ts),\n",
    "    NDWI =  rennpa_create_indicies(formula=\"NDWI\", bands=dict(NIR=\"B08\", GREEN=\"B03\"), timeseries=ts),\n",
    "    RECI = rennpa_create_indicies(formula=\"RECI\", bands=dict(NIR=\"B08\", RED=\"B04\"), timeseries=ts)\n",
    ")"
   ]
  },
  {
   "cell_type": "markdown",
   "metadata": {},
   "source": [
    "### **Cria dataframe unindo séries temporais, amostras e índices**"
   ]
  },
  {
   "cell_type": "code",
   "execution_count": 9,
   "metadata": {},
   "outputs": [],
   "source": [
    "df = rennpa_dataframe(timeseries=ts, input_csv=\"input.csv\", indicies=indicies)"
   ]
  },
  {
   "cell_type": "code",
   "execution_count": 10,
   "metadata": {},
   "outputs": [],
   "source": [
    "labels = {319: 0, 320: 1, 321: 2, 323: 3, 324: 4, 325: 5, 326: 6, 327: 7, 328: 8}"
   ]
  },
  {
   "cell_type": "code",
   "execution_count": 11,
   "metadata": {},
   "outputs": [],
   "source": [
    "df['label'] = [labels[x] for x in df['label'].to_numpy()]"
   ]
  },
  {
   "cell_type": "code",
   "execution_count": 12,
   "metadata": {},
   "outputs": [
    {
     "data": {
      "text/html": [
       "<div>\n",
       "<style scoped>\n",
       "    .dataframe tbody tr th:only-of-type {\n",
       "        vertical-align: middle;\n",
       "    }\n",
       "\n",
       "    .dataframe tbody tr th {\n",
       "        vertical-align: top;\n",
       "    }\n",
       "\n",
       "    .dataframe thead th {\n",
       "        text-align: right;\n",
       "    }\n",
       "</style>\n",
       "<table border=\"1\" class=\"dataframe\">\n",
       "  <thead>\n",
       "    <tr style=\"text-align: right;\">\n",
       "      <th></th>\n",
       "      <th>B02</th>\n",
       "      <th>B03</th>\n",
       "      <th>B04</th>\n",
       "      <th>B08</th>\n",
       "      <th>NDVI</th>\n",
       "      <th>OSAVI</th>\n",
       "      <th>NDWI</th>\n",
       "      <th>RECI</th>\n",
       "      <th>label</th>\n",
       "    </tr>\n",
       "  </thead>\n",
       "  <tbody>\n",
       "    <tr>\n",
       "      <th>0</th>\n",
       "      <td>[365, 5527, 808, 572, 453, 443, 1554, 360, 371...</td>\n",
       "      <td>[387, 5054, 943, 767, 652, 597, 1527, 588, 560...</td>\n",
       "      <td>[370, 4459, 855, 731, 630, 611, 1324, 531, 551...</td>\n",
       "      <td>[848, 5211, 2773, 2340, 2208, 2104, 3193, 2025...</td>\n",
       "      <td>[4762, 733, 5601, 5576, 5899, 5764, 4413, 6150...</td>\n",
       "      <td>[0.392395087673212, 0.07776500078592288, 0.528...</td>\n",
       "      <td>[-0.37327935222672065, -0.015294690696541647, ...</td>\n",
       "      <td>[2.2857142857142856, 1.1683856502242151, 3.239...</td>\n",
       "      <td>2</td>\n",
       "    </tr>\n",
       "    <tr>\n",
       "      <th>1</th>\n",
       "      <td>[558, 1763, 4753, 908, 1095, 474, 493, 507, 51...</td>\n",
       "      <td>[1002, 2080, 4385, 881, 1347, 777, 753, 734, 7...</td>\n",
       "      <td>[688, 1892, 4031, 571, 1058, 672, 679, 787, 84...</td>\n",
       "      <td>[4092, 4316, 5218, 2793, 3752, 3084, 2952, 280...</td>\n",
       "      <td>[7354, 4168, 1424, 6659, 5889, 6680, 6528, 584...</td>\n",
       "      <td>[0.71211005489356, 0.39045385428210616, 0.1283...</td>\n",
       "      <td>[-0.6065959952885748, -0.34959349593495936, -0...</td>\n",
       "      <td>[5.939042089985486, 2.2799788695192817, 1.2941...</td>\n",
       "      <td>1</td>\n",
       "    </tr>\n",
       "    <tr>\n",
       "      <th>2</th>\n",
       "      <td>[493, 486, 439, 327, 608, 422, 326, 329, 460, ...</td>\n",
       "      <td>[902, 871, 763, 663, 766, 730, 664, 721, 752, ...</td>\n",
       "      <td>[864, 937, 799, 725, 691, 983, 594, 627, 959, ...</td>\n",
       "      <td>[3040, 2821, 2721, 2498, 2022, 2215, 2930, 284...</td>\n",
       "      <td>[5914, 5421, 5871, 5938, 5263, 4369, 6793, 654...</td>\n",
       "      <td>[0.5573542067948035, 0.5013091512868, 0.545997...</td>\n",
       "      <td>[-0.5423642820903095, -0.528169014084507, -0.5...</td>\n",
       "      <td>[3.514450867052023, 3.0074626865671643, 3.4012...</td>\n",
       "      <td>1</td>\n",
       "    </tr>\n",
       "    <tr>\n",
       "      <th>3</th>\n",
       "      <td>[3618, 346, 352, 377, 478, 386, 414, 359, 392,...</td>\n",
       "      <td>[3446, 618, 655, 628, 702, 647, 638, 627, 636,...</td>\n",
       "      <td>[3185, 631, 562, 594, 650, 659, 634, 649, 709,...</td>\n",
       "      <td>[3688, 1925, 2223, 2141, 2209, 2162, 2102, 206...</td>\n",
       "      <td>[1016, 5417, 6370, 6002, 5871, 5663, 5764, 556...</td>\n",
       "      <td>[0.07318322285528055, 0.5062280921382073, 0.59...</td>\n",
       "      <td>[-0.03392206335856462, -0.5139598898938262, -0...</td>\n",
       "      <td>[1.157564344005022, 3.045886075949367, 3.94849...</td>\n",
       "      <td>2</td>\n",
       "    </tr>\n",
       "    <tr>\n",
       "      <th>4</th>\n",
       "      <td>[1147, 271, 410, 425, 292, 313, 261, 316, 321,...</td>\n",
       "      <td>[1306, 502, 632, 650, 578, 706, 662, 681, 540,...</td>\n",
       "      <td>[1101, 339, 996, 981, 429, 499, 430, 824, 1008...</td>\n",
       "      <td>[3965, 2814, 1687, 2018, 2803, 3218, 3120, 247...</td>\n",
       "      <td>[5775, 8004, 3373, 4132, 7597, 7516, 7789, 552...</td>\n",
       "      <td>[0.5653196898637233, 0.7849268670159459, 0.257...</td>\n",
       "      <td>[-0.5044583570479985, -0.6972255729794934, -0....</td>\n",
       "      <td>[3.598003629764065, 8.276470588235295, 1.69207...</td>\n",
       "      <td>5</td>\n",
       "    </tr>\n",
       "  </tbody>\n",
       "</table>\n",
       "</div>"
      ],
      "text/plain": [
       "                                                 B02  \\\n",
       "0  [365, 5527, 808, 572, 453, 443, 1554, 360, 371...   \n",
       "1  [558, 1763, 4753, 908, 1095, 474, 493, 507, 51...   \n",
       "2  [493, 486, 439, 327, 608, 422, 326, 329, 460, ...   \n",
       "3  [3618, 346, 352, 377, 478, 386, 414, 359, 392,...   \n",
       "4  [1147, 271, 410, 425, 292, 313, 261, 316, 321,...   \n",
       "\n",
       "                                                 B03  \\\n",
       "0  [387, 5054, 943, 767, 652, 597, 1527, 588, 560...   \n",
       "1  [1002, 2080, 4385, 881, 1347, 777, 753, 734, 7...   \n",
       "2  [902, 871, 763, 663, 766, 730, 664, 721, 752, ...   \n",
       "3  [3446, 618, 655, 628, 702, 647, 638, 627, 636,...   \n",
       "4  [1306, 502, 632, 650, 578, 706, 662, 681, 540,...   \n",
       "\n",
       "                                                 B04  \\\n",
       "0  [370, 4459, 855, 731, 630, 611, 1324, 531, 551...   \n",
       "1  [688, 1892, 4031, 571, 1058, 672, 679, 787, 84...   \n",
       "2  [864, 937, 799, 725, 691, 983, 594, 627, 959, ...   \n",
       "3  [3185, 631, 562, 594, 650, 659, 634, 649, 709,...   \n",
       "4  [1101, 339, 996, 981, 429, 499, 430, 824, 1008...   \n",
       "\n",
       "                                                 B08  \\\n",
       "0  [848, 5211, 2773, 2340, 2208, 2104, 3193, 2025...   \n",
       "1  [4092, 4316, 5218, 2793, 3752, 3084, 2952, 280...   \n",
       "2  [3040, 2821, 2721, 2498, 2022, 2215, 2930, 284...   \n",
       "3  [3688, 1925, 2223, 2141, 2209, 2162, 2102, 206...   \n",
       "4  [3965, 2814, 1687, 2018, 2803, 3218, 3120, 247...   \n",
       "\n",
       "                                                NDVI  \\\n",
       "0  [4762, 733, 5601, 5576, 5899, 5764, 4413, 6150...   \n",
       "1  [7354, 4168, 1424, 6659, 5889, 6680, 6528, 584...   \n",
       "2  [5914, 5421, 5871, 5938, 5263, 4369, 6793, 654...   \n",
       "3  [1016, 5417, 6370, 6002, 5871, 5663, 5764, 556...   \n",
       "4  [5775, 8004, 3373, 4132, 7597, 7516, 7789, 552...   \n",
       "\n",
       "                                               OSAVI  \\\n",
       "0  [0.392395087673212, 0.07776500078592288, 0.528...   \n",
       "1  [0.71211005489356, 0.39045385428210616, 0.1283...   \n",
       "2  [0.5573542067948035, 0.5013091512868, 0.545997...   \n",
       "3  [0.07318322285528055, 0.5062280921382073, 0.59...   \n",
       "4  [0.5653196898637233, 0.7849268670159459, 0.257...   \n",
       "\n",
       "                                                NDWI  \\\n",
       "0  [-0.37327935222672065, -0.015294690696541647, ...   \n",
       "1  [-0.6065959952885748, -0.34959349593495936, -0...   \n",
       "2  [-0.5423642820903095, -0.528169014084507, -0.5...   \n",
       "3  [-0.03392206335856462, -0.5139598898938262, -0...   \n",
       "4  [-0.5044583570479985, -0.6972255729794934, -0....   \n",
       "\n",
       "                                                RECI  label  \n",
       "0  [2.2857142857142856, 1.1683856502242151, 3.239...      2  \n",
       "1  [5.939042089985486, 2.2799788695192817, 1.2941...      1  \n",
       "2  [3.514450867052023, 3.0074626865671643, 3.4012...      1  \n",
       "3  [1.157564344005022, 3.045886075949367, 3.94849...      2  \n",
       "4  [3.598003629764065, 8.276470588235295, 1.69207...      5  "
      ]
     },
     "execution_count": 12,
     "metadata": {},
     "output_type": "execute_result"
    }
   ],
   "source": [
    "df.head()"
   ]
  },
  {
   "cell_type": "markdown",
   "metadata": {},
   "source": [
    "### **Executa split no dataframe para treinamento e validação**"
   ]
  },
  {
   "cell_type": "code",
   "execution_count": 13,
   "metadata": {},
   "outputs": [],
   "source": [
    "train, val = rennpa_split(df, 0.8)\n",
    "      \n",
    "train_ds = TimeseriesDataset(train)\n",
    "val_ds = TimeseriesDataset(val)"
   ]
  },
  {
   "cell_type": "markdown",
   "metadata": {},
   "source": [
    "### **Define configurações da rede**"
   ]
  },
  {
   "cell_type": "code",
   "execution_count": 14,
   "metadata": {},
   "outputs": [],
   "source": [
    "input_size = 23\n",
    "hidden_size = 8\n",
    "num_layers = 3\n",
    "output_size = 9"
   ]
  },
  {
   "cell_type": "markdown",
   "metadata": {},
   "source": [
    "### **Define modelo (LSTM)**"
   ]
  },
  {
   "cell_type": "code",
   "execution_count": 15,
   "metadata": {},
   "outputs": [],
   "source": [
    "model = rennpa_lstm(input_size, hidden_size, num_layers, output_size)"
   ]
  },
  {
   "cell_type": "markdown",
   "metadata": {},
   "source": [
    "### **Define gradiente e otimizador**"
   ]
  },
  {
   "cell_type": "code",
   "execution_count": 16,
   "metadata": {},
   "outputs": [],
   "source": [
    "criterion = rennpa_crossentropyloss()\n",
    "optimizer = rennpa_adam(model.parameters(),lr=0.001)"
   ]
  },
  {
   "cell_type": "markdown",
   "metadata": {},
   "source": [
    "### **Executa treinamento**"
   ]
  },
  {
   "cell_type": "code",
   "execution_count": 17,
   "metadata": {},
   "outputs": [
    {
     "name": "stderr",
     "output_type": "stream",
     "text": [
      "100%|██████████| 153/153 [00:02<00:00, 52.03it/s]\n",
      "  0%|          | 1/200 [00:02<09:45,  2.94s/it]"
     ]
    },
    {
     "name": "stdout",
     "output_type": "stream",
     "text": [
      "Epoch 0, Loss: 1.9595665713540869\n"
     ]
    },
    {
     "name": "stderr",
     "output_type": "stream",
     "text": [
      "100%|██████████| 153/153 [00:02<00:00, 56.68it/s]\n",
      "  1%|          | 2/200 [00:05<09:14,  2.80s/it]"
     ]
    },
    {
     "name": "stdout",
     "output_type": "stream",
     "text": [
      "Epoch 1, Loss: 1.6940757355658838\n"
     ]
    },
    {
     "name": "stderr",
     "output_type": "stream",
     "text": [
      "100%|██████████| 153/153 [00:02<00:00, 55.26it/s]\n",
      "  2%|▏         | 3/200 [00:08<09:09,  2.79s/it]"
     ]
    },
    {
     "name": "stdout",
     "output_type": "stream",
     "text": [
      "Epoch 2, Loss: 1.6838543259240444\n"
     ]
    },
    {
     "name": "stderr",
     "output_type": "stream",
     "text": [
      "100%|██████████| 153/153 [00:02<00:00, 56.54it/s]\n",
      "  2%|▏         | 4/200 [00:11<09:00,  2.76s/it]"
     ]
    },
    {
     "name": "stdout",
     "output_type": "stream",
     "text": [
      "Epoch 3, Loss: 1.6808375712313683\n"
     ]
    },
    {
     "name": "stderr",
     "output_type": "stream",
     "text": [
      "100%|██████████| 153/153 [00:02<00:00, 51.85it/s]\n",
      "  2%|▎         | 5/200 [00:14<09:11,  2.83s/it]"
     ]
    },
    {
     "name": "stdout",
     "output_type": "stream",
     "text": [
      "Epoch 4, Loss: 1.6745631297429402\n"
     ]
    },
    {
     "name": "stderr",
     "output_type": "stream",
     "text": [
      "100%|██████████| 153/153 [00:02<00:00, 56.19it/s]\n",
      "  3%|▎         | 6/200 [00:16<09:01,  2.79s/it]"
     ]
    },
    {
     "name": "stdout",
     "output_type": "stream",
     "text": [
      "Epoch 5, Loss: 1.5782891434002546\n"
     ]
    },
    {
     "name": "stderr",
     "output_type": "stream",
     "text": [
      "100%|██████████| 153/153 [00:02<00:00, 57.00it/s]\n",
      "  4%|▎         | 7/200 [00:19<08:52,  2.76s/it]"
     ]
    },
    {
     "name": "stdout",
     "output_type": "stream",
     "text": [
      "Epoch 6, Loss: 1.365121684043236\n"
     ]
    },
    {
     "name": "stderr",
     "output_type": "stream",
     "text": [
      "100%|██████████| 153/153 [00:02<00:00, 56.83it/s]\n",
      "  4%|▍         | 8/200 [00:22<08:45,  2.74s/it]"
     ]
    },
    {
     "name": "stdout",
     "output_type": "stream",
     "text": [
      "Epoch 7, Loss: 1.253403338731504\n"
     ]
    },
    {
     "name": "stderr",
     "output_type": "stream",
     "text": [
      "100%|██████████| 153/153 [00:02<00:00, 55.39it/s]\n",
      "  4%|▍         | 9/200 [00:24<08:44,  2.75s/it]"
     ]
    },
    {
     "name": "stdout",
     "output_type": "stream",
     "text": [
      "Epoch 8, Loss: 1.1916290981317657\n"
     ]
    },
    {
     "name": "stderr",
     "output_type": "stream",
     "text": [
      "100%|██████████| 153/153 [00:02<00:00, 55.86it/s]\n",
      "  5%|▌         | 10/200 [00:27<08:41,  2.74s/it]"
     ]
    },
    {
     "name": "stdout",
     "output_type": "stream",
     "text": [
      "Epoch 9, Loss: 1.1552724456475452\n"
     ]
    },
    {
     "name": "stderr",
     "output_type": "stream",
     "text": [
      "100%|██████████| 153/153 [00:02<00:00, 55.52it/s]\n",
      "  6%|▌         | 11/200 [00:30<08:39,  2.75s/it]"
     ]
    },
    {
     "name": "stdout",
     "output_type": "stream",
     "text": [
      "Epoch 10, Loss: 1.1282141520306954\n"
     ]
    },
    {
     "name": "stderr",
     "output_type": "stream",
     "text": [
      "100%|██████████| 153/153 [00:02<00:00, 56.87it/s]\n",
      "  6%|▌         | 12/200 [00:33<08:33,  2.73s/it]"
     ]
    },
    {
     "name": "stdout",
     "output_type": "stream",
     "text": [
      "Epoch 11, Loss: 1.1140979037565344\n"
     ]
    },
    {
     "name": "stderr",
     "output_type": "stream",
     "text": [
      "100%|██████████| 153/153 [00:02<00:00, 56.96it/s]\n",
      "  6%|▋         | 13/200 [00:35<08:28,  2.72s/it]"
     ]
    },
    {
     "name": "stdout",
     "output_type": "stream",
     "text": [
      "Epoch 12, Loss: 1.1035091222501268\n"
     ]
    },
    {
     "name": "stderr",
     "output_type": "stream",
     "text": [
      "100%|██████████| 153/153 [00:02<00:00, 55.29it/s]\n",
      "  7%|▋         | 14/200 [00:38<08:28,  2.73s/it]"
     ]
    },
    {
     "name": "stdout",
     "output_type": "stream",
     "text": [
      "Epoch 13, Loss: 1.0778181521721135\n"
     ]
    },
    {
     "name": "stderr",
     "output_type": "stream",
     "text": [
      "100%|██████████| 153/153 [00:02<00:00, 56.95it/s]\n",
      "  8%|▊         | 15/200 [00:41<08:23,  2.72s/it]"
     ]
    },
    {
     "name": "stdout",
     "output_type": "stream",
     "text": [
      "Epoch 14, Loss: 1.0597164233525593\n"
     ]
    },
    {
     "name": "stderr",
     "output_type": "stream",
     "text": [
      "100%|██████████| 153/153 [00:02<00:00, 56.91it/s]\n",
      "  8%|▊         | 16/200 [00:43<08:18,  2.71s/it]"
     ]
    },
    {
     "name": "stdout",
     "output_type": "stream",
     "text": [
      "Epoch 15, Loss: 1.0369620642630883\n"
     ]
    },
    {
     "name": "stderr",
     "output_type": "stream",
     "text": [
      "100%|██████████| 153/153 [00:02<00:00, 57.30it/s]\n",
      "  8%|▊         | 17/200 [00:46<08:13,  2.70s/it]"
     ]
    },
    {
     "name": "stdout",
     "output_type": "stream",
     "text": [
      "Epoch 16, Loss: 1.017971308013193\n"
     ]
    },
    {
     "name": "stderr",
     "output_type": "stream",
     "text": [
      "100%|██████████| 153/153 [00:02<00:00, 56.39it/s]\n",
      "  9%|▉         | 18/200 [00:49<08:12,  2.70s/it]"
     ]
    },
    {
     "name": "stdout",
     "output_type": "stream",
     "text": [
      "Epoch 17, Loss: 0.9968988350014282\n"
     ]
    },
    {
     "name": "stderr",
     "output_type": "stream",
     "text": [
      "100%|██████████| 153/153 [00:02<00:00, 56.84it/s]\n",
      " 10%|▉         | 19/200 [00:52<08:08,  2.70s/it]"
     ]
    },
    {
     "name": "stdout",
     "output_type": "stream",
     "text": [
      "Epoch 18, Loss: 0.981268520838295\n"
     ]
    },
    {
     "name": "stderr",
     "output_type": "stream",
     "text": [
      "100%|██████████| 153/153 [00:02<00:00, 53.56it/s]\n",
      " 10%|█         | 20/200 [00:54<08:14,  2.75s/it]"
     ]
    },
    {
     "name": "stdout",
     "output_type": "stream",
     "text": [
      "Epoch 19, Loss: 0.980049778433407\n"
     ]
    },
    {
     "name": "stderr",
     "output_type": "stream",
     "text": [
      "100%|██████████| 153/153 [00:02<00:00, 56.14it/s]\n",
      " 10%|█         | 21/200 [00:57<08:10,  2.74s/it]"
     ]
    },
    {
     "name": "stdout",
     "output_type": "stream",
     "text": [
      "Epoch 20, Loss: 0.9743596950387643\n"
     ]
    },
    {
     "name": "stderr",
     "output_type": "stream",
     "text": [
      "100%|██████████| 153/153 [00:02<00:00, 55.47it/s]\n",
      " 11%|█         | 22/200 [01:00<08:09,  2.75s/it]"
     ]
    },
    {
     "name": "stdout",
     "output_type": "stream",
     "text": [
      "Epoch 21, Loss: 0.9694660504659017\n"
     ]
    },
    {
     "name": "stderr",
     "output_type": "stream",
     "text": [
      "100%|██████████| 153/153 [00:02<00:00, 55.29it/s]\n",
      " 12%|█▏        | 23/200 [01:03<08:07,  2.75s/it]"
     ]
    },
    {
     "name": "stdout",
     "output_type": "stream",
     "text": [
      "Epoch 22, Loss: 0.9591733525001925\n"
     ]
    },
    {
     "name": "stderr",
     "output_type": "stream",
     "text": [
      "100%|██████████| 153/153 [00:02<00:00, 54.78it/s]\n",
      " 12%|█▏        | 24/200 [01:05<08:06,  2.77s/it]"
     ]
    },
    {
     "name": "stdout",
     "output_type": "stream",
     "text": [
      "Epoch 23, Loss: 0.9488118294796912\n"
     ]
    },
    {
     "name": "stderr",
     "output_type": "stream",
     "text": [
      "100%|██████████| 153/153 [00:02<00:00, 53.34it/s]\n",
      " 12%|█▎        | 25/200 [01:08<08:09,  2.80s/it]"
     ]
    },
    {
     "name": "stdout",
     "output_type": "stream",
     "text": [
      "Epoch 24, Loss: 0.9434320786420036\n"
     ]
    },
    {
     "name": "stderr",
     "output_type": "stream",
     "text": [
      "100%|██████████| 153/153 [00:02<00:00, 53.64it/s]\n",
      " 13%|█▎        | 26/200 [01:11<08:09,  2.81s/it]"
     ]
    },
    {
     "name": "stdout",
     "output_type": "stream",
     "text": [
      "Epoch 25, Loss: 0.9388726583493301\n"
     ]
    },
    {
     "name": "stderr",
     "output_type": "stream",
     "text": [
      "100%|██████████| 153/153 [00:02<00:00, 52.88it/s]\n",
      " 14%|█▎        | 27/200 [01:14<08:11,  2.84s/it]"
     ]
    },
    {
     "name": "stdout",
     "output_type": "stream",
     "text": [
      "Epoch 26, Loss: 0.9335934948297887\n"
     ]
    },
    {
     "name": "stderr",
     "output_type": "stream",
     "text": [
      "100%|██████████| 153/153 [00:02<00:00, 53.72it/s]\n",
      " 14%|█▍        | 28/200 [01:17<08:08,  2.84s/it]"
     ]
    },
    {
     "name": "stdout",
     "output_type": "stream",
     "text": [
      "Epoch 27, Loss: 0.9279986047277263\n"
     ]
    },
    {
     "name": "stderr",
     "output_type": "stream",
     "text": [
      "100%|██████████| 153/153 [00:03<00:00, 47.92it/s]\n",
      " 14%|█▍        | 29/200 [01:20<08:24,  2.95s/it]"
     ]
    },
    {
     "name": "stdout",
     "output_type": "stream",
     "text": [
      "Epoch 28, Loss: 0.9240878890542423\n"
     ]
    },
    {
     "name": "stderr",
     "output_type": "stream",
     "text": [
      "100%|██████████| 153/153 [00:02<00:00, 51.60it/s]\n",
      " 15%|█▌        | 30/200 [01:23<08:22,  2.95s/it]"
     ]
    },
    {
     "name": "stdout",
     "output_type": "stream",
     "text": [
      "Epoch 29, Loss: 0.9206707991805732\n"
     ]
    },
    {
     "name": "stderr",
     "output_type": "stream",
     "text": [
      "100%|██████████| 153/153 [00:02<00:00, 52.41it/s]\n",
      " 16%|█▌        | 31/200 [01:26<08:17,  2.94s/it]"
     ]
    },
    {
     "name": "stdout",
     "output_type": "stream",
     "text": [
      "Epoch 30, Loss: 0.9053943102655847\n"
     ]
    },
    {
     "name": "stderr",
     "output_type": "stream",
     "text": [
      "100%|██████████| 153/153 [00:02<00:00, 51.23it/s]\n",
      " 16%|█▌        | 32/200 [01:29<08:16,  2.96s/it]"
     ]
    },
    {
     "name": "stdout",
     "output_type": "stream",
     "text": [
      "Epoch 31, Loss: 0.8999708762355879\n"
     ]
    },
    {
     "name": "stderr",
     "output_type": "stream",
     "text": [
      "100%|██████████| 153/153 [00:03<00:00, 50.64it/s]\n",
      " 16%|█▋        | 33/200 [01:32<08:17,  2.98s/it]"
     ]
    },
    {
     "name": "stdout",
     "output_type": "stream",
     "text": [
      "Epoch 32, Loss: 0.903987405736462\n"
     ]
    },
    {
     "name": "stderr",
     "output_type": "stream",
     "text": [
      "100%|██████████| 153/153 [00:03<00:00, 50.29it/s]\n",
      " 17%|█▋        | 34/200 [01:35<08:17,  3.00s/it]"
     ]
    },
    {
     "name": "stdout",
     "output_type": "stream",
     "text": [
      "Epoch 33, Loss: 0.8974964396626341\n"
     ]
    },
    {
     "name": "stderr",
     "output_type": "stream",
     "text": [
      "100%|██████████| 153/153 [00:03<00:00, 50.57it/s]\n",
      " 18%|█▊        | 35/200 [01:38<08:16,  3.01s/it]"
     ]
    },
    {
     "name": "stdout",
     "output_type": "stream",
     "text": [
      "Epoch 34, Loss: 0.9032071637951471\n"
     ]
    },
    {
     "name": "stderr",
     "output_type": "stream",
     "text": [
      "100%|██████████| 153/153 [00:03<00:00, 49.50it/s]\n",
      " 18%|█▊        | 36/200 [01:41<08:17,  3.03s/it]"
     ]
    },
    {
     "name": "stdout",
     "output_type": "stream",
     "text": [
      "Epoch 35, Loss: 0.8981287187221003\n"
     ]
    },
    {
     "name": "stderr",
     "output_type": "stream",
     "text": [
      "100%|██████████| 153/153 [00:03<00:00, 50.66it/s]\n",
      " 18%|█▊        | 37/200 [01:44<08:13,  3.03s/it]"
     ]
    },
    {
     "name": "stdout",
     "output_type": "stream",
     "text": [
      "Epoch 36, Loss: 0.8903491738574957\n"
     ]
    },
    {
     "name": "stderr",
     "output_type": "stream",
     "text": [
      "100%|██████████| 153/153 [00:03<00:00, 50.31it/s]\n",
      " 19%|█▉        | 38/200 [01:47<08:11,  3.03s/it]"
     ]
    },
    {
     "name": "stdout",
     "output_type": "stream",
     "text": [
      "Epoch 37, Loss: 0.8891263448334987\n"
     ]
    },
    {
     "name": "stderr",
     "output_type": "stream",
     "text": [
      "100%|██████████| 153/153 [00:03<00:00, 50.41it/s]\n",
      " 20%|█▉        | 39/200 [01:50<08:08,  3.03s/it]"
     ]
    },
    {
     "name": "stdout",
     "output_type": "stream",
     "text": [
      "Epoch 38, Loss: 0.8824575426531773\n"
     ]
    },
    {
     "name": "stderr",
     "output_type": "stream",
     "text": [
      "100%|██████████| 153/153 [00:03<00:00, 49.59it/s]\n",
      " 20%|██        | 40/200 [01:53<08:08,  3.05s/it]"
     ]
    },
    {
     "name": "stdout",
     "output_type": "stream",
     "text": [
      "Epoch 39, Loss: 0.908489970210331\n"
     ]
    },
    {
     "name": "stderr",
     "output_type": "stream",
     "text": [
      "100%|██████████| 153/153 [00:03<00:00, 49.67it/s]\n",
      " 20%|██        | 41/200 [01:56<08:06,  3.06s/it]"
     ]
    },
    {
     "name": "stdout",
     "output_type": "stream",
     "text": [
      "Epoch 40, Loss: 0.9045032660166422\n"
     ]
    },
    {
     "name": "stderr",
     "output_type": "stream",
     "text": [
      "100%|██████████| 153/153 [00:03<00:00, 49.78it/s]\n",
      " 21%|██        | 42/200 [02:00<08:04,  3.06s/it]"
     ]
    },
    {
     "name": "stdout",
     "output_type": "stream",
     "text": [
      "Epoch 41, Loss: 0.8844158252080282\n"
     ]
    },
    {
     "name": "stderr",
     "output_type": "stream",
     "text": [
      "100%|██████████| 153/153 [00:03<00:00, 49.55it/s]\n",
      " 22%|██▏       | 43/200 [02:03<08:02,  3.07s/it]"
     ]
    },
    {
     "name": "stdout",
     "output_type": "stream",
     "text": [
      "Epoch 42, Loss: 0.8779931446306066\n"
     ]
    },
    {
     "name": "stderr",
     "output_type": "stream",
     "text": [
      "100%|██████████| 153/153 [00:03<00:00, 49.61it/s]\n",
      " 22%|██▏       | 44/200 [02:06<07:59,  3.08s/it]"
     ]
    },
    {
     "name": "stdout",
     "output_type": "stream",
     "text": [
      "Epoch 43, Loss: 0.868393102892084\n"
     ]
    },
    {
     "name": "stderr",
     "output_type": "stream",
     "text": [
      "100%|██████████| 153/153 [00:03<00:00, 49.50it/s]\n",
      " 22%|██▎       | 45/200 [02:09<07:57,  3.08s/it]"
     ]
    },
    {
     "name": "stdout",
     "output_type": "stream",
     "text": [
      "Epoch 44, Loss: 0.8648496558463651\n"
     ]
    },
    {
     "name": "stderr",
     "output_type": "stream",
     "text": [
      "100%|██████████| 153/153 [00:03<00:00, 48.67it/s]\n",
      " 23%|██▎       | 46/200 [02:12<07:57,  3.10s/it]"
     ]
    },
    {
     "name": "stdout",
     "output_type": "stream",
     "text": [
      "Epoch 45, Loss: 0.8643177958095775\n"
     ]
    },
    {
     "name": "stderr",
     "output_type": "stream",
     "text": [
      "100%|██████████| 153/153 [00:03<00:00, 49.27it/s]\n",
      " 24%|██▎       | 47/200 [02:15<07:54,  3.10s/it]"
     ]
    },
    {
     "name": "stdout",
     "output_type": "stream",
     "text": [
      "Epoch 46, Loss: 0.8548483490164763\n"
     ]
    },
    {
     "name": "stderr",
     "output_type": "stream",
     "text": [
      "100%|██████████| 153/153 [00:03<00:00, 48.59it/s]\n",
      " 24%|██▍       | 48/200 [02:18<07:53,  3.12s/it]"
     ]
    },
    {
     "name": "stdout",
     "output_type": "stream",
     "text": [
      "Epoch 47, Loss: 0.8507657241977118\n"
     ]
    },
    {
     "name": "stderr",
     "output_type": "stream",
     "text": [
      "100%|██████████| 153/153 [00:03<00:00, 48.96it/s]\n",
      " 24%|██▍       | 49/200 [02:21<07:51,  3.12s/it]"
     ]
    },
    {
     "name": "stdout",
     "output_type": "stream",
     "text": [
      "Epoch 48, Loss: 0.845417975210676\n"
     ]
    },
    {
     "name": "stderr",
     "output_type": "stream",
     "text": [
      "100%|██████████| 153/153 [00:03<00:00, 47.95it/s]\n",
      " 25%|██▌       | 50/200 [02:25<07:51,  3.14s/it]"
     ]
    },
    {
     "name": "stdout",
     "output_type": "stream",
     "text": [
      "Epoch 49, Loss: 0.8475615113389259\n"
     ]
    },
    {
     "name": "stderr",
     "output_type": "stream",
     "text": [
      "100%|██████████| 153/153 [00:03<00:00, 42.39it/s]\n",
      " 26%|██▌       | 51/200 [02:28<08:09,  3.28s/it]"
     ]
    },
    {
     "name": "stdout",
     "output_type": "stream",
     "text": [
      "Epoch 50, Loss: 0.8426981969596514\n"
     ]
    },
    {
     "name": "stderr",
     "output_type": "stream",
     "text": [
      "100%|██████████| 153/153 [00:04<00:00, 36.70it/s]\n",
      " 26%|██▌       | 52/200 [02:32<08:45,  3.55s/it]"
     ]
    },
    {
     "name": "stdout",
     "output_type": "stream",
     "text": [
      "Epoch 51, Loss: 0.8360627461103053\n"
     ]
    },
    {
     "name": "stderr",
     "output_type": "stream",
     "text": [
      "100%|██████████| 153/153 [00:03<00:00, 38.47it/s]\n",
      " 26%|██▋       | 53/200 [02:36<09:00,  3.68s/it]"
     ]
    },
    {
     "name": "stdout",
     "output_type": "stream",
     "text": [
      "Epoch 52, Loss: 0.8322565730880288\n"
     ]
    },
    {
     "name": "stderr",
     "output_type": "stream",
     "text": [
      "100%|██████████| 153/153 [00:03<00:00, 46.64it/s]\n",
      " 27%|██▋       | 54/200 [02:40<08:39,  3.56s/it]"
     ]
    },
    {
     "name": "stdout",
     "output_type": "stream",
     "text": [
      "Epoch 53, Loss: 0.8312647027127883\n"
     ]
    },
    {
     "name": "stderr",
     "output_type": "stream",
     "text": [
      "100%|██████████| 153/153 [00:03<00:00, 43.57it/s]\n",
      " 28%|██▊       | 55/200 [02:43<08:34,  3.55s/it]"
     ]
    },
    {
     "name": "stdout",
     "output_type": "stream",
     "text": [
      "Epoch 54, Loss: 0.829566742080489\n"
     ]
    },
    {
     "name": "stderr",
     "output_type": "stream",
     "text": [
      "100%|██████████| 153/153 [00:03<00:00, 47.61it/s]\n",
      " 28%|██▊       | 56/200 [02:46<08:16,  3.45s/it]"
     ]
    },
    {
     "name": "stdout",
     "output_type": "stream",
     "text": [
      "Epoch 55, Loss: 0.8241020869585424\n"
     ]
    },
    {
     "name": "stderr",
     "output_type": "stream",
     "text": [
      "100%|██████████| 153/153 [00:03<00:00, 46.69it/s]\n",
      " 28%|██▊       | 57/200 [02:50<08:05,  3.40s/it]"
     ]
    },
    {
     "name": "stdout",
     "output_type": "stream",
     "text": [
      "Epoch 56, Loss: 0.8210272792897193\n"
     ]
    },
    {
     "name": "stderr",
     "output_type": "stream",
     "text": [
      "100%|██████████| 153/153 [00:03<00:00, 47.54it/s]\n",
      " 29%|██▉       | 58/200 [02:53<07:54,  3.34s/it]"
     ]
    },
    {
     "name": "stdout",
     "output_type": "stream",
     "text": [
      "Epoch 57, Loss: 0.825003629805995\n"
     ]
    },
    {
     "name": "stderr",
     "output_type": "stream",
     "text": [
      "100%|██████████| 153/153 [00:03<00:00, 47.98it/s]\n",
      " 30%|██▉       | 59/200 [02:56<07:45,  3.30s/it]"
     ]
    },
    {
     "name": "stdout",
     "output_type": "stream",
     "text": [
      "Epoch 58, Loss: 0.8265635336146635\n"
     ]
    },
    {
     "name": "stderr",
     "output_type": "stream",
     "text": [
      "100%|██████████| 153/153 [00:03<00:00, 46.45it/s]\n",
      " 30%|███       | 60/200 [02:59<07:41,  3.30s/it]"
     ]
    },
    {
     "name": "stdout",
     "output_type": "stream",
     "text": [
      "Epoch 59, Loss: 0.8177857578190324\n"
     ]
    },
    {
     "name": "stderr",
     "output_type": "stream",
     "text": [
      "100%|██████████| 153/153 [00:03<00:00, 48.06it/s]\n",
      " 30%|███       | 61/200 [03:02<07:33,  3.26s/it]"
     ]
    },
    {
     "name": "stdout",
     "output_type": "stream",
     "text": [
      "Epoch 60, Loss: 0.8136974191353992\n"
     ]
    },
    {
     "name": "stderr",
     "output_type": "stream",
     "text": [
      "100%|██████████| 153/153 [00:03<00:00, 47.30it/s]\n",
      " 31%|███       | 62/200 [03:06<07:29,  3.26s/it]"
     ]
    },
    {
     "name": "stdout",
     "output_type": "stream",
     "text": [
      "Epoch 61, Loss: 0.8193977338815827\n"
     ]
    },
    {
     "name": "stderr",
     "output_type": "stream",
     "text": [
      "100%|██████████| 153/153 [00:03<00:00, 47.22it/s]\n",
      " 32%|███▏      | 63/200 [03:09<07:25,  3.25s/it]"
     ]
    },
    {
     "name": "stdout",
     "output_type": "stream",
     "text": [
      "Epoch 62, Loss: 0.8167151703554041\n"
     ]
    },
    {
     "name": "stderr",
     "output_type": "stream",
     "text": [
      "100%|██████████| 153/153 [00:03<00:00, 46.19it/s]\n",
      " 32%|███▏      | 64/200 [03:12<07:24,  3.27s/it]"
     ]
    },
    {
     "name": "stdout",
     "output_type": "stream",
     "text": [
      "Epoch 63, Loss: 0.8076773511818032\n"
     ]
    },
    {
     "name": "stderr",
     "output_type": "stream",
     "text": [
      "100%|██████████| 153/153 [00:03<00:00, 47.52it/s]\n",
      " 32%|███▎      | 65/200 [03:15<07:19,  3.26s/it]"
     ]
    },
    {
     "name": "stdout",
     "output_type": "stream",
     "text": [
      "Epoch 64, Loss: 0.8057087578025519\n"
     ]
    },
    {
     "name": "stderr",
     "output_type": "stream",
     "text": [
      "100%|██████████| 153/153 [00:03<00:00, 44.26it/s]\n",
      " 33%|███▎      | 66/200 [03:19<07:24,  3.32s/it]"
     ]
    },
    {
     "name": "stdout",
     "output_type": "stream",
     "text": [
      "Epoch 65, Loss: 0.8002673469337762\n"
     ]
    },
    {
     "name": "stderr",
     "output_type": "stream",
     "text": [
      "100%|██████████| 153/153 [00:03<00:00, 45.30it/s]\n",
      " 34%|███▎      | 67/200 [03:22<07:23,  3.34s/it]"
     ]
    },
    {
     "name": "stdout",
     "output_type": "stream",
     "text": [
      "Epoch 66, Loss: 0.7953232168372161\n"
     ]
    },
    {
     "name": "stderr",
     "output_type": "stream",
     "text": [
      "100%|██████████| 153/153 [00:03<00:00, 46.57it/s]\n",
      " 34%|███▍      | 68/200 [03:26<07:18,  3.32s/it]"
     ]
    },
    {
     "name": "stdout",
     "output_type": "stream",
     "text": [
      "Epoch 67, Loss: 0.7969850523799074\n"
     ]
    },
    {
     "name": "stderr",
     "output_type": "stream",
     "text": [
      "100%|██████████| 153/153 [00:03<00:00, 44.93it/s]\n",
      " 34%|███▍      | 69/200 [03:29<07:18,  3.35s/it]"
     ]
    },
    {
     "name": "stdout",
     "output_type": "stream",
     "text": [
      "Epoch 68, Loss: 0.7954685329611785\n"
     ]
    },
    {
     "name": "stderr",
     "output_type": "stream",
     "text": [
      "100%|██████████| 153/153 [00:03<00:00, 44.86it/s]\n",
      " 35%|███▌      | 70/200 [03:32<07:17,  3.37s/it]"
     ]
    },
    {
     "name": "stdout",
     "output_type": "stream",
     "text": [
      "Epoch 69, Loss: 0.788383473368252\n"
     ]
    },
    {
     "name": "stderr",
     "output_type": "stream",
     "text": [
      "100%|██████████| 153/153 [00:03<00:00, 45.55it/s]\n",
      " 36%|███▌      | 71/200 [03:36<07:14,  3.37s/it]"
     ]
    },
    {
     "name": "stdout",
     "output_type": "stream",
     "text": [
      "Epoch 70, Loss: 0.7840570406196943\n"
     ]
    },
    {
     "name": "stderr",
     "output_type": "stream",
     "text": [
      "100%|██████████| 153/153 [00:03<00:00, 44.48it/s]\n",
      " 36%|███▌      | 72/200 [03:39<07:13,  3.39s/it]"
     ]
    },
    {
     "name": "stdout",
     "output_type": "stream",
     "text": [
      "Epoch 71, Loss: 0.7820021704910627\n"
     ]
    },
    {
     "name": "stderr",
     "output_type": "stream",
     "text": [
      "100%|██████████| 153/153 [00:03<00:00, 44.34it/s]\n",
      " 36%|███▋      | 73/200 [03:43<07:12,  3.41s/it]"
     ]
    },
    {
     "name": "stdout",
     "output_type": "stream",
     "text": [
      "Epoch 72, Loss: 0.783176064491272\n"
     ]
    },
    {
     "name": "stderr",
     "output_type": "stream",
     "text": [
      "100%|██████████| 153/153 [00:03<00:00, 43.28it/s]\n",
      " 37%|███▋      | 74/200 [03:46<07:14,  3.45s/it]"
     ]
    },
    {
     "name": "stdout",
     "output_type": "stream",
     "text": [
      "Epoch 73, Loss: 0.7844060558119631\n"
     ]
    },
    {
     "name": "stderr",
     "output_type": "stream",
     "text": [
      "100%|██████████| 153/153 [00:03<00:00, 44.38it/s]\n",
      " 38%|███▊      | 75/200 [03:50<07:10,  3.45s/it]"
     ]
    },
    {
     "name": "stdout",
     "output_type": "stream",
     "text": [
      "Epoch 74, Loss: 0.7809810755299587\n"
     ]
    },
    {
     "name": "stderr",
     "output_type": "stream",
     "text": [
      "100%|██████████| 153/153 [00:03<00:00, 42.66it/s]\n",
      " 38%|███▊      | 76/200 [03:53<07:12,  3.49s/it]"
     ]
    },
    {
     "name": "stdout",
     "output_type": "stream",
     "text": [
      "Epoch 75, Loss: 0.7812350688416974\n"
     ]
    },
    {
     "name": "stderr",
     "output_type": "stream",
     "text": [
      "100%|██████████| 153/153 [00:03<00:00, 46.50it/s]\n",
      " 38%|███▊      | 77/200 [03:57<07:01,  3.43s/it]"
     ]
    },
    {
     "name": "stdout",
     "output_type": "stream",
     "text": [
      "Epoch 76, Loss: 0.778705523294561\n"
     ]
    },
    {
     "name": "stderr",
     "output_type": "stream",
     "text": [
      "100%|██████████| 153/153 [00:03<00:00, 44.86it/s]\n",
      " 39%|███▉      | 78/200 [04:00<06:57,  3.43s/it]"
     ]
    },
    {
     "name": "stdout",
     "output_type": "stream",
     "text": [
      "Epoch 77, Loss: 0.7758289361311719\n"
     ]
    },
    {
     "name": "stderr",
     "output_type": "stream",
     "text": [
      "100%|██████████| 153/153 [00:03<00:00, 46.88it/s]\n",
      " 40%|███▉      | 79/200 [04:03<06:48,  3.38s/it]"
     ]
    },
    {
     "name": "stdout",
     "output_type": "stream",
     "text": [
      "Epoch 78, Loss: 0.7715277628960953\n"
     ]
    },
    {
     "name": "stderr",
     "output_type": "stream",
     "text": [
      "100%|██████████| 153/153 [00:03<00:00, 46.12it/s]\n",
      " 40%|████      | 80/200 [04:07<06:43,  3.36s/it]"
     ]
    },
    {
     "name": "stdout",
     "output_type": "stream",
     "text": [
      "Epoch 79, Loss: 0.7766685657251894\n"
     ]
    },
    {
     "name": "stderr",
     "output_type": "stream",
     "text": [
      "100%|██████████| 153/153 [00:03<00:00, 44.82it/s]\n",
      " 40%|████      | 81/200 [04:10<06:41,  3.38s/it]"
     ]
    },
    {
     "name": "stdout",
     "output_type": "stream",
     "text": [
      "Epoch 80, Loss: 0.7688783477334415\n"
     ]
    },
    {
     "name": "stderr",
     "output_type": "stream",
     "text": [
      "100%|██████████| 153/153 [00:03<00:00, 45.47it/s]\n",
      " 41%|████      | 82/200 [04:13<06:38,  3.37s/it]"
     ]
    },
    {
     "name": "stdout",
     "output_type": "stream",
     "text": [
      "Epoch 81, Loss: 0.7659303390122707\n"
     ]
    },
    {
     "name": "stderr",
     "output_type": "stream",
     "text": [
      "100%|██████████| 153/153 [00:03<00:00, 46.51it/s]\n",
      " 42%|████▏     | 83/200 [04:17<06:31,  3.35s/it]"
     ]
    },
    {
     "name": "stdout",
     "output_type": "stream",
     "text": [
      "Epoch 82, Loss: 0.764956184462005\n"
     ]
    },
    {
     "name": "stderr",
     "output_type": "stream",
     "text": [
      "100%|██████████| 153/153 [00:03<00:00, 45.68it/s]\n",
      " 42%|████▏     | 84/200 [04:20<06:28,  3.35s/it]"
     ]
    },
    {
     "name": "stdout",
     "output_type": "stream",
     "text": [
      "Epoch 83, Loss: 0.7852960291251637\n"
     ]
    },
    {
     "name": "stderr",
     "output_type": "stream",
     "text": [
      "100%|██████████| 153/153 [00:03<00:00, 46.26it/s]\n",
      " 42%|████▎     | 85/200 [04:23<06:23,  3.34s/it]"
     ]
    },
    {
     "name": "stdout",
     "output_type": "stream",
     "text": [
      "Epoch 84, Loss: 0.7673159693580827\n"
     ]
    },
    {
     "name": "stderr",
     "output_type": "stream",
     "text": [
      "100%|██████████| 153/153 [00:03<00:00, 45.34it/s]\n",
      " 43%|████▎     | 86/200 [04:27<06:21,  3.35s/it]"
     ]
    },
    {
     "name": "stdout",
     "output_type": "stream",
     "text": [
      "Epoch 85, Loss: 0.7632215206140007\n"
     ]
    },
    {
     "name": "stderr",
     "output_type": "stream",
     "text": [
      "100%|██████████| 153/153 [00:03<00:00, 45.85it/s]\n",
      " 44%|████▎     | 87/200 [04:30<06:18,  3.35s/it]"
     ]
    },
    {
     "name": "stdout",
     "output_type": "stream",
     "text": [
      "Epoch 86, Loss: 0.7627322880271213\n"
     ]
    },
    {
     "name": "stderr",
     "output_type": "stream",
     "text": [
      "100%|██████████| 153/153 [00:03<00:00, 44.88it/s]\n",
      " 44%|████▍     | 88/200 [04:33<06:16,  3.37s/it]"
     ]
    },
    {
     "name": "stdout",
     "output_type": "stream",
     "text": [
      "Epoch 87, Loss: 0.7614567038280512\n"
     ]
    },
    {
     "name": "stderr",
     "output_type": "stream",
     "text": [
      "100%|██████████| 153/153 [00:03<00:00, 45.60it/s]\n",
      " 44%|████▍     | 89/200 [04:37<06:13,  3.36s/it]"
     ]
    },
    {
     "name": "stdout",
     "output_type": "stream",
     "text": [
      "Epoch 88, Loss: 0.7588405827291651\n"
     ]
    },
    {
     "name": "stderr",
     "output_type": "stream",
     "text": [
      "100%|██████████| 153/153 [00:03<00:00, 46.56it/s]\n",
      " 45%|████▌     | 90/200 [04:40<06:07,  3.34s/it]"
     ]
    },
    {
     "name": "stdout",
     "output_type": "stream",
     "text": [
      "Epoch 89, Loss: 0.7573533852895101\n"
     ]
    },
    {
     "name": "stderr",
     "output_type": "stream",
     "text": [
      "100%|██████████| 153/153 [00:03<00:00, 46.19it/s]\n",
      " 46%|████▌     | 91/200 [04:43<06:03,  3.33s/it]"
     ]
    },
    {
     "name": "stdout",
     "output_type": "stream",
     "text": [
      "Epoch 90, Loss: 0.7538310191989724\n"
     ]
    },
    {
     "name": "stderr",
     "output_type": "stream",
     "text": [
      "100%|██████████| 153/153 [00:03<00:00, 47.19it/s]\n",
      " 46%|████▌     | 92/200 [04:47<05:57,  3.31s/it]"
     ]
    },
    {
     "name": "stdout",
     "output_type": "stream",
     "text": [
      "Epoch 91, Loss: 0.760699003350501\n"
     ]
    },
    {
     "name": "stderr",
     "output_type": "stream",
     "text": [
      "100%|██████████| 153/153 [00:03<00:00, 43.96it/s]\n",
      " 46%|████▋     | 93/200 [04:50<05:59,  3.36s/it]"
     ]
    },
    {
     "name": "stdout",
     "output_type": "stream",
     "text": [
      "Epoch 92, Loss: 0.7538014319207933\n"
     ]
    },
    {
     "name": "stderr",
     "output_type": "stream",
     "text": [
      "100%|██████████| 153/153 [00:03<00:00, 46.44it/s]\n",
      " 47%|████▋     | 94/200 [04:53<05:54,  3.34s/it]"
     ]
    },
    {
     "name": "stdout",
     "output_type": "stream",
     "text": [
      "Epoch 93, Loss: 0.7529419469677545\n"
     ]
    },
    {
     "name": "stderr",
     "output_type": "stream",
     "text": [
      "100%|██████████| 153/153 [00:03<00:00, 43.57it/s]\n",
      " 48%|████▊     | 95/200 [04:57<05:56,  3.39s/it]"
     ]
    },
    {
     "name": "stdout",
     "output_type": "stream",
     "text": [
      "Epoch 94, Loss: 0.7581270621492971\n"
     ]
    },
    {
     "name": "stderr",
     "output_type": "stream",
     "text": [
      "100%|██████████| 153/153 [00:03<00:00, 44.83it/s]\n",
      " 48%|████▊     | 96/200 [05:00<05:53,  3.40s/it]"
     ]
    },
    {
     "name": "stdout",
     "output_type": "stream",
     "text": [
      "Epoch 95, Loss: 0.7484361989046234\n"
     ]
    },
    {
     "name": "stderr",
     "output_type": "stream",
     "text": [
      "100%|██████████| 153/153 [00:03<00:00, 42.65it/s]\n",
      " 48%|████▊     | 97/200 [05:04<05:56,  3.46s/it]"
     ]
    },
    {
     "name": "stdout",
     "output_type": "stream",
     "text": [
      "Epoch 96, Loss: 0.757102367924709\n"
     ]
    },
    {
     "name": "stderr",
     "output_type": "stream",
     "text": [
      "100%|██████████| 153/153 [00:03<00:00, 45.68it/s]\n",
      " 49%|████▉     | 98/200 [05:07<05:49,  3.42s/it]"
     ]
    },
    {
     "name": "stdout",
     "output_type": "stream",
     "text": [
      "Epoch 97, Loss: 0.7554930323868795\n"
     ]
    },
    {
     "name": "stderr",
     "output_type": "stream",
     "text": [
      "100%|██████████| 153/153 [00:03<00:00, 46.00it/s]\n",
      " 50%|████▉     | 99/200 [05:11<05:42,  3.40s/it]"
     ]
    },
    {
     "name": "stdout",
     "output_type": "stream",
     "text": [
      "Epoch 98, Loss: 0.755613888400832\n"
     ]
    },
    {
     "name": "stderr",
     "output_type": "stream",
     "text": [
      "100%|██████████| 153/153 [00:03<00:00, 42.86it/s]\n",
      " 50%|█████     | 100/200 [05:14<05:44,  3.45s/it]"
     ]
    },
    {
     "name": "stdout",
     "output_type": "stream",
     "text": [
      "Epoch 99, Loss: 0.7497028657813477\n"
     ]
    },
    {
     "name": "stderr",
     "output_type": "stream",
     "text": [
      "100%|██████████| 153/153 [00:03<00:00, 45.65it/s]\n",
      " 50%|█████     | 101/200 [05:18<05:38,  3.42s/it]"
     ]
    },
    {
     "name": "stdout",
     "output_type": "stream",
     "text": [
      "Epoch 100, Loss: 0.7441822189131594\n"
     ]
    },
    {
     "name": "stderr",
     "output_type": "stream",
     "text": [
      "100%|██████████| 153/153 [00:03<00:00, 43.72it/s]\n",
      " 51%|█████     | 102/200 [05:21<05:37,  3.44s/it]"
     ]
    },
    {
     "name": "stdout",
     "output_type": "stream",
     "text": [
      "Epoch 101, Loss: 0.7418255299524544\n"
     ]
    },
    {
     "name": "stderr",
     "output_type": "stream",
     "text": [
      "100%|██████████| 153/153 [00:03<00:00, 45.07it/s]\n",
      " 52%|█████▏    | 103/200 [05:24<05:32,  3.43s/it]"
     ]
    },
    {
     "name": "stdout",
     "output_type": "stream",
     "text": [
      "Epoch 102, Loss: 0.7426827510977103\n"
     ]
    },
    {
     "name": "stderr",
     "output_type": "stream",
     "text": [
      "100%|██████████| 153/153 [00:03<00:00, 42.33it/s]\n",
      " 52%|█████▏    | 104/200 [05:28<05:34,  3.49s/it]"
     ]
    },
    {
     "name": "stdout",
     "output_type": "stream",
     "text": [
      "Epoch 103, Loss: 0.7479916768136368\n"
     ]
    },
    {
     "name": "stderr",
     "output_type": "stream",
     "text": [
      "100%|██████████| 153/153 [00:03<00:00, 44.97it/s]\n",
      " 52%|█████▎    | 105/200 [05:31<05:28,  3.46s/it]"
     ]
    },
    {
     "name": "stdout",
     "output_type": "stream",
     "text": [
      "Epoch 104, Loss: 0.7422458132108053\n"
     ]
    },
    {
     "name": "stderr",
     "output_type": "stream",
     "text": [
      "100%|██████████| 153/153 [00:03<00:00, 43.61it/s]\n",
      " 53%|█████▎    | 106/200 [05:35<05:26,  3.48s/it]"
     ]
    },
    {
     "name": "stdout",
     "output_type": "stream",
     "text": [
      "Epoch 105, Loss: 0.737902901531045\n"
     ]
    },
    {
     "name": "stderr",
     "output_type": "stream",
     "text": [
      "100%|██████████| 153/153 [00:03<00:00, 46.04it/s]\n",
      " 54%|█████▎    | 107/200 [05:38<05:19,  3.43s/it]"
     ]
    },
    {
     "name": "stdout",
     "output_type": "stream",
     "text": [
      "Epoch 106, Loss: 0.7378912120083578\n"
     ]
    },
    {
     "name": "stderr",
     "output_type": "stream",
     "text": [
      "100%|██████████| 153/153 [00:03<00:00, 45.77it/s]\n",
      " 54%|█████▍    | 108/200 [05:42<05:13,  3.41s/it]"
     ]
    },
    {
     "name": "stdout",
     "output_type": "stream",
     "text": [
      "Epoch 107, Loss: 0.741216879654554\n"
     ]
    },
    {
     "name": "stderr",
     "output_type": "stream",
     "text": [
      "100%|██████████| 153/153 [00:03<00:00, 45.01it/s]\n",
      " 55%|█████▍    | 109/200 [05:45<05:09,  3.40s/it]"
     ]
    },
    {
     "name": "stdout",
     "output_type": "stream",
     "text": [
      "Epoch 108, Loss: 0.748919274682313\n"
     ]
    },
    {
     "name": "stderr",
     "output_type": "stream",
     "text": [
      "100%|██████████| 153/153 [00:03<00:00, 45.66it/s]\n",
      " 55%|█████▌    | 110/200 [05:48<05:04,  3.39s/it]"
     ]
    },
    {
     "name": "stdout",
     "output_type": "stream",
     "text": [
      "Epoch 109, Loss: 0.7441105394581564\n"
     ]
    },
    {
     "name": "stderr",
     "output_type": "stream",
     "text": [
      "100%|██████████| 153/153 [00:03<00:00, 42.39it/s]\n",
      " 56%|█████▌    | 111/200 [05:52<05:07,  3.46s/it]"
     ]
    },
    {
     "name": "stdout",
     "output_type": "stream",
     "text": [
      "Epoch 110, Loss: 0.7411426418746998\n"
     ]
    },
    {
     "name": "stderr",
     "output_type": "stream",
     "text": [
      "100%|██████████| 153/153 [00:03<00:00, 43.07it/s]\n",
      " 56%|█████▌    | 112/200 [05:56<05:06,  3.49s/it]"
     ]
    },
    {
     "name": "stdout",
     "output_type": "stream",
     "text": [
      "Epoch 111, Loss: 0.7395569331505719\n"
     ]
    },
    {
     "name": "stderr",
     "output_type": "stream",
     "text": [
      "100%|██████████| 153/153 [00:03<00:00, 42.71it/s]\n",
      " 56%|█████▋    | 113/200 [05:59<05:05,  3.51s/it]"
     ]
    },
    {
     "name": "stdout",
     "output_type": "stream",
     "text": [
      "Epoch 112, Loss: 0.7399265049329771\n"
     ]
    },
    {
     "name": "stderr",
     "output_type": "stream",
     "text": [
      "100%|██████████| 153/153 [00:03<00:00, 47.37it/s]\n",
      " 57%|█████▋    | 114/200 [06:02<04:54,  3.43s/it]"
     ]
    },
    {
     "name": "stdout",
     "output_type": "stream",
     "text": [
      "Epoch 113, Loss: 0.76078142488704\n"
     ]
    },
    {
     "name": "stderr",
     "output_type": "stream",
     "text": [
      "100%|██████████| 153/153 [00:03<00:00, 47.06it/s]\n",
      " 57%|█████▊    | 115/200 [06:06<04:47,  3.38s/it]"
     ]
    },
    {
     "name": "stdout",
     "output_type": "stream",
     "text": [
      "Epoch 114, Loss: 0.7444965200486526\n"
     ]
    },
    {
     "name": "stderr",
     "output_type": "stream",
     "text": [
      "100%|██████████| 153/153 [00:03<00:00, 42.98it/s]\n",
      " 58%|█████▊    | 116/200 [06:09<04:48,  3.43s/it]"
     ]
    },
    {
     "name": "stdout",
     "output_type": "stream",
     "text": [
      "Epoch 115, Loss: 0.7470697978742762\n"
     ]
    },
    {
     "name": "stderr",
     "output_type": "stream",
     "text": [
      "100%|██████████| 153/153 [00:03<00:00, 41.91it/s]\n",
      " 58%|█████▊    | 117/200 [06:13<04:50,  3.50s/it]"
     ]
    },
    {
     "name": "stdout",
     "output_type": "stream",
     "text": [
      "Epoch 116, Loss: 0.7443675729963515\n"
     ]
    },
    {
     "name": "stderr",
     "output_type": "stream",
     "text": [
      "100%|██████████| 153/153 [05:35<00:00,  2.19s/it]\n",
      " 59%|█████▉    | 118/200 [11:48<2:20:51, 103.07s/it]"
     ]
    },
    {
     "name": "stdout",
     "output_type": "stream",
     "text": [
      "Epoch 117, Loss: 0.7411421958137961\n"
     ]
    },
    {
     "name": "stderr",
     "output_type": "stream",
     "text": [
      "100%|██████████| 153/153 [00:03<00:00, 49.35it/s]\n",
      " 60%|█████▉    | 119/200 [11:51<1:38:39, 73.08s/it] "
     ]
    },
    {
     "name": "stdout",
     "output_type": "stream",
     "text": [
      "Epoch 118, Loss: 0.7374789371989132\n"
     ]
    },
    {
     "name": "stderr",
     "output_type": "stream",
     "text": [
      "100%|██████████| 153/153 [00:03<00:00, 43.16it/s]\n",
      " 60%|██████    | 120/200 [11:55<1:09:37, 52.22s/it]"
     ]
    },
    {
     "name": "stdout",
     "output_type": "stream",
     "text": [
      "Epoch 119, Loss: 0.7396507582633324\n"
     ]
    },
    {
     "name": "stderr",
     "output_type": "stream",
     "text": [
      "100%|██████████| 153/153 [00:03<00:00, 43.15it/s]\n",
      " 60%|██████    | 121/200 [11:58<49:31, 37.62s/it]  "
     ]
    },
    {
     "name": "stdout",
     "output_type": "stream",
     "text": [
      "Epoch 120, Loss: 0.735707510530559\n"
     ]
    },
    {
     "name": "stderr",
     "output_type": "stream",
     "text": [
      "100%|██████████| 153/153 [00:03<00:00, 50.38it/s]\n",
      " 61%|██████    | 122/200 [12:01<35:25, 27.24s/it]"
     ]
    },
    {
     "name": "stdout",
     "output_type": "stream",
     "text": [
      "Epoch 121, Loss: 0.7331929206848145\n"
     ]
    },
    {
     "name": "stderr",
     "output_type": "stream",
     "text": [
      "100%|██████████| 153/153 [00:02<00:00, 52.48it/s]\n",
      " 62%|██████▏   | 123/200 [12:04<25:35, 19.95s/it]"
     ]
    },
    {
     "name": "stdout",
     "output_type": "stream",
     "text": [
      "Epoch 122, Loss: 0.7290552464965122\n"
     ]
    },
    {
     "name": "stderr",
     "output_type": "stream",
     "text": [
      "100%|██████████| 153/153 [00:03<00:00, 48.98it/s]\n",
      " 62%|██████▏   | 124/200 [12:08<18:52, 14.90s/it]"
     ]
    },
    {
     "name": "stdout",
     "output_type": "stream",
     "text": [
      "Epoch 123, Loss: 0.7347596217604244\n"
     ]
    },
    {
     "name": "stderr",
     "output_type": "stream",
     "text": [
      "100%|██████████| 153/153 [00:02<00:00, 51.99it/s]\n",
      " 62%|██████▎   | 125/200 [12:10<14:08, 11.31s/it]"
     ]
    },
    {
     "name": "stdout",
     "output_type": "stream",
     "text": [
      "Epoch 124, Loss: 0.7307340093687469\n"
     ]
    },
    {
     "name": "stderr",
     "output_type": "stream",
     "text": [
      "100%|██████████| 153/153 [00:03<00:00, 43.90it/s]\n",
      " 63%|██████▎   | 126/200 [12:14<11:03,  8.97s/it]"
     ]
    },
    {
     "name": "stdout",
     "output_type": "stream",
     "text": [
      "Epoch 125, Loss: 0.7257885445956311\n"
     ]
    },
    {
     "name": "stderr",
     "output_type": "stream",
     "text": [
      "100%|██████████| 153/153 [00:03<00:00, 41.08it/s]\n",
      " 64%|██████▎   | 127/200 [12:18<08:59,  7.39s/it]"
     ]
    },
    {
     "name": "stdout",
     "output_type": "stream",
     "text": [
      "Epoch 126, Loss: 0.7238019856752134\n"
     ]
    },
    {
     "name": "stderr",
     "output_type": "stream",
     "text": [
      "100%|██████████| 153/153 [00:03<00:00, 49.73it/s]\n",
      " 64%|██████▍   | 128/200 [12:21<07:19,  6.10s/it]"
     ]
    },
    {
     "name": "stdout",
     "output_type": "stream",
     "text": [
      "Epoch 127, Loss: 0.7258538872587914\n"
     ]
    },
    {
     "name": "stderr",
     "output_type": "stream",
     "text": [
      "100%|██████████| 153/153 [00:02<00:00, 54.72it/s]\n",
      " 64%|██████▍   | 129/200 [12:24<06:02,  5.11s/it]"
     ]
    },
    {
     "name": "stdout",
     "output_type": "stream",
     "text": [
      "Epoch 128, Loss: 0.72519994678061\n"
     ]
    },
    {
     "name": "stderr",
     "output_type": "stream",
     "text": [
      "100%|██████████| 153/153 [00:02<00:00, 52.37it/s]\n",
      " 65%|██████▌   | 130/200 [12:26<05:11,  4.45s/it]"
     ]
    },
    {
     "name": "stdout",
     "output_type": "stream",
     "text": [
      "Epoch 129, Loss: 0.7238592937880871\n"
     ]
    },
    {
     "name": "stderr",
     "output_type": "stream",
     "text": [
      "100%|██████████| 153/153 [00:02<00:00, 51.19it/s]\n",
      " 66%|██████▌   | 131/200 [12:29<04:36,  4.01s/it]"
     ]
    },
    {
     "name": "stdout",
     "output_type": "stream",
     "text": [
      "Epoch 130, Loss: 0.7209561213948368\n"
     ]
    },
    {
     "name": "stderr",
     "output_type": "stream",
     "text": [
      "100%|██████████| 153/153 [00:02<00:00, 54.47it/s]\n",
      " 66%|██████▌   | 132/200 [12:32<04:08,  3.65s/it]"
     ]
    },
    {
     "name": "stdout",
     "output_type": "stream",
     "text": [
      "Epoch 131, Loss: 0.7239475826811946\n"
     ]
    },
    {
     "name": "stderr",
     "output_type": "stream",
     "text": [
      "100%|██████████| 153/153 [00:02<00:00, 54.37it/s]\n",
      " 66%|██████▋   | 133/200 [12:35<03:47,  3.40s/it]"
     ]
    },
    {
     "name": "stdout",
     "output_type": "stream",
     "text": [
      "Epoch 132, Loss: 0.7205119729042053\n"
     ]
    },
    {
     "name": "stderr",
     "output_type": "stream",
     "text": [
      "100%|██████████| 153/153 [00:02<00:00, 54.48it/s]\n",
      " 67%|██████▋   | 134/200 [12:38<03:32,  3.22s/it]"
     ]
    },
    {
     "name": "stdout",
     "output_type": "stream",
     "text": [
      "Epoch 133, Loss: 0.916330480497647\n"
     ]
    },
    {
     "name": "stderr",
     "output_type": "stream",
     "text": [
      "100%|██████████| 153/153 [00:02<00:00, 54.86it/s]\n",
      " 68%|██████▊   | 135/200 [12:41<03:21,  3.09s/it]"
     ]
    },
    {
     "name": "stdout",
     "output_type": "stream",
     "text": [
      "Epoch 134, Loss: 0.8198825810469833\n"
     ]
    },
    {
     "name": "stderr",
     "output_type": "stream",
     "text": [
      "100%|██████████| 153/153 [00:02<00:00, 54.14it/s]\n",
      " 68%|██████▊   | 136/200 [12:44<03:12,  3.01s/it]"
     ]
    },
    {
     "name": "stdout",
     "output_type": "stream",
     "text": [
      "Epoch 135, Loss: 0.7339704730152304\n"
     ]
    },
    {
     "name": "stderr",
     "output_type": "stream",
     "text": [
      "100%|██████████| 153/153 [00:02<00:00, 53.07it/s]\n",
      " 68%|██████▊   | 137/200 [12:46<03:07,  2.98s/it]"
     ]
    },
    {
     "name": "stdout",
     "output_type": "stream",
     "text": [
      "Epoch 136, Loss: 0.7290814491658429\n"
     ]
    },
    {
     "name": "stderr",
     "output_type": "stream",
     "text": [
      "100%|██████████| 153/153 [00:02<00:00, 53.36it/s]\n",
      " 69%|██████▉   | 138/200 [12:49<03:02,  2.94s/it]"
     ]
    },
    {
     "name": "stdout",
     "output_type": "stream",
     "text": [
      "Epoch 137, Loss: 0.7252462907554278\n"
     ]
    },
    {
     "name": "stderr",
     "output_type": "stream",
     "text": [
      "100%|██████████| 153/153 [00:02<00:00, 51.26it/s]\n",
      " 70%|██████▉   | 139/200 [12:52<03:00,  2.96s/it]"
     ]
    },
    {
     "name": "stdout",
     "output_type": "stream",
     "text": [
      "Epoch 138, Loss: 0.7223548335966721\n"
     ]
    },
    {
     "name": "stderr",
     "output_type": "stream",
     "text": [
      "100%|██████████| 153/153 [00:03<00:00, 50.93it/s]\n",
      " 70%|███████   | 140/200 [12:55<02:58,  2.97s/it]"
     ]
    },
    {
     "name": "stdout",
     "output_type": "stream",
     "text": [
      "Epoch 139, Loss: 0.7221057025435703\n"
     ]
    },
    {
     "name": "stderr",
     "output_type": "stream",
     "text": [
      "100%|██████████| 153/153 [00:02<00:00, 54.16it/s]\n",
      " 70%|███████   | 141/200 [12:58<02:52,  2.93s/it]"
     ]
    },
    {
     "name": "stdout",
     "output_type": "stream",
     "text": [
      "Epoch 140, Loss: 0.7222683495945401\n"
     ]
    },
    {
     "name": "stderr",
     "output_type": "stream",
     "text": [
      "100%|██████████| 153/153 [00:02<00:00, 54.62it/s]\n",
      " 71%|███████   | 142/200 [13:01<02:47,  2.89s/it]"
     ]
    },
    {
     "name": "stdout",
     "output_type": "stream",
     "text": [
      "Epoch 141, Loss: 0.7203029164301804\n"
     ]
    },
    {
     "name": "stderr",
     "output_type": "stream",
     "text": [
      "100%|██████████| 153/153 [00:02<00:00, 54.19it/s]\n",
      " 72%|███████▏  | 143/200 [13:04<02:43,  2.87s/it]"
     ]
    },
    {
     "name": "stdout",
     "output_type": "stream",
     "text": [
      "Epoch 142, Loss: 0.7169651747529023\n"
     ]
    },
    {
     "name": "stderr",
     "output_type": "stream",
     "text": [
      "100%|██████████| 153/153 [00:02<00:00, 52.77it/s]\n",
      " 72%|███████▏  | 144/200 [13:07<02:41,  2.88s/it]"
     ]
    },
    {
     "name": "stdout",
     "output_type": "stream",
     "text": [
      "Epoch 143, Loss: 0.7158657250061534\n"
     ]
    },
    {
     "name": "stderr",
     "output_type": "stream",
     "text": [
      "100%|██████████| 153/153 [00:02<00:00, 51.61it/s]\n",
      " 72%|███████▎  | 145/200 [13:10<02:39,  2.91s/it]"
     ]
    },
    {
     "name": "stdout",
     "output_type": "stream",
     "text": [
      "Epoch 144, Loss: 0.7157452749271019\n"
     ]
    },
    {
     "name": "stderr",
     "output_type": "stream",
     "text": [
      "100%|██████████| 153/153 [00:03<00:00, 50.12it/s]\n",
      " 73%|███████▎  | 146/200 [13:13<02:39,  2.95s/it]"
     ]
    },
    {
     "name": "stdout",
     "output_type": "stream",
     "text": [
      "Epoch 145, Loss: 0.7205245783126432\n"
     ]
    },
    {
     "name": "stderr",
     "output_type": "stream",
     "text": [
      "100%|██████████| 153/153 [00:03<00:00, 47.97it/s]\n",
      " 74%|███████▎  | 147/200 [13:16<02:40,  3.02s/it]"
     ]
    },
    {
     "name": "stdout",
     "output_type": "stream",
     "text": [
      "Epoch 146, Loss: 0.7186591177204855\n"
     ]
    },
    {
     "name": "stderr",
     "output_type": "stream",
     "text": [
      "100%|██████████| 153/153 [00:03<00:00, 50.34it/s]\n",
      " 74%|███████▍  | 148/200 [13:19<02:37,  3.03s/it]"
     ]
    },
    {
     "name": "stdout",
     "output_type": "stream",
     "text": [
      "Epoch 147, Loss: 0.71563033730376\n"
     ]
    },
    {
     "name": "stderr",
     "output_type": "stream",
     "text": [
      "100%|██████████| 153/153 [00:03<00:00, 50.38it/s]\n",
      " 74%|███████▍  | 149/200 [13:22<02:34,  3.03s/it]"
     ]
    },
    {
     "name": "stdout",
     "output_type": "stream",
     "text": [
      "Epoch 148, Loss: 0.7121044545391806\n"
     ]
    },
    {
     "name": "stderr",
     "output_type": "stream",
     "text": [
      "100%|██████████| 153/153 [00:03<00:00, 49.53it/s]\n",
      " 75%|███████▌  | 150/200 [13:25<02:32,  3.05s/it]"
     ]
    },
    {
     "name": "stdout",
     "output_type": "stream",
     "text": [
      "Epoch 149, Loss: 0.7120608071875728\n"
     ]
    },
    {
     "name": "stderr",
     "output_type": "stream",
     "text": [
      "100%|██████████| 153/153 [00:03<00:00, 47.69it/s]\n",
      " 76%|███████▌  | 151/200 [13:28<02:31,  3.10s/it]"
     ]
    },
    {
     "name": "stdout",
     "output_type": "stream",
     "text": [
      "Epoch 150, Loss: 0.7152474475841896\n"
     ]
    },
    {
     "name": "stderr",
     "output_type": "stream",
     "text": [
      "100%|██████████| 153/153 [00:03<00:00, 50.00it/s]\n",
      " 76%|███████▌  | 152/200 [13:31<02:28,  3.09s/it]"
     ]
    },
    {
     "name": "stdout",
     "output_type": "stream",
     "text": [
      "Epoch 151, Loss: 0.7116360033259672\n"
     ]
    },
    {
     "name": "stderr",
     "output_type": "stream",
     "text": [
      "100%|██████████| 153/153 [00:02<00:00, 51.13it/s]\n",
      " 76%|███████▋  | 153/200 [13:34<02:23,  3.06s/it]"
     ]
    },
    {
     "name": "stdout",
     "output_type": "stream",
     "text": [
      "Epoch 152, Loss: 0.715702749934851\n"
     ]
    },
    {
     "name": "stderr",
     "output_type": "stream",
     "text": [
      "100%|██████████| 153/153 [00:03<00:00, 49.38it/s]\n",
      " 77%|███████▋  | 154/200 [13:37<02:21,  3.07s/it]"
     ]
    },
    {
     "name": "stdout",
     "output_type": "stream",
     "text": [
      "Epoch 153, Loss: 0.7156522963561264\n"
     ]
    },
    {
     "name": "stderr",
     "output_type": "stream",
     "text": [
      "100%|██████████| 153/153 [00:03<00:00, 46.35it/s]\n",
      " 78%|███████▊  | 155/200 [13:41<02:21,  3.14s/it]"
     ]
    },
    {
     "name": "stdout",
     "output_type": "stream",
     "text": [
      "Epoch 154, Loss: 0.7181180805162667\n"
     ]
    },
    {
     "name": "stderr",
     "output_type": "stream",
     "text": [
      "100%|██████████| 153/153 [00:03<00:00, 47.04it/s]\n",
      " 78%|███████▊  | 156/200 [13:44<02:19,  3.17s/it]"
     ]
    },
    {
     "name": "stdout",
     "output_type": "stream",
     "text": [
      "Epoch 155, Loss: 0.732268507184546\n"
     ]
    },
    {
     "name": "stderr",
     "output_type": "stream",
     "text": [
      "100%|██████████| 153/153 [00:03<00:00, 49.92it/s]\n",
      " 78%|███████▊  | 157/200 [13:47<02:15,  3.14s/it]"
     ]
    },
    {
     "name": "stdout",
     "output_type": "stream",
     "text": [
      "Epoch 156, Loss: 0.7214544076545566\n"
     ]
    },
    {
     "name": "stderr",
     "output_type": "stream",
     "text": [
      "100%|██████████| 153/153 [00:03<00:00, 48.66it/s]\n",
      " 79%|███████▉  | 158/200 [13:50<02:12,  3.14s/it]"
     ]
    },
    {
     "name": "stdout",
     "output_type": "stream",
     "text": [
      "Epoch 157, Loss: 0.7198556326573191\n"
     ]
    },
    {
     "name": "stderr",
     "output_type": "stream",
     "text": [
      "100%|██████████| 153/153 [00:03<00:00, 46.39it/s]\n",
      " 80%|███████▉  | 159/200 [13:53<02:10,  3.19s/it]"
     ]
    },
    {
     "name": "stdout",
     "output_type": "stream",
     "text": [
      "Epoch 158, Loss: 0.7154834021150677\n"
     ]
    },
    {
     "name": "stderr",
     "output_type": "stream",
     "text": [
      "100%|██████████| 153/153 [00:03<00:00, 46.83it/s]\n",
      " 80%|████████  | 160/200 [13:57<02:08,  3.21s/it]"
     ]
    },
    {
     "name": "stdout",
     "output_type": "stream",
     "text": [
      "Epoch 159, Loss: 0.7150792257458556\n"
     ]
    },
    {
     "name": "stderr",
     "output_type": "stream",
     "text": [
      "100%|██████████| 153/153 [00:03<00:00, 46.27it/s]\n",
      " 80%|████████  | 161/200 [14:00<02:06,  3.24s/it]"
     ]
    },
    {
     "name": "stdout",
     "output_type": "stream",
     "text": [
      "Epoch 160, Loss: 0.7117624547746446\n"
     ]
    },
    {
     "name": "stderr",
     "output_type": "stream",
     "text": [
      "100%|██████████| 153/153 [00:03<00:00, 47.85it/s]\n",
      " 81%|████████  | 162/200 [14:03<02:02,  3.23s/it]"
     ]
    },
    {
     "name": "stdout",
     "output_type": "stream",
     "text": [
      "Epoch 161, Loss: 0.707612085576151\n"
     ]
    },
    {
     "name": "stderr",
     "output_type": "stream",
     "text": [
      "100%|██████████| 153/153 [00:03<00:00, 48.45it/s]\n",
      " 82%|████████▏ | 163/200 [14:06<01:58,  3.21s/it]"
     ]
    },
    {
     "name": "stdout",
     "output_type": "stream",
     "text": [
      "Epoch 162, Loss: 0.705597765305463\n"
     ]
    },
    {
     "name": "stderr",
     "output_type": "stream",
     "text": [
      "100%|██████████| 153/153 [00:03<00:00, 48.51it/s]\n",
      " 82%|████████▏ | 164/200 [14:10<01:54,  3.19s/it]"
     ]
    },
    {
     "name": "stdout",
     "output_type": "stream",
     "text": [
      "Epoch 163, Loss: 0.7063438315796696\n"
     ]
    },
    {
     "name": "stderr",
     "output_type": "stream",
     "text": [
      "100%|██████████| 153/153 [00:03<00:00, 44.44it/s]\n",
      " 82%|████████▎ | 165/200 [14:13<01:54,  3.27s/it]"
     ]
    },
    {
     "name": "stdout",
     "output_type": "stream",
     "text": [
      "Epoch 164, Loss: 0.7072800273209615\n"
     ]
    },
    {
     "name": "stderr",
     "output_type": "stream",
     "text": [
      "100%|██████████| 153/153 [00:03<00:00, 46.01it/s]\n",
      " 83%|████████▎ | 166/200 [14:16<01:51,  3.29s/it]"
     ]
    },
    {
     "name": "stdout",
     "output_type": "stream",
     "text": [
      "Epoch 165, Loss: 0.7130754948441499\n"
     ]
    },
    {
     "name": "stderr",
     "output_type": "stream",
     "text": [
      "100%|██████████| 153/153 [00:03<00:00, 42.63it/s]\n",
      " 84%|████████▎ | 167/200 [14:20<01:51,  3.38s/it]"
     ]
    },
    {
     "name": "stdout",
     "output_type": "stream",
     "text": [
      "Epoch 166, Loss: 0.7034040175232232\n"
     ]
    },
    {
     "name": "stderr",
     "output_type": "stream",
     "text": [
      "100%|██████████| 153/153 [00:03<00:00, 46.04it/s]\n",
      " 84%|████████▍ | 168/200 [14:23<01:47,  3.36s/it]"
     ]
    },
    {
     "name": "stdout",
     "output_type": "stream",
     "text": [
      "Epoch 167, Loss: 0.7042723492859235\n"
     ]
    },
    {
     "name": "stderr",
     "output_type": "stream",
     "text": [
      "100%|██████████| 153/153 [00:03<00:00, 46.77it/s]\n",
      " 84%|████████▍ | 169/200 [14:26<01:43,  3.34s/it]"
     ]
    },
    {
     "name": "stdout",
     "output_type": "stream",
     "text": [
      "Epoch 168, Loss: 0.7028341963400249\n"
     ]
    },
    {
     "name": "stderr",
     "output_type": "stream",
     "text": [
      "100%|██████████| 153/153 [00:03<00:00, 44.54it/s]\n",
      " 85%|████████▌ | 170/200 [14:30<01:40,  3.37s/it]"
     ]
    },
    {
     "name": "stdout",
     "output_type": "stream",
     "text": [
      "Epoch 169, Loss: 0.7006057812497507\n"
     ]
    },
    {
     "name": "stderr",
     "output_type": "stream",
     "text": [
      "100%|██████████| 153/153 [00:03<00:00, 41.96it/s]\n",
      " 86%|████████▌ | 171/200 [14:34<01:40,  3.45s/it]"
     ]
    },
    {
     "name": "stdout",
     "output_type": "stream",
     "text": [
      "Epoch 170, Loss: 0.7046076238544938\n"
     ]
    },
    {
     "name": "stderr",
     "output_type": "stream",
     "text": [
      "100%|██████████| 153/153 [00:03<00:00, 44.36it/s]\n",
      " 86%|████████▌ | 172/200 [14:37<01:36,  3.45s/it]"
     ]
    },
    {
     "name": "stdout",
     "output_type": "stream",
     "text": [
      "Epoch 171, Loss: 0.7059860989159229\n"
     ]
    },
    {
     "name": "stderr",
     "output_type": "stream",
     "text": [
      "100%|██████████| 153/153 [00:03<00:00, 46.17it/s]\n",
      " 86%|████████▋ | 173/200 [14:40<01:32,  3.41s/it]"
     ]
    },
    {
     "name": "stdout",
     "output_type": "stream",
     "text": [
      "Epoch 172, Loss: 0.7008882733731489\n"
     ]
    },
    {
     "name": "stderr",
     "output_type": "stream",
     "text": [
      "100%|██████████| 153/153 [00:03<00:00, 46.13it/s]\n",
      " 87%|████████▋ | 174/200 [14:44<01:27,  3.38s/it]"
     ]
    },
    {
     "name": "stdout",
     "output_type": "stream",
     "text": [
      "Epoch 173, Loss: 0.7004652323286518\n"
     ]
    },
    {
     "name": "stderr",
     "output_type": "stream",
     "text": [
      "100%|██████████| 153/153 [00:03<00:00, 45.57it/s]\n",
      " 88%|████████▊ | 175/200 [14:47<01:24,  3.38s/it]"
     ]
    },
    {
     "name": "stdout",
     "output_type": "stream",
     "text": [
      "Epoch 174, Loss: 0.7009695483968149\n"
     ]
    },
    {
     "name": "stderr",
     "output_type": "stream",
     "text": [
      "100%|██████████| 153/153 [00:03<00:00, 47.87it/s]\n",
      " 88%|████████▊ | 176/200 [14:50<01:19,  3.32s/it]"
     ]
    },
    {
     "name": "stdout",
     "output_type": "stream",
     "text": [
      "Epoch 175, Loss: 0.7026927097170961\n"
     ]
    },
    {
     "name": "stderr",
     "output_type": "stream",
     "text": [
      "100%|██████████| 153/153 [00:03<00:00, 46.32it/s]\n",
      " 88%|████████▊ | 177/200 [14:54<01:16,  3.32s/it]"
     ]
    },
    {
     "name": "stdout",
     "output_type": "stream",
     "text": [
      "Epoch 176, Loss: 0.7021760632789212\n"
     ]
    },
    {
     "name": "stderr",
     "output_type": "stream",
     "text": [
      "100%|██████████| 153/153 [00:03<00:00, 46.49it/s]\n",
      " 89%|████████▉ | 178/200 [14:57<01:12,  3.31s/it]"
     ]
    },
    {
     "name": "stdout",
     "output_type": "stream",
     "text": [
      "Epoch 177, Loss: 0.7023666637395721\n"
     ]
    },
    {
     "name": "stderr",
     "output_type": "stream",
     "text": [
      "100%|██████████| 153/153 [00:03<00:00, 45.14it/s]\n",
      " 90%|████████▉ | 179/200 [15:00<01:10,  3.33s/it]"
     ]
    },
    {
     "name": "stdout",
     "output_type": "stream",
     "text": [
      "Epoch 178, Loss: 0.7054284121475968\n"
     ]
    },
    {
     "name": "stderr",
     "output_type": "stream",
     "text": [
      "100%|██████████| 153/153 [00:03<00:00, 44.96it/s]\n",
      " 90%|█████████ | 180/200 [15:04<01:07,  3.36s/it]"
     ]
    },
    {
     "name": "stdout",
     "output_type": "stream",
     "text": [
      "Epoch 179, Loss: 0.7010181963054183\n"
     ]
    },
    {
     "name": "stderr",
     "output_type": "stream",
     "text": [
      "100%|██████████| 153/153 [00:03<00:00, 46.59it/s]\n",
      " 90%|█████████ | 181/200 [15:07<01:03,  3.33s/it]"
     ]
    },
    {
     "name": "stdout",
     "output_type": "stream",
     "text": [
      "Epoch 180, Loss: 0.6997166626593646\n"
     ]
    },
    {
     "name": "stderr",
     "output_type": "stream",
     "text": [
      "100%|██████████| 153/153 [00:03<00:00, 46.04it/s]\n",
      " 91%|█████████ | 182/200 [15:10<00:59,  3.33s/it]"
     ]
    },
    {
     "name": "stdout",
     "output_type": "stream",
     "text": [
      "Epoch 181, Loss: 0.6984255013902203\n"
     ]
    },
    {
     "name": "stderr",
     "output_type": "stream",
     "text": [
      "100%|██████████| 153/153 [00:03<00:00, 46.64it/s]\n",
      " 92%|█████████▏| 183/200 [15:14<00:56,  3.32s/it]"
     ]
    },
    {
     "name": "stdout",
     "output_type": "stream",
     "text": [
      "Epoch 182, Loss: 0.6984924432498957\n"
     ]
    },
    {
     "name": "stderr",
     "output_type": "stream",
     "text": [
      "100%|██████████| 153/153 [00:03<00:00, 45.78it/s]\n",
      " 92%|█████████▏| 184/200 [15:17<00:53,  3.33s/it]"
     ]
    },
    {
     "name": "stdout",
     "output_type": "stream",
     "text": [
      "Epoch 183, Loss: 0.6991631758758445\n"
     ]
    },
    {
     "name": "stderr",
     "output_type": "stream",
     "text": [
      "100%|██████████| 153/153 [00:03<00:00, 44.79it/s]\n",
      " 92%|█████████▎| 185/200 [15:20<00:50,  3.35s/it]"
     ]
    },
    {
     "name": "stdout",
     "output_type": "stream",
     "text": [
      "Epoch 184, Loss: 0.695829327979119\n"
     ]
    },
    {
     "name": "stderr",
     "output_type": "stream",
     "text": [
      "100%|██████████| 153/153 [00:03<00:00, 44.50it/s]\n",
      " 93%|█████████▎| 186/200 [15:24<00:47,  3.38s/it]"
     ]
    },
    {
     "name": "stdout",
     "output_type": "stream",
     "text": [
      "Epoch 185, Loss: 0.6996850480441175\n"
     ]
    },
    {
     "name": "stderr",
     "output_type": "stream",
     "text": [
      "100%|██████████| 153/153 [00:03<00:00, 41.98it/s]\n",
      " 94%|█████████▎| 187/200 [15:27<00:44,  3.46s/it]"
     ]
    },
    {
     "name": "stdout",
     "output_type": "stream",
     "text": [
      "Epoch 186, Loss: 0.694774905450983\n"
     ]
    },
    {
     "name": "stderr",
     "output_type": "stream",
     "text": [
      "100%|██████████| 153/153 [00:03<00:00, 43.65it/s]\n",
      " 94%|█████████▍| 188/200 [15:31<00:41,  3.47s/it]"
     ]
    },
    {
     "name": "stdout",
     "output_type": "stream",
     "text": [
      "Epoch 187, Loss: 0.6941792357201669\n"
     ]
    },
    {
     "name": "stderr",
     "output_type": "stream",
     "text": [
      "100%|██████████| 153/153 [00:03<00:00, 44.38it/s]\n",
      " 94%|█████████▍| 189/200 [15:34<00:38,  3.47s/it]"
     ]
    },
    {
     "name": "stdout",
     "output_type": "stream",
     "text": [
      "Epoch 188, Loss: 0.6910290118136437\n"
     ]
    },
    {
     "name": "stderr",
     "output_type": "stream",
     "text": [
      "100%|██████████| 153/153 [00:03<00:00, 43.57it/s]\n",
      " 95%|█████████▌| 190/200 [15:38<00:34,  3.48s/it]"
     ]
    },
    {
     "name": "stdout",
     "output_type": "stream",
     "text": [
      "Epoch 189, Loss: 0.6908475032039717\n"
     ]
    },
    {
     "name": "stderr",
     "output_type": "stream",
     "text": [
      "100%|██████████| 153/153 [00:03<00:00, 44.27it/s]\n",
      " 96%|█████████▌| 191/200 [15:41<00:31,  3.47s/it]"
     ]
    },
    {
     "name": "stdout",
     "output_type": "stream",
     "text": [
      "Epoch 190, Loss: 0.6953227138207629\n"
     ]
    },
    {
     "name": "stderr",
     "output_type": "stream",
     "text": [
      "100%|██████████| 153/153 [00:03<00:00, 44.13it/s]\n",
      " 96%|█████████▌| 192/200 [15:45<00:27,  3.47s/it]"
     ]
    },
    {
     "name": "stdout",
     "output_type": "stream",
     "text": [
      "Epoch 191, Loss: 0.7040978444167991\n"
     ]
    },
    {
     "name": "stderr",
     "output_type": "stream",
     "text": [
      "100%|██████████| 153/153 [00:03<00:00, 44.96it/s]\n",
      " 96%|█████████▋| 193/200 [15:48<00:24,  3.45s/it]"
     ]
    },
    {
     "name": "stdout",
     "output_type": "stream",
     "text": [
      "Epoch 192, Loss: 0.70362968304578\n"
     ]
    },
    {
     "name": "stderr",
     "output_type": "stream",
     "text": [
      "100%|██████████| 153/153 [00:03<00:00, 42.83it/s]\n",
      " 97%|█████████▋| 194/200 [15:52<00:20,  3.49s/it]"
     ]
    },
    {
     "name": "stdout",
     "output_type": "stream",
     "text": [
      "Epoch 193, Loss: 0.7015036422442766\n"
     ]
    },
    {
     "name": "stderr",
     "output_type": "stream",
     "text": [
      "100%|██████████| 153/153 [00:03<00:00, 42.13it/s]\n",
      " 98%|█████████▊| 195/200 [15:55<00:17,  3.53s/it]"
     ]
    },
    {
     "name": "stdout",
     "output_type": "stream",
     "text": [
      "Epoch 194, Loss: 0.7019390382018744\n"
     ]
    },
    {
     "name": "stderr",
     "output_type": "stream",
     "text": [
      "100%|██████████| 153/153 [00:03<00:00, 43.96it/s]\n",
      " 98%|█████████▊| 196/200 [15:59<00:14,  3.52s/it]"
     ]
    },
    {
     "name": "stdout",
     "output_type": "stream",
     "text": [
      "Epoch 195, Loss: 0.7032642259317285\n"
     ]
    },
    {
     "name": "stderr",
     "output_type": "stream",
     "text": [
      "100%|██████████| 153/153 [00:03<00:00, 44.38it/s]\n",
      " 98%|█████████▊| 197/200 [16:02<00:10,  3.50s/it]"
     ]
    },
    {
     "name": "stdout",
     "output_type": "stream",
     "text": [
      "Epoch 196, Loss: 0.6958823056002847\n"
     ]
    },
    {
     "name": "stderr",
     "output_type": "stream",
     "text": [
      "100%|██████████| 153/153 [00:03<00:00, 44.79it/s]\n",
      " 99%|█████████▉| 198/200 [16:06<00:06,  3.47s/it]"
     ]
    },
    {
     "name": "stdout",
     "output_type": "stream",
     "text": [
      "Epoch 197, Loss: 0.6929686408416897\n"
     ]
    },
    {
     "name": "stderr",
     "output_type": "stream",
     "text": [
      "100%|██████████| 153/153 [00:03<00:00, 45.13it/s]\n",
      "100%|█████████▉| 199/200 [16:09<00:03,  3.45s/it]"
     ]
    },
    {
     "name": "stdout",
     "output_type": "stream",
     "text": [
      "Epoch 198, Loss: 0.6935134561233272\n"
     ]
    },
    {
     "name": "stderr",
     "output_type": "stream",
     "text": [
      "100%|██████████| 153/153 [00:03<00:00, 45.56it/s]\n",
      "100%|██████████| 200/200 [16:12<00:00,  4.86s/it]"
     ]
    },
    {
     "name": "stdout",
     "output_type": "stream",
     "text": [
      "Epoch 199, Loss: 0.6932118094824498\n"
     ]
    },
    {
     "name": "stderr",
     "output_type": "stream",
     "text": [
      "\n"
     ]
    }
   ],
   "source": [
    "model_trained = rennpa_train(train_ds, val_ds, model, 200, optimizer, criterion)"
   ]
  },
  {
   "cell_type": "markdown",
   "metadata": {},
   "source": [
    "### **Salva modelo treinado**"
   ]
  },
  {
   "cell_type": "code",
   "execution_count": 18,
   "metadata": {},
   "outputs": [],
   "source": [
    "rennpa_save(model,'model.pth')"
   ]
  },
  {
   "cell_type": "markdown",
   "metadata": {},
   "source": [
    "### **Roda modelo de forma pontual**"
   ]
  },
  {
   "cell_type": "code",
   "execution_count": 19,
   "metadata": {},
   "outputs": [
    {
     "name": "stdout",
     "output_type": "stream",
     "text": [
      "Predicted Label: 6\n"
     ]
    }
   ],
   "source": [
    "s = 140\n",
    "\n",
    "rennpa_validade(model_trained, val_ds[s])"
   ]
  },
  {
   "cell_type": "markdown",
   "metadata": {},
   "source": [
    "### **Calcula acuracia do modelo (F1 Score)**"
   ]
  },
  {
   "cell_type": "code",
   "execution_count": 20,
   "metadata": {},
   "outputs": [
    {
     "name": "stderr",
     "output_type": "stream",
     "text": [
      "100%|██████████| 9769/9769 [00:06<00:00, 1542.20it/s]"
     ]
    },
    {
     "name": "stdout",
     "output_type": "stream",
     "text": [
      "F1 Score is tensor(0.7513)\n"
     ]
    },
    {
     "name": "stderr",
     "output_type": "stream",
     "text": [
      "\n"
     ]
    }
   ],
   "source": [
    "rennpa_accuracy(model_trained, val_ds, 9)"
   ]
  },
  {
   "cell_type": "markdown",
   "metadata": {},
   "source": [
    "### **Plota matrix de confusão**"
   ]
  },
  {
   "cell_type": "code",
   "execution_count": 21,
   "metadata": {},
   "outputs": [
    {
     "name": "stderr",
     "output_type": "stream",
     "text": [
      "100%|██████████| 9769/9769 [00:06<00:00, 1551.71it/s]\n"
     ]
    },
    {
     "data": {
      "image/png": "[encoded data removed]",
      "text/plain": [
       "<Figure size 640x480 with 2 Axes>"
      ]
     },
     "metadata": {},
     "output_type": "display_data"
    }
   ],
   "source": [
    "rennpa_confusion_matrix(model_trained, val_ds)"
   ]
  },
  {
   "cell_type": "markdown",
   "metadata": {},
   "source": [
    "### **Abre uma gleba**"
   ]
  },
  {
   "cell_type": "code",
   "execution_count": 22,
   "metadata": {},
   "outputs": [],
   "source": [
    "import shapely.wkt\n",
    "\n",
    "gleba_polygon = shapely.wkt.loads(\"POLYGON ((-46.27456209961272 -12.652430633938323, -46.273968427698804 -12.652692678012613, -46.272936569372064 -12.651037658288033, -46.271749225544966 -12.648955076555083, -46.27059015180788 -12.646900062031833, -46.27027918080549 -12.646320793205092, -46.27104247326605 -12.645686354411424, -46.27480239538724 -12.65236167492651, -46.27456209961272 -12.652430633938323))\")"
   ]
  },
  {
   "cell_type": "code",
   "execution_count": 23,
   "metadata": {},
   "outputs": [
    {
     "data": {
      "image/png": "[encoded data removed]",
      "text/plain": [
       "<Figure size 640x480 with 1 Axes>"
      ]
     },
     "metadata": {},
     "output_type": "display_data"
    }
   ],
   "source": [
    "rennpa_plot_pts_region(gleba_polygon,[])"
   ]
  },
  {
   "cell_type": "markdown",
   "metadata": {},
   "source": [
    "### **Aplica função para extração dos centroids de cada um dos pixels da gleba**"
   ]
  },
  {
   "cell_type": "code",
   "execution_count": 24,
   "metadata": {},
   "outputs": [
    {
     "name": "stderr",
     "output_type": "stream",
     "text": [
      "/Library/Frameworks/Python.framework/Versions/3.12/lib/python3.12/site-packages/rennpa/rennpa.py:369: FutureWarning: This function is deprecated. See: https://pyproj4.github.io/pyproj/stable/gotchas.html#upgrading-to-pyproj-2-from-pyproj-1\n",
      "  x1, y1 = pyproj.transform(pyproj.CRS.from_epsg(4326), pyproj.CRS.from_wkt(BDC_PROJ), minx, miny, always_xy=True)\n",
      "/Library/Frameworks/Python.framework/Versions/3.12/lib/python3.12/site-packages/rennpa/rennpa.py:370: FutureWarning: This function is deprecated. See: https://pyproj4.github.io/pyproj/stable/gotchas.html#upgrading-to-pyproj-2-from-pyproj-1\n",
      "  x2, y2 = pyproj.transform(pyproj.CRS.from_epsg(4326), pyproj.CRS.from_wkt(BDC_PROJ), maxx, maxy, always_xy=True)\n"
     ]
    }
   ],
   "source": [
    "points = rennpa_get_pixels_from_polygon(gleba_polygon)"
   ]
  },
  {
   "cell_type": "code",
   "execution_count": 25,
   "metadata": {},
   "outputs": [
    {
     "data": {
      "image/png": "[encoded data removed]",
      "text/plain": [
       "<Figure size 640x480 with 1 Axes>"
      ]
     },
     "metadata": {},
     "output_type": "display_data"
    }
   ],
   "source": [
    "rennpa_plot_pts_region(gleba_polygon,points)"
   ]
  },
  {
   "cell_type": "code",
   "execution_count": 26,
   "metadata": {},
   "outputs": [
    {
     "name": "stderr",
     "output_type": "stream",
     "text": [
      "/Library/Frameworks/Python.framework/Versions/3.12/lib/python3.12/site-packages/rennpa/rennpa.py:391: FutureWarning: This function is deprecated. See: https://pyproj4.github.io/pyproj/stable/gotchas.html#upgrading-to-pyproj-2-from-pyproj-1\n",
      "  x1, y1 = pyproj.transform(pyproj.CRS.from_epsg(4326), pyproj.CRS.from_wkt(BDC_PROJ), minx, miny, always_xy=True)\n",
      "/Library/Frameworks/Python.framework/Versions/3.12/lib/python3.12/site-packages/rennpa/rennpa.py:392: FutureWarning: This function is deprecated. See: https://pyproj4.github.io/pyproj/stable/gotchas.html#upgrading-to-pyproj-2-from-pyproj-1\n",
      "  x2, y2 = pyproj.transform(pyproj.CRS.from_epsg(4326), pyproj.CRS.from_wkt(BDC_PROJ), maxx, maxy, always_xy=True)\n"
     ]
    }
   ],
   "source": [
    "region = rennpa_get_pixels_from_bounds(gleba_polygon)"
   ]
  },
  {
   "cell_type": "markdown",
   "metadata": {},
   "source": [
    "### **Executa classificação da gleba usando modelo**"
   ]
  },
  {
   "cell_type": "code",
   "execution_count": 27,
   "metadata": {},
   "outputs": [
    {
     "name": "stderr",
     "output_type": "stream",
     "text": [
      "100%|██████████| 854/854 [30:10<00:00,  2.12s/it]\n",
      "100%|██████████| 854/854 [00:00<00:00, 1181.46it/s]\n",
      "100%|██████████| 3850/3850 [00:00<00:00, 57288.87it/s]\n",
      "/Library/Frameworks/Python.framework/Versions/3.12/lib/python3.12/site-packages/pyproj/crs/crs.py:141: FutureWarning: '+init=<authority>:<code>' syntax is deprecated. '<authority>:<code>' is the preferred initialization method. When making the change, be mindful of axis order changes: https://pyproj4.github.io/pyproj/stable/gotchas.html#axis-order-changes-in-proj-6\n",
      "  in_crs_string = _prepare_from_proj_string(in_crs_string)\n"
     ]
    }
   ],
   "source": [
    "xr_classification = rennpa_classify(cube, points, region, model)"
   ]
  },
  {
   "cell_type": "code",
   "execution_count": 28,
   "metadata": {},
   "outputs": [
    {
     "data": {
      "text/html": [
       "<div><svg style=\"position: absolute; width: 0; height: 0; overflow: hidden\">\n",
       "<defs>\n",
       "<symbol id=\"icon-database\" viewBox=\"0 0 32 32\">\n",
       "<path d=\"M16 0c-8.837 0-16 2.239-16 5v4c0 2.761 7.163 5 16 5s16-2.239 16-5v-4c0-2.761-7.163-5-16-5z\"></path>\n",
       "<path d=\"M16 17c-8.837 0-16-2.239-16-5v6c0 2.761 7.163 5 16 5s16-2.239 16-5v-6c0 2.761-7.163 5-16 5z\"></path>\n",
       "<path d=\"M16 26c-8.837 0-16-2.239-16-5v6c0 2.761 7.163 5 16 5s16-2.239 16-5v-6c0 2.761-7.163 5-16 5z\"></path>\n",
       "</symbol>\n",
       "<symbol id=\"icon-file-text2\" viewBox=\"0 0 32 32\">\n",
       "<path d=\"M28.681 7.159c-0.694-0.947-1.662-2.053-2.724-3.116s-2.169-2.030-3.116-2.724c-1.612-1.182-2.393-1.319-2.841-1.319h-15.5c-1.378 0-2.5 1.121-2.5 2.5v27c0 1.378 1.122 2.5 2.5 2.5h23c1.378 0 2.5-1.122 2.5-2.5v-19.5c0-0.448-0.137-1.23-1.319-2.841zM24.543 5.457c0.959 0.959 1.712 1.825 2.268 2.543h-4.811v-4.811c0.718 0.556 1.584 1.309 2.543 2.268zM28 29.5c0 0.271-0.229 0.5-0.5 0.5h-23c-0.271 0-0.5-0.229-0.5-0.5v-27c0-0.271 0.229-0.5 0.5-0.5 0 0 15.499-0 15.5 0v7c0 0.552 0.448 1 1 1h7v19.5z\"></path>\n",
       "<path d=\"M23 26h-14c-0.552 0-1-0.448-1-1s0.448-1 1-1h14c0.552 0 1 0.448 1 1s-0.448 1-1 1z\"></path>\n",
       "<path d=\"M23 22h-14c-0.552 0-1-0.448-1-1s0.448-1 1-1h14c0.552 0 1 0.448 1 1s-0.448 1-1 1z\"></path>\n",
       "<path d=\"M23 18h-14c-0.552 0-1-0.448-1-1s0.448-1 1-1h14c0.552 0 1 0.448 1 1s-0.448 1-1 1z\"></path>\n",
       "</symbol>\n",
       "</defs>\n",
       "</svg>\n",
       "<style>/* CSS stylesheet for displaying xarray objects in jupyterlab.\n",
       " *\n",
       " */\n",
       "\n",
       ":root {\n",
       "  --xr-font-color0: var(--jp-content-font-color0, rgba(0, 0, 0, 1));\n",
       "  --xr-font-color2: var(--jp-content-font-color2, rgba(0, 0, 0, 0.54));\n",
       "  --xr-font-color3: var(--jp-content-font-color3, rgba(0, 0, 0, 0.38));\n",
       "  --xr-border-color: var(--jp-border-color2, #e0e0e0);\n",
       "  --xr-disabled-color: var(--jp-layout-color3, #bdbdbd);\n",
       "  --xr-background-color: var(--jp-layout-color0, white);\n",
       "  --xr-background-color-row-even: var(--jp-layout-color1, white);\n",
       "  --xr-background-color-row-odd: var(--jp-layout-color2, #eeeeee);\n",
       "}\n",
       "\n",
       "html[theme=dark],\n",
       "body[data-theme=dark],\n",
       "body.vscode-dark {\n",
       "  --xr-font-color0: rgba(255, 255, 255, 1);\n",
       "  --xr-font-color2: rgba(255, 255, 255, 0.54);\n",
       "  --xr-font-color3: rgba(255, 255, 255, 0.38);\n",
       "  --xr-border-color: #1F1F1F;\n",
       "  --xr-disabled-color: #515151;\n",
       "  --xr-background-color: #111111;\n",
       "  --xr-background-color-row-even: #111111;\n",
       "  --xr-background-color-row-odd: #313131;\n",
       "}\n",
       "\n",
       ".xr-wrap {\n",
       "  display: block !important;\n",
       "  min-width: 300px;\n",
       "  max-width: 700px;\n",
       "}\n",
       "\n",
       ".xr-text-repr-fallback {\n",
       "  /* fallback to plain text repr when CSS is not injected (untrusted notebook) */\n",
       "  display: none;\n",
       "}\n",
       "\n",
       ".xr-header {\n",
       "  padding-top: 6px;\n",
       "  padding-bottom: 6px;\n",
       "  margin-bottom: 4px;\n",
       "  border-bottom: solid 1px var(--xr-border-color);\n",
       "}\n",
       "\n",
       ".xr-header > div,\n",
       ".xr-header > ul {\n",
       "  display: inline;\n",
       "  margin-top: 0;\n",
       "  margin-bottom: 0;\n",
       "}\n",
       "\n",
       ".xr-obj-type,\n",
       ".xr-array-name {\n",
       "  margin-left: 2px;\n",
       "  margin-right: 10px;\n",
       "}\n",
       "\n",
       ".xr-obj-type {\n",
       "  color: var(--xr-font-color2);\n",
       "}\n",
       "\n",
       ".xr-sections {\n",
       "  padding-left: 0 !important;\n",
       "  display: grid;\n",
       "  grid-template-columns: 150px auto auto 1fr 20px 20px;\n",
       "}\n",
       "\n",
       ".xr-section-item {\n",
       "  display: contents;\n",
       "}\n",
       "\n",
       ".xr-section-item input {\n",
       "  display: none;\n",
       "}\n",
       "\n",
       ".xr-section-item input + label {\n",
       "  color: var(--xr-disabled-color);\n",
       "}\n",
       "\n",
       ".xr-section-item input:enabled + label {\n",
       "  cursor: pointer;\n",
       "  color: var(--xr-font-color2);\n",
       "}\n",
       "\n",
       ".xr-section-item input:enabled + label:hover {\n",
       "  color: var(--xr-font-color0);\n",
       "}\n",
       "\n",
       ".xr-section-summary {\n",
       "  grid-column: 1;\n",
       "  color: var(--xr-font-color2);\n",
       "  font-weight: 500;\n",
       "}\n",
       "\n",
       ".xr-section-summary > span {\n",
       "  display: inline-block;\n",
       "  padding-left: 0.5em;\n",
       "}\n",
       "\n",
       ".xr-section-summary-in:disabled + label {\n",
       "  color: var(--xr-font-color2);\n",
       "}\n",
       "\n",
       ".xr-section-summary-in + label:before {\n",
       "  display: inline-block;\n",
       "  content: '►';\n",
       "  font-size: 11px;\n",
       "  width: 15px;\n",
       "  text-align: center;\n",
       "}\n",
       "\n",
       ".xr-section-summary-in:disabled + label:before {\n",
       "  color: var(--xr-disabled-color);\n",
       "}\n",
       "\n",
       ".xr-section-summary-in:checked + label:before {\n",
       "  content: '▼';\n",
       "}\n",
       "\n",
       ".xr-section-summary-in:checked + label > span {\n",
       "  display: none;\n",
       "}\n",
       "\n",
       ".xr-section-summary,\n",
       ".xr-section-inline-details {\n",
       "  padding-top: 4px;\n",
       "  padding-bottom: 4px;\n",
       "}\n",
       "\n",
       ".xr-section-inline-details {\n",
       "  grid-column: 2 / -1;\n",
       "}\n",
       "\n",
       ".xr-section-details {\n",
       "  display: none;\n",
       "  grid-column: 1 / -1;\n",
       "  margin-bottom: 5px;\n",
       "}\n",
       "\n",
       ".xr-section-summary-in:checked ~ .xr-section-details {\n",
       "  display: contents;\n",
       "}\n",
       "\n",
       ".xr-array-wrap {\n",
       "  grid-column: 1 / -1;\n",
       "  display: grid;\n",
       "  grid-template-columns: 20px auto;\n",
       "}\n",
       "\n",
       ".xr-array-wrap > label {\n",
       "  grid-column: 1;\n",
       "  vertical-align: top;\n",
       "}\n",
       "\n",
       ".xr-preview {\n",
       "  color: var(--xr-font-color3);\n",
       "}\n",
       "\n",
       ".xr-array-preview,\n",
       ".xr-array-data {\n",
       "  padding: 0 5px !important;\n",
       "  grid-column: 2;\n",
       "}\n",
       "\n",
       ".xr-array-data,\n",
       ".xr-array-in:checked ~ .xr-array-preview {\n",
       "  display: none;\n",
       "}\n",
       "\n",
       ".xr-array-in:checked ~ .xr-array-data,\n",
       ".xr-array-preview {\n",
       "  display: inline-block;\n",
       "}\n",
       "\n",
       ".xr-dim-list {\n",
       "  display: inline-block !important;\n",
       "  list-style: none;\n",
       "  padding: 0 !important;\n",
       "  margin: 0;\n",
       "}\n",
       "\n",
       ".xr-dim-list li {\n",
       "  display: inline-block;\n",
       "  padding: 0;\n",
       "  margin: 0;\n",
       "}\n",
       "\n",
       ".xr-dim-list:before {\n",
       "  content: '(';\n",
       "}\n",
       "\n",
       ".xr-dim-list:after {\n",
       "  content: ')';\n",
       "}\n",
       "\n",
       ".xr-dim-list li:not(:last-child):after {\n",
       "  content: ',';\n",
       "  padding-right: 5px;\n",
       "}\n",
       "\n",
       ".xr-has-index {\n",
       "  font-weight: bold;\n",
       "}\n",
       "\n",
       ".xr-var-list,\n",
       ".xr-var-item {\n",
       "  display: contents;\n",
       "}\n",
       "\n",
       ".xr-var-item > div,\n",
       ".xr-var-item label,\n",
       ".xr-var-item > .xr-var-name span {\n",
       "  background-color: var(--xr-background-color-row-even);\n",
       "  margin-bottom: 0;\n",
       "}\n",
       "\n",
       ".xr-var-item > .xr-var-name:hover span {\n",
       "  padding-right: 5px;\n",
       "}\n",
       "\n",
       ".xr-var-list > li:nth-child(odd) > div,\n",
       ".xr-var-list > li:nth-child(odd) > label,\n",
       ".xr-var-list > li:nth-child(odd) > .xr-var-name span {\n",
       "  background-color: var(--xr-background-color-row-odd);\n",
       "}\n",
       "\n",
       ".xr-var-name {\n",
       "  grid-column: 1;\n",
       "}\n",
       "\n",
       ".xr-var-dims {\n",
       "  grid-column: 2;\n",
       "}\n",
       "\n",
       ".xr-var-dtype {\n",
       "  grid-column: 3;\n",
       "  text-align: right;\n",
       "  color: var(--xr-font-color2);\n",
       "}\n",
       "\n",
       ".xr-var-preview {\n",
       "  grid-column: 4;\n",
       "}\n",
       "\n",
       ".xr-index-preview {\n",
       "  grid-column: 2 / 5;\n",
       "  color: var(--xr-font-color2);\n",
       "}\n",
       "\n",
       ".xr-var-name,\n",
       ".xr-var-dims,\n",
       ".xr-var-dtype,\n",
       ".xr-preview,\n",
       ".xr-attrs dt {\n",
       "  white-space: nowrap;\n",
       "  overflow: hidden;\n",
       "  text-overflow: ellipsis;\n",
       "  padding-right: 10px;\n",
       "}\n",
       "\n",
       ".xr-var-name:hover,\n",
       ".xr-var-dims:hover,\n",
       ".xr-var-dtype:hover,\n",
       ".xr-attrs dt:hover {\n",
       "  overflow: visible;\n",
       "  width: auto;\n",
       "  z-index: 1;\n",
       "}\n",
       "\n",
       ".xr-var-attrs,\n",
       ".xr-var-data,\n",
       ".xr-index-data {\n",
       "  display: none;\n",
       "  background-color: var(--xr-background-color) !important;\n",
       "  padding-bottom: 5px !important;\n",
       "}\n",
       "\n",
       ".xr-var-attrs-in:checked ~ .xr-var-attrs,\n",
       ".xr-var-data-in:checked ~ .xr-var-data,\n",
       ".xr-index-data-in:checked ~ .xr-index-data {\n",
       "  display: block;\n",
       "}\n",
       "\n",
       ".xr-var-data > table {\n",
       "  float: right;\n",
       "}\n",
       "\n",
       ".xr-var-name span,\n",
       ".xr-var-data,\n",
       ".xr-index-name div,\n",
       ".xr-index-data,\n",
       ".xr-attrs {\n",
       "  padding-left: 25px !important;\n",
       "}\n",
       "\n",
       ".xr-attrs,\n",
       ".xr-var-attrs,\n",
       ".xr-var-data,\n",
       ".xr-index-data {\n",
       "  grid-column: 1 / -1;\n",
       "}\n",
       "\n",
       "dl.xr-attrs {\n",
       "  padding: 0;\n",
       "  margin: 0;\n",
       "  display: grid;\n",
       "  grid-template-columns: 125px auto;\n",
       "}\n",
       "\n",
       ".xr-attrs dt,\n",
       ".xr-attrs dd {\n",
       "  padding: 0;\n",
       "  margin: 0;\n",
       "  float: left;\n",
       "  padding-right: 10px;\n",
       "  width: auto;\n",
       "}\n",
       "\n",
       ".xr-attrs dt {\n",
       "  font-weight: normal;\n",
       "  grid-column: 1;\n",
       "}\n",
       "\n",
       ".xr-attrs dt:hover span {\n",
       "  display: inline-block;\n",
       "  background: var(--xr-background-color);\n",
       "  padding-right: 10px;\n",
       "}\n",
       "\n",
       ".xr-attrs dd {\n",
       "  grid-column: 2;\n",
       "  white-space: pre-wrap;\n",
       "  word-break: break-all;\n",
       "}\n",
       "\n",
       ".xr-icon-database,\n",
       ".xr-icon-file-text2,\n",
       ".xr-no-icon {\n",
       "  display: inline-block;\n",
       "  vertical-align: middle;\n",
       "  width: 1em;\n",
       "  height: 1.5em !important;\n",
       "  stroke-width: 0;\n",
       "  stroke: currentColor;\n",
       "  fill: currentColor;\n",
       "}\n",
       "</style><pre class='xr-text-repr-fallback'>&lt;xarray.Dataset&gt; Size: 32kB\n",
       "Dimensions:    (x: 50, y: 77, band: 1, time: 1)\n",
       "Coordinates:\n",
       "  * x          (x) float64 400B -46.27 -46.27 -46.27 ... -46.27 -46.27 -46.27\n",
       "  * y          (y) float64 616B -12.65 -12.65 -12.65 ... -12.65 -12.65 -12.65\n",
       "  * time       (time) &lt;U4 16B &#x27;2023&#x27;\n",
       "  * band       (band) int64 8B 1\n",
       "Data variables:\n",
       "    band_data  (band, time, x, y) int64 31kB 9 9 9 9 9 9 9 9 ... 9 9 9 9 9 9 9 9</pre><div class='xr-wrap' style='display:none'><div class='xr-header'><div class='xr-obj-type'>xarray.Dataset</div></div><ul class='xr-sections'><li class='xr-section-item'><input id='section-aae0d1a4-c11b-461b-8341-975f7b4cd73c' class='xr-section-summary-in' type='checkbox' disabled ><label for='section-aae0d1a4-c11b-461b-8341-975f7b4cd73c' class='xr-section-summary'  title='Expand/collapse section'>Dimensions:</label><div class='xr-section-inline-details'><ul class='xr-dim-list'><li><span class='xr-has-index'>x</span>: 50</li><li><span class='xr-has-index'>y</span>: 77</li><li><span class='xr-has-index'>band</span>: 1</li><li><span class='xr-has-index'>time</span>: 1</li></ul></div><div class='xr-section-details'></div></li><li class='xr-section-item'><input id='section-48942f6a-d3b9-421d-b6c4-bec10d73b91f' class='xr-section-summary-in' type='checkbox'  checked><label for='section-48942f6a-d3b9-421d-b6c4-bec10d73b91f' class='xr-section-summary' >Coordinates: <span>(4)</span></label><div class='xr-section-inline-details'></div><div class='xr-section-details'><ul class='xr-var-list'><li class='xr-var-item'><div class='xr-var-name'><span class='xr-has-index'>x</span></div><div class='xr-var-dims'>(x)</div><div class='xr-var-dtype'>float64</div><div class='xr-var-preview xr-preview'>-46.27 -46.27 ... -46.27 -46.27</div><input id='attrs-3f8b4e6a-360e-40d5-a603-f7dfc7bb4f0c' class='xr-var-attrs-in' type='checkbox' disabled><label for='attrs-3f8b4e6a-360e-40d5-a603-f7dfc7bb4f0c' title='Show/Hide attributes'><svg class='icon xr-icon-file-text2'><use xlink:href='#icon-file-text2'></use></svg></label><input id='data-c5fc5d3b-ed6c-4e8f-b358-9812c9cc3700' class='xr-var-data-in' type='checkbox'><label for='data-c5fc5d3b-ed6c-4e8f-b358-9812c9cc3700' title='Show/Hide data repr'><svg class='icon xr-icon-database'><use xlink:href='#icon-database'></use></svg></label><div class='xr-var-attrs'><dl class='xr-attrs'></dl></div><div class='xr-var-data'><pre>array([-46.274802, -46.27471 , -46.274618, -46.274525, -46.274433, -46.274341,\n",
       "       -46.274249, -46.274156, -46.274064, -46.273972, -46.273879, -46.273787,\n",
       "       -46.273695, -46.273602, -46.27351 , -46.273418, -46.273325, -46.273233,\n",
       "       -46.273141, -46.273048, -46.272956, -46.272864, -46.272772, -46.272679,\n",
       "       -46.272587, -46.272495, -46.272402, -46.27231 , -46.272218, -46.272125,\n",
       "       -46.272033, -46.271941, -46.271848, -46.271756, -46.271664, -46.271572,\n",
       "       -46.271479, -46.271387, -46.271295, -46.271202, -46.27111 , -46.271018,\n",
       "       -46.270925, -46.270833, -46.270741, -46.270648, -46.270556, -46.270464,\n",
       "       -46.270371, -46.270279])</pre></div></li><li class='xr-var-item'><div class='xr-var-name'><span class='xr-has-index'>y</span></div><div class='xr-var-dims'>(y)</div><div class='xr-var-dtype'>float64</div><div class='xr-var-preview xr-preview'>-12.65 -12.65 ... -12.65 -12.65</div><input id='attrs-ab2deb37-6b1d-4cf8-9f58-80c8a5c0aa0d' class='xr-var-attrs-in' type='checkbox' disabled><label for='attrs-ab2deb37-6b1d-4cf8-9f58-80c8a5c0aa0d' title='Show/Hide attributes'><svg class='icon xr-icon-file-text2'><use xlink:href='#icon-file-text2'></use></svg></label><input id='data-24ca0921-7140-4c20-a144-4820ab6a03c4' class='xr-var-data-in' type='checkbox'><label for='data-24ca0921-7140-4c20-a144-4820ab6a03c4' title='Show/Hide data repr'><svg class='icon xr-icon-database'><use xlink:href='#icon-database'></use></svg></label><div class='xr-var-attrs'><dl class='xr-attrs'></dl></div><div class='xr-var-data'><pre>array([-12.652693, -12.6526  , -12.652508, -12.652416, -12.652324, -12.652232,\n",
       "       -12.65214 , -12.652047, -12.651955, -12.651863, -12.651771, -12.651679,\n",
       "       -12.651586, -12.651494, -12.651402, -12.65131 , -12.651218, -12.651125,\n",
       "       -12.651033, -12.650941, -12.650849, -12.650757, -12.650665, -12.650572,\n",
       "       -12.65048 , -12.650388, -12.650296, -12.650204, -12.650111, -12.650019,\n",
       "       -12.649927, -12.649835, -12.649743, -12.64965 , -12.649558, -12.649466,\n",
       "       -12.649374, -12.649282, -12.64919 , -12.649097, -12.649005, -12.648913,\n",
       "       -12.648821, -12.648729, -12.648636, -12.648544, -12.648452, -12.64836 ,\n",
       "       -12.648268, -12.648175, -12.648083, -12.647991, -12.647899, -12.647807,\n",
       "       -12.647715, -12.647622, -12.64753 , -12.647438, -12.647346, -12.647254,\n",
       "       -12.647161, -12.647069, -12.646977, -12.646885, -12.646793, -12.6467  ,\n",
       "       -12.646608, -12.646516, -12.646424, -12.646332, -12.646239, -12.646147,\n",
       "       -12.646055, -12.645963, -12.645871, -12.645779, -12.645686])</pre></div></li><li class='xr-var-item'><div class='xr-var-name'><span class='xr-has-index'>time</span></div><div class='xr-var-dims'>(time)</div><div class='xr-var-dtype'>&lt;U4</div><div class='xr-var-preview xr-preview'>&#x27;2023&#x27;</div><input id='attrs-0303c025-d180-481b-83ba-546489302b03' class='xr-var-attrs-in' type='checkbox' disabled><label for='attrs-0303c025-d180-481b-83ba-546489302b03' title='Show/Hide attributes'><svg class='icon xr-icon-file-text2'><use xlink:href='#icon-file-text2'></use></svg></label><input id='data-85c18455-273b-47fc-9963-da942bdc83be' class='xr-var-data-in' type='checkbox'><label for='data-85c18455-273b-47fc-9963-da942bdc83be' title='Show/Hide data repr'><svg class='icon xr-icon-database'><use xlink:href='#icon-database'></use></svg></label><div class='xr-var-attrs'><dl class='xr-attrs'></dl></div><div class='xr-var-data'><pre>array([&#x27;2023&#x27;], dtype=&#x27;&lt;U4&#x27;)</pre></div></li><li class='xr-var-item'><div class='xr-var-name'><span class='xr-has-index'>band</span></div><div class='xr-var-dims'>(band)</div><div class='xr-var-dtype'>int64</div><div class='xr-var-preview xr-preview'>1</div><input id='attrs-e6189b9e-af31-4ccf-a5da-06828e2ab8a5' class='xr-var-attrs-in' type='checkbox' disabled><label for='attrs-e6189b9e-af31-4ccf-a5da-06828e2ab8a5' title='Show/Hide attributes'><svg class='icon xr-icon-file-text2'><use xlink:href='#icon-file-text2'></use></svg></label><input id='data-86bcc8b3-1588-42cb-9e8d-2f7b88b5a3fd' class='xr-var-data-in' type='checkbox'><label for='data-86bcc8b3-1588-42cb-9e8d-2f7b88b5a3fd' title='Show/Hide data repr'><svg class='icon xr-icon-database'><use xlink:href='#icon-database'></use></svg></label><div class='xr-var-attrs'><dl class='xr-attrs'></dl></div><div class='xr-var-data'><pre>array([1])</pre></div></li></ul></div></li><li class='xr-section-item'><input id='section-60b7d201-d992-4142-a782-d953e638f1fc' class='xr-section-summary-in' type='checkbox'  checked><label for='section-60b7d201-d992-4142-a782-d953e638f1fc' class='xr-section-summary' >Data variables: <span>(1)</span></label><div class='xr-section-inline-details'></div><div class='xr-section-details'><ul class='xr-var-list'><li class='xr-var-item'><div class='xr-var-name'><span>band_data</span></div><div class='xr-var-dims'>(band, time, x, y)</div><div class='xr-var-dtype'>int64</div><div class='xr-var-preview xr-preview'>9 9 9 9 9 9 9 9 ... 9 9 9 9 9 9 9 9</div><input id='attrs-5451841b-66f2-4720-a6ef-88776ef5edd4' class='xr-var-attrs-in' type='checkbox' disabled><label for='attrs-5451841b-66f2-4720-a6ef-88776ef5edd4' title='Show/Hide attributes'><svg class='icon xr-icon-file-text2'><use xlink:href='#icon-file-text2'></use></svg></label><input id='data-09f9287f-174f-4fac-8e7b-616c54ca5e4a' class='xr-var-data-in' type='checkbox'><label for='data-09f9287f-174f-4fac-8e7b-616c54ca5e4a' title='Show/Hide data repr'><svg class='icon xr-icon-database'><use xlink:href='#icon-database'></use></svg></label><div class='xr-var-attrs'><dl class='xr-attrs'></dl></div><div class='xr-var-data'><pre>array([[[[9, 9, 9, ..., 9, 9, 9],\n",
       "         [9, 9, 9, ..., 9, 9, 9],\n",
       "         [9, 9, 9, ..., 9, 9, 9],\n",
       "         ...,\n",
       "         [9, 9, 9, ..., 9, 9, 9],\n",
       "         [9, 9, 9, ..., 9, 9, 9],\n",
       "         [9, 9, 9, ..., 9, 9, 9]]]])</pre></div></li></ul></div></li><li class='xr-section-item'><input id='section-bf624e2b-f606-493c-ad52-4e81db8b5b38' class='xr-section-summary-in' type='checkbox'  ><label for='section-bf624e2b-f606-493c-ad52-4e81db8b5b38' class='xr-section-summary' >Indexes: <span>(4)</span></label><div class='xr-section-inline-details'></div><div class='xr-section-details'><ul class='xr-var-list'><li class='xr-var-item'><div class='xr-index-name'><div>x</div></div><div class='xr-index-preview'>PandasIndex</div><div></div><input id='index-711e76f6-864a-43ef-98f3-65dbae473972' class='xr-index-data-in' type='checkbox'/><label for='index-711e76f6-864a-43ef-98f3-65dbae473972' title='Show/Hide index repr'><svg class='icon xr-icon-database'><use xlink:href='#icon-database'></use></svg></label><div class='xr-index-data'><pre>PandasIndex(Index([ -46.27480239538724,  -46.27471008488557, -46.274617774383906,\n",
       "       -46.274525463882235,  -46.27443315338056,   -46.2743408428789,\n",
       "        -46.27424853237723, -46.274156221875565, -46.274063911373894,\n",
       "        -46.27397160087222,  -46.27387929037056,  -46.27378697986889,\n",
       "        -46.27369466936722,  -46.27360235886555,  -46.27351004836388,\n",
       "        -46.27341773786222,  -46.27332542736055, -46.273233116858876,\n",
       "        -46.27314080635721,  -46.27304849585554,  -46.27295618535387,\n",
       "       -46.272863874852206, -46.272771564350535, -46.272679253848864,\n",
       "         -46.2725869433472,  -46.27249463284553, -46.272402322343865,\n",
       "       -46.272310011842194,  -46.27221770134052,  -46.27212539083886,\n",
       "        -46.27203308033719,  -46.27194076983552,  -46.27184845933385,\n",
       "        -46.27175614883218,  -46.27166383833051,  -46.27157152782885,\n",
       "       -46.271479217327176,  -46.27138690682551,  -46.27129459632384,\n",
       "        -46.27120228582217, -46.271109975320506, -46.271017664818835,\n",
       "       -46.270925354317164,   -46.2708330438155,  -46.27074073331383,\n",
       "       -46.270648422812165, -46.270556112310494,  -46.27046380180882,\n",
       "        -46.27037149130716,  -46.27027918080549],\n",
       "      dtype=&#x27;float64&#x27;, name=&#x27;x&#x27;))</pre></div></li><li class='xr-var-item'><div class='xr-index-name'><div>y</div></div><div class='xr-index-preview'>PandasIndex</div><div></div><input id='index-6fab2f11-1309-4825-835f-ccadd4005f7c' class='xr-index-data-in' type='checkbox'/><label for='index-6fab2f11-1309-4825-835f-ccadd4005f7c' title='Show/Hide index repr'><svg class='icon xr-icon-database'><use xlink:href='#icon-database'></use></svg></label><div class='xr-index-data'><pre>PandasIndex(Index([-12.652692678012613, -12.652600489544177,  -12.65250830107574,\n",
       "       -12.652416112607304, -12.652323924138866,  -12.65223173567043,\n",
       "       -12.652139547201992, -12.652047358733556,  -12.65195517026512,\n",
       "       -12.651862981796683, -12.651770793328247, -12.651678604859809,\n",
       "       -12.651586416391373, -12.651494227922937,   -12.6514020394545,\n",
       "       -12.651309850986063, -12.651217662517626,  -12.65112547404919,\n",
       "       -12.651033285580752, -12.650941097112316,  -12.65084890864388,\n",
       "       -12.650756720175442, -12.650664531707006, -12.650572343238569,\n",
       "       -12.650480154770133, -12.650387966301695, -12.650295777833259,\n",
       "       -12.650203589364823, -12.650111400896385,  -12.65001921242795,\n",
       "       -12.649927023959512, -12.649834835491076,  -12.64974264702264,\n",
       "       -12.649650458554202, -12.649558270085766, -12.649466081617328,\n",
       "       -12.649373893148892, -12.649281704680455, -12.649189516212019,\n",
       "       -12.649097327743583, -12.649005139275145, -12.648912950806709,\n",
       "       -12.648820762338271, -12.648728573869835, -12.648636385401398,\n",
       "       -12.648544196932962, -12.648452008464526, -12.648359819996088,\n",
       "       -12.648267631527652, -12.648175443059214, -12.648083254590778,\n",
       "       -12.647991066122342, -12.647898877653905, -12.647806689185469,\n",
       "       -12.647714500717031, -12.647622312248595, -12.647530123780157,\n",
       "       -12.647437935311721, -12.647345746843285, -12.647253558374848,\n",
       "       -12.647161369906412, -12.647069181437974, -12.646976992969538,\n",
       "         -12.6468848045011, -12.646792616032664, -12.646700427564229,\n",
       "        -12.64660823909579, -12.646516050627355, -12.646423862158917,\n",
       "       -12.646331673690481, -12.646239485222045, -12.646147296753607,\n",
       "       -12.646055108285172, -12.645962919816734, -12.645870731348298,\n",
       "        -12.64577854287986, -12.645686354411424],\n",
       "      dtype=&#x27;float64&#x27;, name=&#x27;y&#x27;))</pre></div></li><li class='xr-var-item'><div class='xr-index-name'><div>time</div></div><div class='xr-index-preview'>PandasIndex</div><div></div><input id='index-1c23de71-7d2d-413f-ac74-d25e7294da54' class='xr-index-data-in' type='checkbox'/><label for='index-1c23de71-7d2d-413f-ac74-d25e7294da54' title='Show/Hide index repr'><svg class='icon xr-icon-database'><use xlink:href='#icon-database'></use></svg></label><div class='xr-index-data'><pre>PandasIndex(Index([&#x27;2023&#x27;], dtype=&#x27;object&#x27;, name=&#x27;time&#x27;))</pre></div></li><li class='xr-var-item'><div class='xr-index-name'><div>band</div></div><div class='xr-index-preview'>PandasIndex</div><div></div><input id='index-ae45e118-4e35-42cc-b926-d4c1c1ad4cb6' class='xr-index-data-in' type='checkbox'/><label for='index-ae45e118-4e35-42cc-b926-d4c1c1ad4cb6' title='Show/Hide index repr'><svg class='icon xr-icon-database'><use xlink:href='#icon-database'></use></svg></label><div class='xr-index-data'><pre>PandasIndex(Index([1], dtype=&#x27;int64&#x27;, name=&#x27;band&#x27;))</pre></div></li></ul></div></li><li class='xr-section-item'><input id='section-2c49186d-28ac-46f6-8ab5-b9d694946dbe' class='xr-section-summary-in' type='checkbox' disabled ><label for='section-2c49186d-28ac-46f6-8ab5-b9d694946dbe' class='xr-section-summary'  title='Expand/collapse section'>Attributes: <span>(0)</span></label><div class='xr-section-inline-details'></div><div class='xr-section-details'><dl class='xr-attrs'></dl></div></li></ul></div></div>"
      ],
      "text/plain": [
       "<xarray.Dataset> Size: 32kB\n",
       "Dimensions:    (x: 50, y: 77, band: 1, time: 1)\n",
       "Coordinates:\n",
       "  * x          (x) float64 400B -46.27 -46.27 -46.27 ... -46.27 -46.27 -46.27\n",
       "  * y          (y) float64 616B -12.65 -12.65 -12.65 ... -12.65 -12.65 -12.65\n",
       "  * time       (time) <U4 16B '2023'\n",
       "  * band       (band) int64 8B 1\n",
       "Data variables:\n",
       "    band_data  (band, time, x, y) int64 31kB 9 9 9 9 9 9 9 9 ... 9 9 9 9 9 9 9 9"
      ]
     },
     "execution_count": 28,
     "metadata": {},
     "output_type": "execute_result"
    }
   ],
   "source": [
    "xr_classification"
   ]
  },
  {
   "cell_type": "code",
   "execution_count": 29,
   "metadata": {},
   "outputs": [
    {
     "data": {
      "image/png": "[encoded data removed]",
      "text/plain": [
       "<Figure size 640x480 with 2 Axes>"
      ]
     },
     "metadata": {},
     "output_type": "display_data"
    }
   ],
   "source": [
    "rennpa_plot_classification(xr_classification)"
   ]
  }
 ],
 "metadata": {
  "kernelspec": {
   "display_name": "Python 3",
   "language": "python",
   "name": "python3"
  },
  "language_info": {
   "codemirror_mode": {
    "name": "ipython",
    "version": 3
   },
   "file_extension": ".py",
   "mimetype": "text/x-python",
   "name": "python",
   "nbconvert_exporter": "python",
   "pygments_lexer": "ipython3",
   "version": "3.12.3"
  }
 },
 "nbformat": 4,
 "nbformat_minor": 2
}
